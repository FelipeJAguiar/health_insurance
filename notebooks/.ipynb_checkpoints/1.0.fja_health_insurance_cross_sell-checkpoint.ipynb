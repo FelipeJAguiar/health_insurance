{
 "cells": [
  {
   "cell_type": "markdown",
   "id": "4a0f6a85",
   "metadata": {},
   "source": [
    "# 0.0 IMPORTS"
   ]
  },
  {
   "cell_type": "code",
   "execution_count": 1,
   "id": "87aaefda",
   "metadata": {},
   "outputs": [
    {
     "name": "stderr",
     "output_type": "stream",
     "text": [
      "C:\\Users\\PICHAU\\anaconda3\\envs\\pa_hi\\lib\\site-packages\\tqdm\\auto.py:22: TqdmWarning: IProgress not found. Please update jupyter and ipywidgets. See https://ipywidgets.readthedocs.io/en/stable/user_install.html\n",
      "  from .autonotebook import tqdm as notebook_tqdm\n"
     ]
    }
   ],
   "source": [
    "import optuna\n",
    "import warnings\n",
    "import pickle\n",
    "\n",
    "import pandas     as pd\n",
    "import numpy      as np\n",
    "import seaborn    as sns\n",
    "import scikitplot as skplt\n",
    "\n",
    "from xgboost         import XGBClassifier \n",
    "from lightgbm        import LGBMClassifier \n",
    "from optuna.samplers import TPESampler\n",
    "from sklearn.metrics import accuracy_score, classification_report\n",
    "\n",
    "from scipy      import stats           as ss\n",
    "from matplotlib import pyplot          as plt\n",
    "from sklearn    import ensemble        as en\n",
    "from sklearn    import neighbors       as nh\n",
    "from sklearn    import linear_model    as lm\n",
    "from sklearn    import preprocessing   as pp\n",
    "from sklearn    import model_selection as ms"
   ]
  },
  {
   "cell_type": "markdown",
   "id": "56d65eed",
   "metadata": {},
   "source": [
    "## 0.1 Helper functions"
   ]
  },
  {
   "cell_type": "code",
   "execution_count": 2,
   "id": "661b771d",
   "metadata": {},
   "outputs": [],
   "source": [
    "def cramer_v(x, y):\n",
    "    cm = pd.crosstab(x, y).values\n",
    "    n = cm.sum()\n",
    "    r, k = cm.shape\n",
    "    chi2 = ss.chi2_contingency(cm)[0]\n",
    "    chi2corr = max(0, chi2 - (k-1)*(r-1)/(n-1))\n",
    "    kcorr = k - (k-1)**2/(n-1)\n",
    "    rcorr = r - (r-1)**2/(n-1)\n",
    "    return np.sqrt((chi2corr/n) / ( min( kcorr-1, rcorr-1 )))\n",
    "\n",
    "\n",
    "def precision_at_k (data, k):\n",
    "    #reset index\n",
    "    data = data.reset_index(drop=True)\n",
    "\n",
    "    #create ranking order\n",
    "    data['ranking'] = data.index + 1\n",
    "\n",
    "    #create precision at k\n",
    "    data['precision_at_k'] = data['Response'].cumsum() / data['ranking']\n",
    "    \n",
    "    return data.loc[k, 'precision_at_k']\n",
    "\n",
    "\n",
    "def recall_at_k (data, k):\n",
    "    #reset index\n",
    "    data = data.reset_index(drop=True)\n",
    "\n",
    "    #create ranking order\n",
    "    data['ranking'] = data.index + 1\n",
    "\n",
    "    #create recall at k\n",
    "    data['recall_at_k'] = data['Response'].cumsum() / data['Response'].sum()\n",
    "    \n",
    "    return data.loc[k, 'recall_at_k']\n",
    "\n",
    "\n",
    "def resultssp(data, yhat, yhat1, model_name, k):\n",
    "    \n",
    "    data['score'] = yhat[:, 1].tolist()\n",
    "    data = data.sort_values('score', ascending=False)\n",
    "    \n",
    "    # precision_at_k\n",
    "    precision_k = precision_at_k(data, k)\n",
    "    # recall_at_k\n",
    "    recall_k = recall_at_k(data, k)\n",
    "    \n",
    "    accuracy = accuracy_score(y_val, yhat1)\n",
    "    \n",
    "    return pd.DataFrame({'Precision @k': precision_k, \n",
    "                         'Recall @k': recall_k,\n",
    "                         'Accuracy': accuracy}, index=[model_name])\n",
    "\n",
    "\n",
    "def cg_curve(yhat, y_val):    \n",
    "    cgc = pd.DataFrame()\n",
    "    cgc['prediction'] = yhat[:,1].tolist()\n",
    "    cgc['real'] = y_val.tolist()\n",
    "\n",
    "    # ordering by prediction\n",
    "    cgc = cgc.sort_values('prediction', ascending=False)\n",
    "\n",
    "    # Percentage of intereset ( Propensity Score )\n",
    "    cgc['real_cum'] = cgc['real'].cumsum() \n",
    "    cgc['real_cum_perc'] = 100*cgc['real_cum']/cgc['real'].sum()\n",
    "\n",
    "    # Percentage of Base ( Clients )\n",
    "    cgc['base'] = range(1, len(cgc) + 1)\n",
    "    cgc['base_cum_perc'] = 100*cgc['base']/len(cgc)\n",
    "    \n",
    "    # Basline model\n",
    "    cgc['baseline'] = cgc['base_cum_perc']\n",
    "    \n",
    "    return cgc\n",
    "\n",
    "\n",
    "\n",
    "def cross_validation(model_name, model, x_train, y_train, k, verbose=False):\n",
    "    precision_k_list = []\n",
    "    recall_k_list = []\n",
    "    \n",
    "    kfs = ms.StratifiedKFold(n_splits=5, shuffle=True, random_state=5)\n",
    "    \n",
    "    for cv_train, cv_val in kfs.split(x_train, y_train):\n",
    "        \n",
    "        xtrain_val = x_train.iloc[cv_train]\n",
    "        ytrain_val = y_train.iloc[cv_train]\n",
    "        \n",
    "        xval = x_train.iloc[cv_val]\n",
    "        yval = y_train.iloc[cv_val]\n",
    "        \n",
    "        # model\n",
    "        model.fit(xtrain_val, ytrain_val)\n",
    "\n",
    "        # prediction\n",
    "        yhat = model.predict_proba(xval)\n",
    "        yhat1 = model.predict(xval)\n",
    "        \n",
    "        # training and validation dataset\n",
    "        data = xval.copy()\n",
    "        data['Response'] = yval.copy()\n",
    "\n",
    "        #propensity score\n",
    "        data['score'] = yhat[:, 1].tolist()\n",
    "\n",
    "        data = data.sort_values('score', ascending = False)\n",
    "\n",
    "        # performance\n",
    "        precision_k = precision_at_k(data, k)\n",
    "        precision_k_list.append(precision_k)\n",
    "        \n",
    "        recall_k = recall_at_k(data, k)\n",
    "        recall_k_list.append(recall_k)\n",
    "        \n",
    "        acc = accuracy_score(yval, yhat1)\n",
    "        \n",
    "    return pd.DataFrame({'Precision @k CV': np.round(np.mean(precision_k_list), 3),\n",
    "                         'Recall @k CV': np.round(np.mean(recall_k_list), 3),\n",
    "                         'Accuracy': np.round(np.mean(acc), 3)},index=[model_name])\n",
    "\n",
    "def jupyter_settings():\n",
    "    %matplotlib inline\n",
    "    %pylab inline\n",
    "    plt.style.use('bmh')\n",
    "    plt.rcParams['figure.figsize'] = [25, 12]\n",
    "    plt.rcParams['font.size'] = 24\n",
    "    display( HTML('<style>.container { width:100% !important; }</style>'))\n",
    "    pd.options.display.max_columns = None\n",
    "    pd.options.display.max_rows = None\n",
    "    pd.set_option('display.expand_frame_repr', False)\n",
    "    sns.set()"
   ]
  },
  {
   "cell_type": "code",
   "execution_count": 3,
   "id": "f4b784c5",
   "metadata": {},
   "outputs": [],
   "source": [
    "warnings.filterwarnings('ignore')"
   ]
  },
  {
   "cell_type": "code",
   "execution_count": null,
   "id": "7640d989",
   "metadata": {},
   "outputs": [],
   "source": [
    "jupyter_settings()"
   ]
  },
  {
   "cell_type": "markdown",
   "id": "2c056dff",
   "metadata": {},
   "source": [
    "## 0.2 Loading dataset"
   ]
  },
  {
   "cell_type": "code",
   "execution_count": 4,
   "id": "e65653ae",
   "metadata": {},
   "outputs": [],
   "source": [
    "df_raw = pd.read_csv(\"C:/Users/PICHAU/repos/pa_hi/pa_hi/data/raw/train.csv\")"
   ]
  },
  {
   "cell_type": "code",
   "execution_count": null,
   "id": "06c89ebf",
   "metadata": {},
   "outputs": [],
   "source": [
    "df_raw.head(10)"
   ]
  },
  {
   "cell_type": "markdown",
   "id": "1fcd6fa9",
   "metadata": {},
   "source": [
    "# 1.0 Data Description"
   ]
  },
  {
   "cell_type": "code",
   "execution_count": 5,
   "id": "93175d5b",
   "metadata": {},
   "outputs": [],
   "source": [
    "df1 = df_raw.copy()"
   ]
  },
  {
   "cell_type": "markdown",
   "id": "66bda3d7",
   "metadata": {},
   "source": [
    "## 1.1 Data info"
   ]
  },
  {
   "cell_type": "code",
   "execution_count": null,
   "id": "79cdd20b",
   "metadata": {},
   "outputs": [],
   "source": [
    "df1.info()"
   ]
  },
  {
   "cell_type": "markdown",
   "id": "67bf4630",
   "metadata": {},
   "source": [
    "## 1.2 Check NA's"
   ]
  },
  {
   "cell_type": "code",
   "execution_count": null,
   "id": "9f714dfc",
   "metadata": {},
   "outputs": [],
   "source": [
    "df1.isna().sum()"
   ]
  },
  {
   "cell_type": "markdown",
   "id": "69175e23",
   "metadata": {},
   "source": [
    "## 1.3 Descriptive statisc"
   ]
  },
  {
   "cell_type": "code",
   "execution_count": null,
   "id": "ddf9e2d5",
   "metadata": {},
   "outputs": [],
   "source": [
    "num_attributes = df1.select_dtypes( include=['int64', 'float64'] )\n",
    "cat_attributes = df1.select_dtypes( exclude=['int64', 'float64', 'datetime64[ns]'] )"
   ]
  },
  {
   "cell_type": "markdown",
   "id": "80b6fb30",
   "metadata": {},
   "source": [
    "### 1.3.1 Numerical attributes"
   ]
  },
  {
   "cell_type": "code",
   "execution_count": null,
   "id": "1ebaf5b9",
   "metadata": {},
   "outputs": [],
   "source": [
    "# Central Tendency - mean, meadina\n",
    "ct1 = pd.DataFrame( num_attributes.apply( np.mean ) ).T\n",
    "ct2 = pd.DataFrame( num_attributes.apply( np.median ) ).T\n",
    "\n",
    "# dispersion - std, min, max, range, skew, kurtosis\n",
    "d1 = pd.DataFrame( num_attributes.apply( np.std ) ).T\n",
    "d2 = pd.DataFrame( num_attributes.apply( min ) ).T\n",
    "d3 = pd.DataFrame( num_attributes.apply( max ) ).T\n",
    "d4 = pd.DataFrame( num_attributes.apply( lambda x: x.max() - x.min() ) ).T\n",
    "d5 = pd.DataFrame( num_attributes.apply( lambda x: x.skew() ) ).T\n",
    "d6 = pd.DataFrame( num_attributes.apply( lambda x: x.kurtosis() ) ).T\n",
    "\n",
    "# concatenar\n",
    "m = pd.concat( [d2, d3, d4, ct1, ct2, d1, d5, d6] ).T.reset_index()\n",
    "m.columns = ['attributes', 'min', 'max', 'range', 'mean', 'median', 'std', 'skew', 'kurtosis']\n",
    "m"
   ]
  },
  {
   "cell_type": "markdown",
   "id": "7d440aed",
   "metadata": {},
   "source": [
    "# 2.0 Feature Engineering"
   ]
  },
  {
   "cell_type": "code",
   "execution_count": 6,
   "id": "9344ce8b",
   "metadata": {},
   "outputs": [],
   "source": [
    "df2 = df1.copy()"
   ]
  },
  {
   "cell_type": "code",
   "execution_count": 7,
   "id": "cd37432f",
   "metadata": {},
   "outputs": [
    {
     "data": {
      "text/plain": [
       "array(['> 2 Years', '1-2 Year', '< 1 Year'], dtype=object)"
      ]
     },
     "execution_count": 7,
     "metadata": {},
     "output_type": "execute_result"
    }
   ],
   "source": [
    "df2['Vehicle_Age'].unique()"
   ]
  },
  {
   "cell_type": "code",
   "execution_count": 8,
   "id": "bfbac4aa",
   "metadata": {},
   "outputs": [],
   "source": [
    "df2['Vehicle_Age'] = df2['Vehicle_Age'].apply(lambda x: 'over_2_years'      if x== '> 2 Years' else\n",
    "                                                        'between_1_2_years' if x== '1-2 Year'  else \n",
    "                                                        'below_1_year')"
   ]
  },
  {
   "cell_type": "code",
   "execution_count": 9,
   "id": "4a78aaa3",
   "metadata": {},
   "outputs": [
    {
     "data": {
      "text/plain": [
       "array(['Yes', 'No'], dtype=object)"
      ]
     },
     "execution_count": 9,
     "metadata": {},
     "output_type": "execute_result"
    }
   ],
   "source": [
    "df2['Vehicle_Damage'].unique()"
   ]
  },
  {
   "cell_type": "code",
   "execution_count": 10,
   "id": "d51f61f3",
   "metadata": {},
   "outputs": [],
   "source": [
    "df2['Vehicle_Damage'] = df2['Vehicle_Damage'].apply(lambda x: 1 if x== 'Yes' else 0)"
   ]
  },
  {
   "cell_type": "markdown",
   "id": "de3605e3",
   "metadata": {},
   "source": [
    "# 3.0 Data Filtering"
   ]
  },
  {
   "cell_type": "code",
   "execution_count": 11,
   "id": "617eff05",
   "metadata": {},
   "outputs": [],
   "source": [
    "df3 = df2.copy()"
   ]
  },
  {
   "cell_type": "markdown",
   "id": "83658c00",
   "metadata": {},
   "source": [
    "# 4.0 EDA"
   ]
  },
  {
   "cell_type": "code",
   "execution_count": 12,
   "id": "2974147a",
   "metadata": {},
   "outputs": [],
   "source": [
    "df4 = df3.copy()"
   ]
  },
  {
   "cell_type": "markdown",
   "id": "8244c6a2",
   "metadata": {},
   "source": [
    "## 4.1 Univariate analysis"
   ]
  },
  {
   "cell_type": "code",
   "execution_count": null,
   "id": "84ebced5",
   "metadata": {},
   "outputs": [],
   "source": [
    "df4.columns"
   ]
  },
  {
   "cell_type": "code",
   "execution_count": null,
   "id": "648907ab",
   "metadata": {},
   "outputs": [],
   "source": [
    "#Age\n",
    "sns.boxplot(x='Response',y='Age',data=df4)"
   ]
  },
  {
   "cell_type": "code",
   "execution_count": null,
   "id": "30eb4db3",
   "metadata": {},
   "outputs": [],
   "source": [
    "aux0 = df4.loc[df4['Response']==0, 'Age']\n",
    "sns.histplot(aux0)"
   ]
  },
  {
   "cell_type": "code",
   "execution_count": null,
   "id": "b9d23ea6",
   "metadata": {},
   "outputs": [],
   "source": [
    "aux0 = df4.loc[df4['Response']==1, 'Age']\n",
    "sns.histplot(aux0)"
   ]
  },
  {
   "cell_type": "code",
   "execution_count": null,
   "id": "d60e0402",
   "metadata": {},
   "outputs": [],
   "source": [
    "#Gender\n",
    "df4[['Gender', 'Response']].value_counts().reset_index()"
   ]
  },
  {
   "cell_type": "code",
   "execution_count": null,
   "id": "ea097501",
   "metadata": {},
   "outputs": [],
   "source": [
    "#Driving_License\n",
    "aux = df4[['Driving_License','Response']].groupby('Response').sum().reset_index()\n",
    "aux"
   ]
  },
  {
   "cell_type": "code",
   "execution_count": null,
   "id": "72f4db5b",
   "metadata": {},
   "outputs": [],
   "source": [
    "#Region_Code\n",
    "aux0 = df4[['id', 'Region_Code', 'Response']].groupby(['Region_Code','Response']).count().reset_index()\n",
    "sns.scatterplot (x='Region_Code', y='id', hue='Response', data=aux0)"
   ]
  },
  {
   "cell_type": "code",
   "execution_count": null,
   "id": "b9e47605",
   "metadata": {},
   "outputs": [],
   "source": [
    "#Previously_Insured\n",
    "pd.crosstab(df4['Previously_Insured'], df4['Response'])"
   ]
  },
  {
   "cell_type": "code",
   "execution_count": null,
   "id": "3b4eb508",
   "metadata": {},
   "outputs": [],
   "source": [
    "#Vehicle_Age\n",
    "df4[['Vehicle_Age','Response']].value_counts(normalize=True).reset_index()\n",
    "# in percentage"
   ]
  },
  {
   "cell_type": "code",
   "execution_count": null,
   "id": "3e549a0a",
   "metadata": {},
   "outputs": [],
   "source": [
    "#Vehicle_Damage\n",
    "df4[['Vehicle_Damage', 'Response']].value_counts().reset_index()"
   ]
  },
  {
   "cell_type": "code",
   "execution_count": null,
   "id": "8f5f1ffd",
   "metadata": {},
   "outputs": [],
   "source": [
    "#Annual_Premium\n",
    "aux = df4[df4['Annual_Premium'] < 80000]\n",
    "sns.boxplot(x='Response',y='Annual_Premium',data=aux)"
   ]
  },
  {
   "cell_type": "code",
   "execution_count": null,
   "id": "5bfd4441",
   "metadata": {},
   "outputs": [],
   "source": [
    "aux = df4[(df4['Annual_Premium'] > 10000) & (df4['Annual_Premium'] < 80000)]\n",
    "aux0 = aux.loc[aux['Response']==1, 'Annual_Premium']\n",
    "sns.histplot(aux0)"
   ]
  },
  {
   "cell_type": "code",
   "execution_count": null,
   "id": "2727efe0",
   "metadata": {},
   "outputs": [],
   "source": [
    "aux = df4[(df4['Annual_Premium'] > 10000) & (df4['Annual_Premium'] < 80000)]\n",
    "aux0 = aux.loc[aux['Response']==0, 'Annual_Premium']\n",
    "sns.histplot(aux0)"
   ]
  },
  {
   "cell_type": "code",
   "execution_count": null,
   "id": "909fddea",
   "metadata": {},
   "outputs": [],
   "source": [
    "#Policy_Sales_Channel\n",
    "aux = df4[['Policy_Sales_Channel','Response']].groupby('Policy_Sales_Channel').sum().reset_index()\n",
    "sns.barplot(x='Response', y='Policy_Sales_Channel', data= aux)"
   ]
  },
  {
   "cell_type": "code",
   "execution_count": null,
   "id": "6ea110d7",
   "metadata": {},
   "outputs": [],
   "source": [
    "#Vintage\n",
    "sns.boxplot(x='Response',y='Vintage',data=df4)"
   ]
  },
  {
   "cell_type": "code",
   "execution_count": null,
   "id": "59201112",
   "metadata": {},
   "outputs": [],
   "source": [
    "aux0 = df4.loc[df4['Response']==1, 'Vintage']\n",
    "sns.histplot(aux0)"
   ]
  },
  {
   "cell_type": "code",
   "execution_count": null,
   "id": "82c433c2",
   "metadata": {},
   "outputs": [],
   "source": [
    "aux0 = df4.loc[df4['Response']==0, 'Vintage']\n",
    "sns.histplot(aux0)"
   ]
  },
  {
   "cell_type": "markdown",
   "id": "2b35274e",
   "metadata": {},
   "source": [
    "## 4.2 Bivariate analysis"
   ]
  },
  {
   "cell_type": "markdown",
   "id": "558623a7",
   "metadata": {},
   "source": [
    "### 4.2.1 Hypothesis"
   ]
  },
  {
   "cell_type": "markdown",
   "id": "bdd191f9",
   "metadata": {},
   "source": [
    "<b>H1</b>: Owners of newers vehicles are more interested in taking out insurance.\n",
    "\n",
    "<b>FALSE</b>: Owners of vehicles that are between 1 and 2 years, are more interested in taking out insurance."
   ]
  },
  {
   "cell_type": "code",
   "execution_count": null,
   "id": "9d7878cc",
   "metadata": {},
   "outputs": [],
   "source": [
    "aux1 = df4[['Response','Vehicle_Age']][df4['Response']==1].groupby('Vehicle_Age').count().reset_index()\n",
    "sns.barplot(x='Vehicle_Age', y='Response', data=aux1)"
   ]
  },
  {
   "cell_type": "markdown",
   "id": "f5c6a043",
   "metadata": {},
   "source": [
    "<b>H2</b>: Owners of damaged vehicles are more interested in taking out insurance.\n",
    "\n",
    "<b>TRUE</b>: Owners of damaged vehicles are really much more interested in taking out insurance."
   ]
  },
  {
   "cell_type": "code",
   "execution_count": null,
   "id": "fe6c3915",
   "metadata": {},
   "outputs": [],
   "source": [
    "aux1 = df4[['Response','Vehicle_Damage']][df4['Response']==1].groupby('Vehicle_Damage').count().reset_index()\n",
    "sns.barplot(x='Vehicle_Damage', y='Response', data=aux1)"
   ]
  },
  {
   "cell_type": "markdown",
   "id": "c9e83e6b",
   "metadata": {},
   "source": [
    "<b>H3</b>: Women are more interested in taking out insurance.\n",
    "\n",
    "<b>FALSE</b>: Men are more interested in taking out insurance."
   ]
  },
  {
   "cell_type": "code",
   "execution_count": null,
   "id": "9b63e1f1",
   "metadata": {},
   "outputs": [],
   "source": [
    "aux1 = df4[['Response','Gender']][df4['Response']==1].groupby('Gender').count().reset_index()\n",
    "sns.barplot(x='Gender', y='Response', data=aux1)"
   ]
  },
  {
   "cell_type": "markdown",
   "id": "543b9a76",
   "metadata": {},
   "source": [
    "<b>H4</b>: Young people are less interested in taking out insurance.\n",
    "\n",
    "<b>TRUE</b>: Young people are less interested in taking out insurance, comparing with other ages."
   ]
  },
  {
   "cell_type": "code",
   "execution_count": null,
   "id": "2f8b3198",
   "metadata": {},
   "outputs": [],
   "source": [
    "df_aux = df4.copy()\n",
    "df_aux['Age'] = df4['Age'].apply(lambda x: 'young' if x <=30 else\n",
    "                                           'middle'if x <=50 else\n",
    "                                           'old')\n",
    "\n",
    "aux1 = df_aux[['Response','Age']][df_aux['Response']==1].groupby('Age').count().reset_index()\n",
    "sns.barplot(x='Age', y='Response', data=aux1)"
   ]
  },
  {
   "cell_type": "markdown",
   "id": "d9014441",
   "metadata": {},
   "source": [
    "<b>H5</b>: More annual premium, more interested in taking out insurance.\n",
    "\n",
    "<b>FALSE</b>: People with an annual premium less than 50.000 dollars are more interested in taking out insurance."
   ]
  },
  {
   "cell_type": "code",
   "execution_count": null,
   "id": "883cb447",
   "metadata": {},
   "outputs": [],
   "source": [
    "x=df4['Annual_Premium'].min()\n",
    "y=df4['Annual_Premium'].max()\n",
    "w=df4['Annual_Premium'].mean()\n",
    "z=df4['Annual_Premium'].median()\n",
    "\n",
    "print('min:{}'.format(x),'max:{}'.format(y),'mean:{}'.format(w),'median:{}'.format(z))"
   ]
  },
  {
   "cell_type": "code",
   "execution_count": null,
   "id": "5a15e2d2",
   "metadata": {},
   "outputs": [],
   "source": [
    "df_aux = df4.copy()\n",
    "df_aux['Annual_Premium'] = df4['Annual_Premium'].apply(lambda x: '<=50k' if x <=50000 else\n",
    "                                                                 '<=150k' if x <=150000 else\n",
    "                                                                 '<=350k' if x <=350000 else\n",
    "                                                                 '<=450k' if x <=450000 else\n",
    "                                                                 '500k')\n",
    "\n",
    "aux1 = df_aux[['Response','Annual_Premium']][df_aux['Response']==1].groupby('Annual_Premium').count().reset_index()\n",
    "sns.barplot(x='Annual_Premium', y='Response', data=aux1)"
   ]
  },
  {
   "cell_type": "markdown",
   "id": "196905fc",
   "metadata": {},
   "source": [
    "<b>H6</b>: Customers that have 200 days or more contract time, are more interested in taking out insurance.\n",
    "\n",
    "<b>TRUE</b>: Customers that have 200 days or more contract time, are more interested in taking out insurance, comparing others customers."
   ]
  },
  {
   "cell_type": "code",
   "execution_count": null,
   "id": "8a5c9a71",
   "metadata": {},
   "outputs": [],
   "source": [
    "x=df4['Vintage'].min()\n",
    "y=df4['Vintage'].max()\n",
    "w=df4['Vintage'].mean()\n",
    "z=df4['Vintage'].median()\n",
    "\n",
    "print('min:{}'.format(x),'max:{}'.format(y),'mean:{}'.format(w),'median:{}'.format(z))"
   ]
  },
  {
   "cell_type": "code",
   "execution_count": null,
   "id": "07f5142a",
   "metadata": {},
   "outputs": [],
   "source": [
    "df_aux = df4.copy()\n",
    "df_aux['Vintage'] = df4['Vintage'].apply(lambda x: '0-90 days'    if x <=90 else\n",
    "                                                   '90-150 days'  if x <=150 else\n",
    "                                                   '150-200 days' if x <=200 else\n",
    "                                                   '200-299 days')\n",
    "\n",
    "aux1 = df_aux[['Response','Vintage']][df_aux['Response']==1].groupby('Vintage').count().reset_index()\n",
    "sns.barplot(x='Vintage', y='Response', data=aux1)"
   ]
  },
  {
   "cell_type": "markdown",
   "id": "b42533d9",
   "metadata": {},
   "source": [
    "## 4.2 Multvariate analysis "
   ]
  },
  {
   "cell_type": "markdown",
   "id": "c7f60e3f",
   "metadata": {},
   "source": [
    "### 4.2.1 Numerical attributes"
   ]
  },
  {
   "cell_type": "code",
   "execution_count": null,
   "id": "65822867",
   "metadata": {},
   "outputs": [],
   "source": [
    "correlation = num_attributes.corr(method='pearson')\n",
    "sns.heatmap(correlation, annot=True);"
   ]
  },
  {
   "cell_type": "markdown",
   "id": "07298b8c",
   "metadata": {},
   "source": [
    "### 4.2.2 Categorical attributes"
   ]
  },
  {
   "cell_type": "code",
   "execution_count": null,
   "id": "00747d0a",
   "metadata": {},
   "outputs": [],
   "source": [
    "# only categorical data\n",
    "a = df4.select_dtypes(include='object')\n",
    "\n",
    "# Calculate cramer V\n",
    "a1 = cramer_v(a['Gender'], a['Gender'])\n",
    "a2 = cramer_v(a['Gender'], a['Vehicle_Age'])\n",
    "a3 = cramer_v(a['Vehicle_Age'], a['Gender'])\n",
    "a4 = cramer_v(a['Vehicle_Age'], a['Vehicle_Age'])\n",
    "\n",
    "# Final dataset\n",
    "d = pd.DataFrame({'Gender': [a1, a2],'Vehicle_Age': [a3, a4]})\n",
    "d = d.set_index(d.columns)\n",
    "sns.heatmap(d, annot=True)"
   ]
  },
  {
   "cell_type": "markdown",
   "id": "b908672c",
   "metadata": {},
   "source": [
    "# 5.0 Data Preparation"
   ]
  },
  {
   "cell_type": "code",
   "execution_count": 13,
   "id": "10529079",
   "metadata": {},
   "outputs": [],
   "source": [
    "df5 = df4.copy()"
   ]
  },
  {
   "cell_type": "code",
   "execution_count": 14,
   "id": "26538822",
   "metadata": {},
   "outputs": [],
   "source": [
    "x = df5.drop('Response', axis=1)\n",
    "y = df5['Response'].copy()\n",
    "\n",
    "x_train, x_validation, y_train, y_validation = ms.train_test_split(x, y, test_size= 0.20)\n",
    "\n",
    "df5 = pd.concat([x_train , y_train], axis=1 )"
   ]
  },
  {
   "cell_type": "markdown",
   "id": "8e270221",
   "metadata": {},
   "source": [
    "## 5.1 Standardization "
   ]
  },
  {
   "cell_type": "code",
   "execution_count": 15,
   "id": "26e6ac11",
   "metadata": {},
   "outputs": [],
   "source": [
    "ss = pp.StandardScaler()\n",
    "\n",
    "#annual_premium (take a array with double [])\n",
    "df5['Annual_Premium'] = ss.fit_transform(df5[['Annual_Premium']].values)\n",
    "pickle.dump(ss, open( '../src/features/annual_premium_scaler.pkl', 'wb' ))"
   ]
  },
  {
   "cell_type": "markdown",
   "id": "e32a615c",
   "metadata": {},
   "source": [
    "## 5.2 Rescaling"
   ]
  },
  {
   "cell_type": "code",
   "execution_count": 16,
   "id": "137a2427",
   "metadata": {},
   "outputs": [],
   "source": [
    "mms_age = pp.MinMaxScaler()\n",
    "mms_vintage = pp.MinMaxScaler()\n",
    "\n",
    "#age\n",
    "df5['Age'] = mms_age.fit_transform(df5[['Age']].values)\n",
    "pickle.dump(mms_age, open('../src/features/age_scaler.pkl', 'wb'))\n",
    "\n",
    "#vintage\n",
    "df5['Vintage'] = mms_vintage.fit_transform(df5[['Vintage']].values)\n",
    "pickle.dump(mms_vintage, open('../src/features/vintage_scaler.pkl', 'wb'))"
   ]
  },
  {
   "cell_type": "markdown",
   "id": "decebabc",
   "metadata": {},
   "source": [
    "## 5.3 Encoding"
   ]
  },
  {
   "cell_type": "code",
   "execution_count": 17,
   "id": "4697166c",
   "metadata": {},
   "outputs": [],
   "source": [
    "#Gender\n",
    "target_encode_gender = df5.groupby('Gender')['Response'].mean()\n",
    "df5.loc[:,'Gender'] = df5['Gender'].map(target_encode_gender)\n",
    "pickle.dump(target_encode_gender, open('../src/features/target_encode_gender_scaler.pkl', 'wb'))\n",
    "\n",
    "#Region_Code\n",
    "target_encode_region_code = df5.groupby('Region_Code')['Response'].mean()\n",
    "df5.loc[:,'Region_Code'] = df5['Region_Code'].map(target_encode_region_code)\n",
    "pickle.dump(target_encode_region_code, open('../src/features/target_encode_region_code_scaler.pkl', 'wb'))\n",
    "\n",
    "#Policy_Sales_Channel\n",
    "fe_policy_sales_channel = df5.groupby('Policy_Sales_Channel').size() / len(df5)\n",
    "df5.loc[:,'Policy_Sales_Channel'] = df5['Policy_Sales_Channel'].map(fe_policy_sales_channel)\n",
    "pickle.dump(fe_policy_sales_channel, open('../src/features/fe_policy_sales_channel_scaler.pkl', 'wb'))\n",
    "\n",
    "#Vehicle_Age\n",
    "df5 = pd.get_dummies(df5, prefix='Vehicle_Age', columns=['Vehicle_Age'])"
   ]
  },
  {
   "cell_type": "markdown",
   "id": "808f5be0",
   "metadata": {},
   "source": [
    "## 5.4 Validation Preparation "
   ]
  },
  {
   "cell_type": "code",
   "execution_count": 18,
   "id": "d2513736",
   "metadata": {},
   "outputs": [],
   "source": [
    "#Age\n",
    "x_validation['Age'] = mms_age.fit_transform(x_validation[['Age']].values)\n",
    "\n",
    "#Vintage\n",
    "x_validation['Vintage'] = mms_vintage.fit_transform(x_validation[['Vintage']].values)\n",
    "\n",
    "#Gender\n",
    "x_validation.loc[:,'Gender'] = x_validation['Gender'].map(target_encode_gender)\n",
    "\n",
    "#Region_Code\n",
    "x_validation.loc[:,'Region_Code'] = x_validation['Region_Code'].map(target_encode_region_code)\n",
    "\n",
    "#Policy_Sales_Channel\n",
    "x_validation.loc[:,'Policy_Sales_Channel'] = x_validation['Policy_Sales_Channel'].map(fe_policy_sales_channel)\n",
    "\n",
    "#Vehicle_Age\n",
    "x_validation = pd.get_dummies(x_validation, prefix='Vehicle_Age', columns=['Vehicle_Age'])\n",
    "\n",
    "#Annual_premium (take a array with double [])\n",
    "x_validation['Annual_Premium'] = ss.fit_transform(x_validation[['Annual_Premium']].values)\n",
    "\n",
    "#NA\n",
    "x_validation = x_validation.fillna(0)"
   ]
  },
  {
   "cell_type": "markdown",
   "id": "ef87908f",
   "metadata": {},
   "source": [
    "# 6.0 Feature Selection "
   ]
  },
  {
   "cell_type": "markdown",
   "id": "77621e8a",
   "metadata": {},
   "source": [
    "## 6.2 Features importance "
   ]
  },
  {
   "cell_type": "code",
   "execution_count": 19,
   "id": "77ff744d",
   "metadata": {},
   "outputs": [
    {
     "data": {
      "text/html": [
       "<style>#sk-container-id-1 {color: black;background-color: white;}#sk-container-id-1 pre{padding: 0;}#sk-container-id-1 div.sk-toggleable {background-color: white;}#sk-container-id-1 label.sk-toggleable__label {cursor: pointer;display: block;width: 100%;margin-bottom: 0;padding: 0.3em;box-sizing: border-box;text-align: center;}#sk-container-id-1 label.sk-toggleable__label-arrow:before {content: \"▸\";float: left;margin-right: 0.25em;color: #696969;}#sk-container-id-1 label.sk-toggleable__label-arrow:hover:before {color: black;}#sk-container-id-1 div.sk-estimator:hover label.sk-toggleable__label-arrow:before {color: black;}#sk-container-id-1 div.sk-toggleable__content {max-height: 0;max-width: 0;overflow: hidden;text-align: left;background-color: #f0f8ff;}#sk-container-id-1 div.sk-toggleable__content pre {margin: 0.2em;color: black;border-radius: 0.25em;background-color: #f0f8ff;}#sk-container-id-1 input.sk-toggleable__control:checked~div.sk-toggleable__content {max-height: 200px;max-width: 100%;overflow: auto;}#sk-container-id-1 input.sk-toggleable__control:checked~label.sk-toggleable__label-arrow:before {content: \"▾\";}#sk-container-id-1 div.sk-estimator input.sk-toggleable__control:checked~label.sk-toggleable__label {background-color: #d4ebff;}#sk-container-id-1 div.sk-label input.sk-toggleable__control:checked~label.sk-toggleable__label {background-color: #d4ebff;}#sk-container-id-1 input.sk-hidden--visually {border: 0;clip: rect(1px 1px 1px 1px);clip: rect(1px, 1px, 1px, 1px);height: 1px;margin: -1px;overflow: hidden;padding: 0;position: absolute;width: 1px;}#sk-container-id-1 div.sk-estimator {font-family: monospace;background-color: #f0f8ff;border: 1px dotted black;border-radius: 0.25em;box-sizing: border-box;margin-bottom: 0.5em;}#sk-container-id-1 div.sk-estimator:hover {background-color: #d4ebff;}#sk-container-id-1 div.sk-parallel-item::after {content: \"\";width: 100%;border-bottom: 1px solid gray;flex-grow: 1;}#sk-container-id-1 div.sk-label:hover label.sk-toggleable__label {background-color: #d4ebff;}#sk-container-id-1 div.sk-serial::before {content: \"\";position: absolute;border-left: 1px solid gray;box-sizing: border-box;top: 0;bottom: 0;left: 50%;z-index: 0;}#sk-container-id-1 div.sk-serial {display: flex;flex-direction: column;align-items: center;background-color: white;padding-right: 0.2em;padding-left: 0.2em;position: relative;}#sk-container-id-1 div.sk-item {position: relative;z-index: 1;}#sk-container-id-1 div.sk-parallel {display: flex;align-items: stretch;justify-content: center;background-color: white;position: relative;}#sk-container-id-1 div.sk-item::before, #sk-container-id-1 div.sk-parallel-item::before {content: \"\";position: absolute;border-left: 1px solid gray;box-sizing: border-box;top: 0;bottom: 0;left: 50%;z-index: -1;}#sk-container-id-1 div.sk-parallel-item {display: flex;flex-direction: column;z-index: 1;position: relative;background-color: white;}#sk-container-id-1 div.sk-parallel-item:first-child::after {align-self: flex-end;width: 50%;}#sk-container-id-1 div.sk-parallel-item:last-child::after {align-self: flex-start;width: 50%;}#sk-container-id-1 div.sk-parallel-item:only-child::after {width: 0;}#sk-container-id-1 div.sk-dashed-wrapped {border: 1px dashed gray;margin: 0 0.4em 0.5em 0.4em;box-sizing: border-box;padding-bottom: 0.4em;background-color: white;}#sk-container-id-1 div.sk-label label {font-family: monospace;font-weight: bold;display: inline-block;line-height: 1.2em;}#sk-container-id-1 div.sk-label-container {text-align: center;}#sk-container-id-1 div.sk-container {/* jupyter's `normalize.less` sets `[hidden] { display: none; }` but bootstrap.min.css set `[hidden] { display: none !important; }` so we also need the `!important` here to be able to override the default hidden behavior on the sphinx rendered scikit-learn.org. See: https://github.com/scikit-learn/scikit-learn/issues/21755 */display: inline-block !important;position: relative;}#sk-container-id-1 div.sk-text-repr-fallback {display: none;}</style><div id=\"sk-container-id-1\" class=\"sk-top-container\"><div class=\"sk-text-repr-fallback\"><pre>ExtraTreesClassifier(n_estimators=250, n_jobs=-1, random_state=0)</pre><b>In a Jupyter environment, please rerun this cell to show the HTML representation or trust the notebook. <br />On GitHub, the HTML representation is unable to render, please try loading this page with nbviewer.org.</b></div><div class=\"sk-container\" hidden><div class=\"sk-item\"><div class=\"sk-estimator sk-toggleable\"><input class=\"sk-toggleable__control sk-hidden--visually\" id=\"sk-estimator-id-1\" type=\"checkbox\" checked><label for=\"sk-estimator-id-1\" class=\"sk-toggleable__label sk-toggleable__label-arrow\">ExtraTreesClassifier</label><div class=\"sk-toggleable__content\"><pre>ExtraTreesClassifier(n_estimators=250, n_jobs=-1, random_state=0)</pre></div></div></div></div></div>"
      ],
      "text/plain": [
       "ExtraTreesClassifier(n_estimators=250, n_jobs=-1, random_state=0)"
      ]
     },
     "execution_count": 19,
     "metadata": {},
     "output_type": "execute_result"
    }
   ],
   "source": [
    "#model definition\n",
    "forest = en.ExtraTreesClassifier(n_estimators=250, random_state=0, n_jobs=-1)\n",
    "\n",
    "x_train_n = df5.drop(['id', 'Response'], axis=1)\n",
    "y_train_n = y_train.values\n",
    "forest.fit (x_train_n, y_train_n)"
   ]
  },
  {
   "cell_type": "code",
   "execution_count": 20,
   "id": "1f87df97",
   "metadata": {},
   "outputs": [
    {
     "name": "stdout",
     "output_type": "stream",
     "text": [
      "Feature ranking: \n",
      "                         feature  importance\n",
      "0                        Vintage    0.273365\n",
      "0                 Annual_Premium    0.243845\n",
      "0                            Age    0.166861\n",
      "0                    Region_Code    0.105122\n",
      "0                 Vehicle_Damage    0.068317\n",
      "0           Policy_Sales_Channel    0.059277\n",
      "0             Previously_Insured    0.056354\n",
      "0       Vehicle_Age_below_1_year    0.013160\n",
      "0  Vehicle_Age_between_1_2_years    0.006195\n",
      "0                         Gender    0.004770\n",
      "0       Vehicle_Age_over_2_years    0.002256\n",
      "0                Driving_License    0.000477\n"
     ]
    },
    {
     "ename": "AttributeError",
     "evalue": "'list' object has no attribute 'std'",
     "output_type": "error",
     "traceback": [
      "\u001b[1;31m---------------------------------------------------------------------------\u001b[0m",
      "\u001b[1;31mAttributeError\u001b[0m                            Traceback (most recent call last)",
      "Input \u001b[1;32mIn [20]\u001b[0m, in \u001b[0;36m<cell line: 14>\u001b[1;34m()\u001b[0m\n\u001b[0;32m     12\u001b[0m plt\u001b[38;5;241m.\u001b[39mfigure()\n\u001b[0;32m     13\u001b[0m plt\u001b[38;5;241m.\u001b[39mtitle(\u001b[38;5;124m'\u001b[39m\u001b[38;5;124mFeature Importances\u001b[39m\u001b[38;5;124m'\u001b[39m)\n\u001b[1;32m---> 14\u001b[0m plt\u001b[38;5;241m.\u001b[39mbar(\u001b[38;5;28mrange\u001b[39m(x_train_n\u001b[38;5;241m.\u001b[39mshape[\u001b[38;5;241m1\u001b[39m]), importance[indices], color\u001b[38;5;241m=\u001b[39m\u001b[38;5;124m\"\u001b[39m\u001b[38;5;124mr\u001b[39m\u001b[38;5;124m\"\u001b[39m, yerr\u001b[38;5;241m=\u001b[39m\u001b[43m[\u001b[49m\u001b[43mindices\u001b[49m\u001b[43m]\u001b[49m\u001b[38;5;241;43m.\u001b[39;49m\u001b[43mstd\u001b[49m(), align\u001b[38;5;241m=\u001b[39m\u001b[38;5;124m\"\u001b[39m\u001b[38;5;124mcenter\u001b[39m\u001b[38;5;124m\"\u001b[39m)\n\u001b[0;32m     15\u001b[0m plt\u001b[38;5;241m.\u001b[39mxticks(\u001b[38;5;28mrange\u001b[39m(x_train_n\u001b[38;5;241m.\u001b[39mshape[\u001b[38;5;241m1\u001b[39m]), indices)\n\u001b[0;32m     16\u001b[0m plt\u001b[38;5;241m.\u001b[39mxlim(\u001b[38;5;241m-\u001b[39m\u001b[38;5;241m1\u001b[39m, x_train_n\u001b[38;5;241m.\u001b[39mshape[\u001b[38;5;241m1\u001b[39m] )\n",
      "\u001b[1;31mAttributeError\u001b[0m: 'list' object has no attribute 'std'"
     ]
    },
    {
     "data": {
      "image/png": "[encoded data removed]",
      "text/plain": [
       "<Figure size 640x480 with 1 Axes>"
      ]
     },
     "metadata": {},
     "output_type": "display_data"
    }
   ],
   "source": [
    "importance = forest.feature_importances_\n",
    "indices = np.argsort(importance)[::-1]\n",
    "\n",
    "print(\"Feature ranking: \")\n",
    "df = pd.DataFrame()\n",
    "for i, j in zip(x_train_n, forest.feature_importances_):\n",
    "    aux = pd.DataFrame({'feature': i, 'importance': j}, index=[0])\n",
    "    df = pd.concat([df, aux], axis = 0)\n",
    "\n",
    "print (df.sort_values('importance', ascending=False))\n",
    "\n",
    "plt.figure()\n",
    "plt.title('Feature Importances')\n",
    "plt.bar(range(x_train_n.shape[1]), importance[indices], color=\"r\", yerr=[indices].std(), align=\"center\")\n",
    "plt.xticks(range(x_train_n.shape[1]), indices)\n",
    "plt.xlim(-1, x_train_n.shape[1] )\n",
    "plt.show()"
   ]
  },
  {
   "cell_type": "markdown",
   "id": "cb6622b7",
   "metadata": {},
   "source": [
    "# 7.0 Machine Learning"
   ]
  },
  {
   "cell_type": "code",
   "execution_count": 21,
   "id": "476aa82d",
   "metadata": {},
   "outputs": [],
   "source": [
    "cols_selected = ['Vintage', 'Annual_Premium', 'Age', 'Region_Code', 'Vehicle_Damage',\n",
    "                 'Policy_Sales_Channel', 'Previously_Insured']\n",
    "\n",
    "x_train = df5[cols_selected]\n",
    "x_val = x_validation[cols_selected]\n",
    "y_val = y_validation.copy()"
   ]
  },
  {
   "cell_type": "code",
   "execution_count": 22,
   "id": "735df726",
   "metadata": {},
   "outputs": [],
   "source": [
    "df7 = x_validation.copy()\n",
    "df7['Response'] = y_validation.copy()   "
   ]
  },
  {
   "cell_type": "markdown",
   "id": "7744f121",
   "metadata": {},
   "source": [
    "## 7.1. KNN  "
   ]
  },
  {
   "cell_type": "code",
   "execution_count": 23,
   "id": "b828553e",
   "metadata": {},
   "outputs": [],
   "source": [
    "# model definiton\n",
    "knn = nh.KNeighborsClassifier(n_neighbors=7)\n",
    "\n",
    "#model trainning\n",
    "knn.fit(x_train, y_train)\n",
    "\n",
    "#model predicition\n",
    "yhat_knn = knn.predict_proba(x_val)\n",
    "\n",
    "yhat1_knn = knn.predict(x_val)"
   ]
  },
  {
   "cell_type": "markdown",
   "id": "48d5ad93",
   "metadata": {},
   "source": [
    "## 7.2. Logistic Regression"
   ]
  },
  {
   "cell_type": "code",
   "execution_count": 24,
   "id": "a26ce747",
   "metadata": {},
   "outputs": [],
   "source": [
    "lr = lm.LogisticRegression(random_state=42)\n",
    "\n",
    "#model trainning\n",
    "lr.fit(x_train, y_train)\n",
    "\n",
    "#model predicition\n",
    "yhat_lr = lr.predict_proba(x_val)\n",
    "\n",
    "yhat1_lr = lr.predict(x_val)"
   ]
  },
  {
   "cell_type": "markdown",
   "id": "f137be4d",
   "metadata": {},
   "source": [
    "## 7.3. Extra Trees"
   ]
  },
  {
   "cell_type": "code",
   "execution_count": 25,
   "id": "9fe1f18e",
   "metadata": {},
   "outputs": [],
   "source": [
    "# model definition\n",
    "et = en.ExtraTreesClassifier(n_estimators=300, n_jobs=-1, random_state=42)\n",
    "\n",
    "# model fit\n",
    "et.fit(x_train, y_train)\n",
    "\n",
    "# model prediction\n",
    "yhat_et = et.predict_proba(x_val)\n",
    "\n",
    "yhat1_et = et.predict(x_val)"
   ]
  },
  {
   "cell_type": "markdown",
   "id": "f59f572d",
   "metadata": {},
   "source": [
    "## 7.4 Random Forest "
   ]
  },
  {
   "cell_type": "code",
   "execution_count": 32,
   "id": "4d16abe8",
   "metadata": {},
   "outputs": [],
   "source": [
    " # model definition\n",
    "rf = en.RandomForestClassifier(n_estimators=1000, n_jobs=-1, random_state=42) \n",
    "\n",
    "# model training\n",
    "rf.fit(x_train, y_train)\n",
    "\n",
    "# model prediction\n",
    "yhat_rf = et.predict_proba(x_val)\n",
    "\n",
    "yhat1_rf = rf.predict(x_val)"
   ]
  },
  {
   "cell_type": "markdown",
   "id": "55baa5a4",
   "metadata": {},
   "source": [
    "## 7.5 XGBoost"
   ]
  },
  {
   "cell_type": "code",
   "execution_count": 33,
   "id": "2a991027",
   "metadata": {},
   "outputs": [],
   "source": [
    "# model\n",
    "xgb = XGBClassifier(n_estimators=100, eta=0.01, max_depth=10)\n",
    "\n",
    "# model training\n",
    "xgb.fit(x_train, y_train)\n",
    "\n",
    "# prediction\n",
    "yhat_xgb = xgb.predict_proba(x_val)\n",
    "\n",
    "yhat1_xgb = xgb.predict(x_val)"
   ]
  },
  {
   "cell_type": "markdown",
   "id": "d4401c00",
   "metadata": {},
   "source": [
    "## 7.6 LGBM"
   ]
  },
  {
   "cell_type": "code",
   "execution_count": 34,
   "id": "227dc03f",
   "metadata": {},
   "outputs": [],
   "source": [
    "# model \n",
    "lgbm = LGBMClassifier()\n",
    "\n",
    "# model training\n",
    "lgbm.fit(x_train, y_train)\n",
    "\n",
    "# prediction\n",
    "yhat_lgbm = lgbm.predict_proba(x_val)\n",
    "\n",
    "yhat1_lgbm = lgbm.predict(x_val)"
   ]
  },
  {
   "cell_type": "markdown",
   "id": "4501d74e",
   "metadata": {},
   "source": [
    "# 8.0 Model Performance"
   ]
  },
  {
   "cell_type": "markdown",
   "id": "be40bd58",
   "metadata": {},
   "source": [
    "## 8.1 Single performance results"
   ]
  },
  {
   "cell_type": "code",
   "execution_count": 35,
   "id": "cc63a785",
   "metadata": {},
   "outputs": [
    {
     "data": {
      "text/html": [
       "<div>\n",
       "<style scoped>\n",
       "    .dataframe tbody tr th:only-of-type {\n",
       "        vertical-align: middle;\n",
       "    }\n",
       "\n",
       "    .dataframe tbody tr th {\n",
       "        vertical-align: top;\n",
       "    }\n",
       "\n",
       "    .dataframe thead th {\n",
       "        text-align: right;\n",
       "    }\n",
       "</style>\n",
       "<table border=\"1\" class=\"dataframe\">\n",
       "  <thead>\n",
       "    <tr style=\"text-align: right;\">\n",
       "      <th></th>\n",
       "      <th>Precision @k</th>\n",
       "      <th>Recall @k</th>\n",
       "      <th>Accuracy</th>\n",
       "    </tr>\n",
       "  </thead>\n",
       "  <tbody>\n",
       "    <tr>\n",
       "      <th>KNN</th>\n",
       "      <td>0.347652</td>\n",
       "      <td>0.037307</td>\n",
       "      <td>0.860539</td>\n",
       "    </tr>\n",
       "    <tr>\n",
       "      <th>Logistic Regression</th>\n",
       "      <td>0.298701</td>\n",
       "      <td>0.032054</td>\n",
       "      <td>0.877621</td>\n",
       "    </tr>\n",
       "    <tr>\n",
       "      <th>Extra Trees</th>\n",
       "      <td>0.343656</td>\n",
       "      <td>0.036878</td>\n",
       "      <td>0.859935</td>\n",
       "    </tr>\n",
       "    <tr>\n",
       "      <th>Random Forest</th>\n",
       "      <td>0.343656</td>\n",
       "      <td>0.036878</td>\n",
       "      <td>0.865000</td>\n",
       "    </tr>\n",
       "    <tr>\n",
       "      <th>XGBoost</th>\n",
       "      <td>0.430569</td>\n",
       "      <td>0.046205</td>\n",
       "      <td>0.877503</td>\n",
       "    </tr>\n",
       "    <tr>\n",
       "      <th>LGBM</th>\n",
       "      <td>0.441558</td>\n",
       "      <td>0.047384</td>\n",
       "      <td>0.877306</td>\n",
       "    </tr>\n",
       "  </tbody>\n",
       "</table>\n",
       "</div>"
      ],
      "text/plain": [
       "                     Precision @k  Recall @k  Accuracy\n",
       "KNN                      0.347652   0.037307  0.860539\n",
       "Logistic Regression      0.298701   0.032054  0.877621\n",
       "Extra Trees              0.343656   0.036878  0.859935\n",
       "Random Forest            0.343656   0.036878  0.865000\n",
       "XGBoost                  0.430569   0.046205  0.877503\n",
       "LGBM                     0.441558   0.047384  0.877306"
      ]
     },
     "execution_count": 35,
     "metadata": {},
     "output_type": "execute_result"
    }
   ],
   "source": [
    "# numerical single performance results\n",
    "knnr = resultssp(df7, yhat_knn, yhat1_knn, 'KNN', 1000)\n",
    "lrr = resultssp(df7, yhat_lr, yhat1_lr, 'Logistic Regression', 1000)\n",
    "etr = resultssp(df7, yhat_et, yhat1_et, 'Extra Trees', 1000)\n",
    "rfr = resultssp(df7, yhat_rf, yhat1_rf, 'Random Forest', 1000)\n",
    "xgbr = resultssp(df7, yhat_xgb, yhat1_xgb, 'XGBoost', 1000)\n",
    "lgbmr = resultssp(df7, yhat_lgbm, yhat1_lgbm,'LGBM', 1000)\n",
    "\n",
    "#numerical cross validation results\n",
    "results = pd.concat([knnr, lrr, etr, rfr, xgbr, lgbmr])\n",
    "results"
   ]
  },
  {
   "cell_type": "markdown",
   "id": "dff5b333",
   "metadata": {},
   "source": [
    "## 8.2 Cross validation results"
   ]
  },
  {
   "cell_type": "code",
   "execution_count": null,
   "id": "6d59ab4b",
   "metadata": {},
   "outputs": [],
   "source": [
    "knn_cv = cross_validation('KNN', knn, x_train, y_train, 1000)\n",
    "lr_cv = cross_validation('Logistic Regression', lr, x_train, y_train, 1000)\n",
    "et_cv = cross_validation('Extra Trees', et, x_train, y_train, 1000)\n",
    "rf_cv = cross_validation('Random Forest', rf, x_train, y_train, 1000)\n",
    "xgb_cv = cross_validation('XGBoost', xgb, x_train, y_train, 1000)\n",
    "lgbm_cv = cross_validation('LGBM', lgbm, x_train, y_train, 1000)\n",
    "\n",
    "#numerical cross validation results\n",
    "cv_results = pd.concat([knn_cv, lr_cv, et_cv, rf_cv, xgb_cv, lgbm_cv])\n",
    "cv_results"
   ]
  },
  {
   "cell_type": "markdown",
   "id": "48d63c78",
   "metadata": {},
   "source": [
    "## 8.3 Cumulative gain's curve "
   ]
  },
  {
   "cell_type": "code",
   "execution_count": 36,
   "id": "68dc7f5f",
   "metadata": {},
   "outputs": [],
   "source": [
    "knn_cgc = cg_curve(yhat_knn, y_val)\n",
    "lr_cgc = cg_curve(yhat_lr, y_val)\n",
    "et_cgc = cg_curve(yhat_et, y_val)\n",
    "rf_cgc = cg_curve(yhat_rf, y_val)\n",
    "xgb_cgc = cg_curve(yhat_xgb, y_val)\n",
    "lgbm_cgc = cg_curve(yhat_lgbm, y_val)"
   ]
  },
  {
   "cell_type": "code",
   "execution_count": 37,
   "id": "81ef8fa9",
   "metadata": {},
   "outputs": [
    {
     "data": {
      "text/plain": [
       "Text(0, 0.5, 'Gain')"
      ]
     },
     "execution_count": 37,
     "metadata": {},
     "output_type": "execute_result"
    },
    {
     "data": {
      "image/png": "[encoded data removed]",
      "text/plain": [
       "<Figure size 800x600 with 1 Axes>"
      ]
     },
     "metadata": {},
     "output_type": "display_data"
    }
   ],
   "source": [
    "fig, axs = plt.subplots(1, 1, figsize=(8, 6))\n",
    "\n",
    "# plot data\n",
    "sns.lineplot(ax=axs, x='base_cum_perc', y='real_cum_perc', data=knn_cgc, label='KNN', linewidth = 2.5, color='blue')\n",
    "sns.lineplot(ax=axs, x='base_cum_perc', y='real_cum_perc', data=lr_cgc, label='Logistic Regression', linewidth = 2.5, color='orange')\n",
    "sns.lineplot(ax=axs, x='base_cum_perc', y='real_cum_perc', data=et_cgc, label='Extra Trees', linewidth = 2.5, color='green')\n",
    "sns.lineplot(ax=axs, x='base_cum_perc', y='real_cum_perc', data=rf_cgc, label='Random Forest', linewidth = 2.5, color='yellow')\n",
    "sns.lineplot(ax=axs, x='base_cum_perc', y='real_cum_perc', data=xgb_cgc, label='XGBoost', linewidth = 2.5, color='purple')\n",
    "sns.lineplot(ax=axs, x='base_cum_perc', y='real_cum_perc', data=lgbm_cgc, label='LGBM', linewidth = 2.5, color='red')\n",
    "sns.lineplot(ax=axs, x='base_cum_perc', y='baseline', data=lgbm_cgc, label='Baseline', linewidth = 2.5, color='gray')\n",
    "\n",
    "# line styles\n",
    "axs.lines[1].set_linestyle(\":\")\n",
    "axs.lines[4].set_linestyle(\"--\")\n",
    "\n",
    "# legends\n",
    "axs.legend()\n",
    "axs.set_title(\"Cumulative Gains curve\")\n",
    "axs.set_xlabel(\"Percentage of sample\")\n",
    "axs.set_ylabel(\"Gain\")"
   ]
  },
  {
   "cell_type": "markdown",
   "id": "4a3c36c6",
   "metadata": {},
   "source": [
    "# 7.9 Hyperparameters fine tuning"
   ]
  },
  {
   "cell_type": "code",
   "execution_count": 38,
   "id": "d4ac9385",
   "metadata": {},
   "outputs": [],
   "source": [
    "import optuna\n",
    "from optuna.samplers import TPESampler\n",
    "from sklearn.metrics import accuracy_score\n",
    "\n",
    "def objective(trial):\n",
    "\n",
    "    param = {\"objective\": \"binary\", \n",
    "             \"verbosity\": -1, \n",
    "             \"boosting_type\": \"gbdt\", \n",
    "             \"num_class\": 1,\n",
    "             \"lambda_l1\": trial.suggest_float(\"lambda_l1\", 1e-8, 10.0, log=True),\n",
    "             \"lambda_l2\": trial.suggest_float(\"lambda_l2\", 1e-8, 10.0, log=True),\n",
    "             \"num_leaves\": trial.suggest_int(\"num_leaves\", 2, 256),\n",
    "             \"feature_fraction\": trial.suggest_float(\"feature_fraction\", 0.4, 1.0),\n",
    "             \"bagging_fraction\": trial.suggest_float(\"bagging_fraction\", 0.4, 1.0),\n",
    "             \"bagging_freq\": trial.suggest_int(\"bagging_freq\", 1, 7),\n",
    "             \"min_child_samples\": trial.suggest_int(\"min_child_samples\", 5, 100)}\n",
    "\n",
    "    # model \n",
    "    lgbm_modelx = LGBMClassifier(**param)\n",
    "\n",
    "    # model training\n",
    "    lgbm_modelx.fit(x_train, y_train)\n",
    "\n",
    "    # prediction\n",
    "    yhat_lgbmx = lgbm_modelx.predict(x_val)\n",
    "    \n",
    "    acc = accuracy_score(y_val, yhat_lgbmx)\n",
    "    \n",
    "    return acc"
   ]
  },
  {
   "cell_type": "code",
   "execution_count": 39,
   "id": "584df2a8",
   "metadata": {},
   "outputs": [
    {
     "name": "stderr",
     "output_type": "stream",
     "text": [
      "\u001b[32m[I 2022-11-25 00:23:32,803]\u001b[0m A new study created in memory with name: lightgbm\u001b[0m\n"
     ]
    },
    {
     "name": "stdout",
     "output_type": "stream",
     "text": [
      "[LightGBM] [Warning] feature_fraction is set=0.5813995435791038, colsample_bytree=1.0 will be ignored. Current value: feature_fraction=0.5813995435791038\n",
      "[LightGBM] [Warning] lambda_l1 is set=5.6649755830282306e-05, reg_alpha=0.0 will be ignored. Current value: lambda_l1=5.6649755830282306e-05\n",
      "[LightGBM] [Warning] bagging_fraction is set=0.48805353449026784, subsample=1.0 will be ignored. Current value: bagging_fraction=0.48805353449026784\n",
      "[LightGBM] [Warning] lambda_l2 is set=0.030403280126677572, reg_lambda=0.0 will be ignored. Current value: lambda_l2=0.030403280126677572\n",
      "[LightGBM] [Warning] bagging_freq is set=1, subsample_freq=0 will be ignored. Current value: bagging_freq=1\n"
     ]
    },
    {
     "name": "stderr",
     "output_type": "stream",
     "text": [
      "\u001b[32m[I 2022-11-25 00:23:33,763]\u001b[0m Trial 0 finished with value: 0.8776206344624912 and parameters: {'lambda_l1': 5.6649755830282306e-05, 'lambda_l2': 0.030403280126677572, 'num_leaves': 2, 'feature_fraction': 0.5813995435791038, 'bagging_fraction': 0.48805353449026784, 'bagging_freq': 1, 'min_child_samples': 22}. Best is trial 0 with value: 0.8776206344624912.\u001b[0m\n"
     ]
    },
    {
     "name": "stdout",
     "output_type": "stream",
     "text": [
      "[LightGBM] [Warning] feature_fraction is set=0.6515167086419769, colsample_bytree=1.0 will be ignored. Current value: feature_fraction=0.6515167086419769\n",
      "[LightGBM] [Warning] lambda_l1 is set=1.2883876209377052e-05, reg_alpha=0.0 will be ignored. Current value: lambda_l1=1.2883876209377052e-05\n",
      "[LightGBM] [Warning] bagging_fraction is set=0.8111317002380557, subsample=1.0 will be ignored. Current value: bagging_fraction=0.8111317002380557\n",
      "[LightGBM] [Warning] lambda_l2 is set=3.72312200494449e-05, reg_lambda=0.0 will be ignored. Current value: lambda_l2=3.72312200494449e-05\n",
      "[LightGBM] [Warning] bagging_freq is set=2, subsample_freq=0 will be ignored. Current value: bagging_freq=2\n"
     ]
    },
    {
     "name": "stderr",
     "output_type": "stream",
     "text": [
      "\u001b[32m[I 2022-11-25 00:23:35,510]\u001b[0m Trial 1 finished with value: 0.8777255910367086 and parameters: {'lambda_l1': 1.2883876209377052e-05, 'lambda_l2': 3.72312200494449e-05, 'num_leaves': 139, 'feature_fraction': 0.6515167086419769, 'bagging_fraction': 0.8111317002380557, 'bagging_freq': 2, 'min_child_samples': 89}. Best is trial 1 with value: 0.8777255910367086.\u001b[0m\n"
     ]
    },
    {
     "name": "stdout",
     "output_type": "stream",
     "text": [
      "[LightGBM] [Warning] feature_fraction is set=0.735213897067451, colsample_bytree=1.0 will be ignored. Current value: feature_fraction=0.735213897067451\n",
      "[LightGBM] [Warning] lambda_l1 is set=1.763958399884789e-08, reg_alpha=0.0 will be ignored. Current value: lambda_l1=1.763958399884789e-08\n",
      "[LightGBM] [Warning] bagging_fraction is set=0.4842321631571403, subsample=1.0 will be ignored. Current value: bagging_fraction=0.4842321631571403\n",
      "[LightGBM] [Warning] lambda_l2 is set=0.010819509974097813, reg_lambda=0.0 will be ignored. Current value: lambda_l2=0.010819509974097813\n",
      "[LightGBM] [Warning] bagging_freq is set=2, subsample_freq=0 will be ignored. Current value: bagging_freq=2\n"
     ]
    },
    {
     "name": "stderr",
     "output_type": "stream",
     "text": [
      "\u001b[32m[I 2022-11-25 00:23:36,783]\u001b[0m Trial 2 finished with value: 0.8773320038833933 and parameters: {'lambda_l1': 1.763958399884789e-08, 'lambda_l2': 0.010819509974097813, 'num_leaves': 108, 'feature_fraction': 0.735213897067451, 'bagging_fraction': 0.4842321631571403, 'bagging_freq': 2, 'min_child_samples': 81}. Best is trial 1 with value: 0.8777255910367086.\u001b[0m\n"
     ]
    },
    {
     "name": "stdout",
     "output_type": "stream",
     "text": [
      "[LightGBM] [Warning] feature_fraction is set=0.9258334913776229, colsample_bytree=1.0 will be ignored. Current value: feature_fraction=0.9258334913776229\n",
      "[LightGBM] [Warning] lambda_l1 is set=5.180291295699627, reg_alpha=0.0 will be ignored. Current value: lambda_l1=5.180291295699627\n",
      "[LightGBM] [Warning] bagging_fraction is set=0.9367639981023084, subsample=1.0 will be ignored. Current value: bagging_fraction=0.9367639981023084\n",
      "[LightGBM] [Warning] lambda_l2 is set=6.6193844201488494e-06, reg_lambda=0.0 will be ignored. Current value: lambda_l2=6.6193844201488494e-06\n",
      "[LightGBM] [Warning] bagging_freq is set=1, subsample_freq=0 will be ignored. Current value: bagging_freq=1\n"
     ]
    },
    {
     "name": "stderr",
     "output_type": "stream",
     "text": [
      "\u001b[32m[I 2022-11-25 00:23:38,228]\u001b[0m Trial 3 finished with value: 0.8770040145889638 and parameters: {'lambda_l1': 5.180291295699627, 'lambda_l2': 6.6193844201488494e-06, 'num_leaves': 178, 'feature_fraction': 0.9258334913776229, 'bagging_fraction': 0.9367639981023084, 'bagging_freq': 1, 'min_child_samples': 8}. Best is trial 1 with value: 0.8777255910367086.\u001b[0m\n"
     ]
    },
    {
     "name": "stdout",
     "output_type": "stream",
     "text": [
      "[LightGBM] [Warning] feature_fraction is set=0.6526645750030313, colsample_bytree=1.0 will be ignored. Current value: feature_fraction=0.6526645750030313\n",
      "[LightGBM] [Warning] lambda_l1 is set=3.376554594427989e-07, reg_alpha=0.0 will be ignored. Current value: lambda_l1=3.376554594427989e-07\n",
      "[LightGBM] [Warning] bagging_fraction is set=0.9747337180903012, subsample=1.0 will be ignored. Current value: bagging_fraction=0.9747337180903012\n",
      "[LightGBM] [Warning] lambda_l2 is set=0.8003547575557912, reg_lambda=0.0 will be ignored. Current value: lambda_l2=0.8003547575557912\n",
      "[LightGBM] [Warning] bagging_freq is set=4, subsample_freq=0 will be ignored. Current value: bagging_freq=4\n"
     ]
    },
    {
     "name": "stderr",
     "output_type": "stream",
     "text": [
      "\u001b[32m[I 2022-11-25 00:23:39,391]\u001b[0m Trial 4 finished with value: 0.877607514890714 and parameters: {'lambda_l1': 3.376554594427989e-07, 'lambda_l2': 0.8003547575557912, 'num_leaves': 27, 'feature_fraction': 0.6526645750030313, 'bagging_fraction': 0.9747337180903012, 'bagging_freq': 4, 'min_child_samples': 71}. Best is trial 1 with value: 0.8777255910367086.\u001b[0m\n"
     ]
    },
    {
     "name": "stdout",
     "output_type": "stream",
     "text": [
      "[LightGBM] [Warning] feature_fraction is set=0.4109729664065151, colsample_bytree=1.0 will be ignored. Current value: feature_fraction=0.4109729664065151\n",
      "[LightGBM] [Warning] lambda_l1 is set=6.912588094940543e-06, reg_alpha=0.0 will be ignored. Current value: lambda_l1=6.912588094940543e-06\n",
      "[LightGBM] [Warning] bagging_fraction is set=0.8500865889669804, subsample=1.0 will be ignored. Current value: bagging_fraction=0.8500865889669804\n",
      "[LightGBM] [Warning] lambda_l2 is set=0.015083716080906013, reg_lambda=0.0 will be ignored. Current value: lambda_l2=0.015083716080906013\n",
      "[LightGBM] [Warning] bagging_freq is set=7, subsample_freq=0 will be ignored. Current value: bagging_freq=7\n"
     ]
    },
    {
     "name": "stderr",
     "output_type": "stream",
     "text": [
      "\u001b[32m[I 2022-11-25 00:23:41,713]\u001b[0m Trial 5 finished with value: 0.8771089711631812 and parameters: {'lambda_l1': 6.912588094940543e-06, 'lambda_l2': 0.015083716080906013, 'num_leaves': 214, 'feature_fraction': 0.4109729664065151, 'bagging_fraction': 0.8500865889669804, 'bagging_freq': 7, 'min_child_samples': 76}. Best is trial 1 with value: 0.8777255910367086.\u001b[0m\n"
     ]
    },
    {
     "name": "stdout",
     "output_type": "stream",
     "text": [
      "[LightGBM] [Warning] feature_fraction is set=0.6687361157055431, colsample_bytree=1.0 will be ignored. Current value: feature_fraction=0.6687361157055431\n",
      "[LightGBM] [Warning] lambda_l1 is set=3.341919070318744e-06, reg_alpha=0.0 will be ignored. Current value: lambda_l1=3.341919070318744e-06\n",
      "[LightGBM] [Warning] bagging_fraction is set=0.9451573018558573, subsample=1.0 will be ignored. Current value: bagging_fraction=0.9451573018558573\n",
      "[LightGBM] [Warning] lambda_l2 is set=0.12691529280491062, reg_lambda=0.0 will be ignored. Current value: lambda_l2=0.12691529280491062\n",
      "[LightGBM] [Warning] bagging_freq is set=3, subsample_freq=0 will be ignored. Current value: bagging_freq=3\n"
     ]
    },
    {
     "name": "stderr",
     "output_type": "stream",
     "text": [
      "\u001b[32m[I 2022-11-25 00:23:42,841]\u001b[0m Trial 6 finished with value: 0.877607514890714 and parameters: {'lambda_l1': 3.341919070318744e-06, 'lambda_l2': 0.12691529280491062, 'num_leaves': 28, 'feature_fraction': 0.6687361157055431, 'bagging_fraction': 0.9451573018558573, 'bagging_freq': 3, 'min_child_samples': 32}. Best is trial 1 with value: 0.8777255910367086.\u001b[0m\n"
     ]
    },
    {
     "name": "stdout",
     "output_type": "stream",
     "text": [
      "[LightGBM] [Warning] feature_fraction is set=0.5269768696000354, colsample_bytree=1.0 will be ignored. Current value: feature_fraction=0.5269768696000354\n",
      "[LightGBM] [Warning] lambda_l1 is set=1.4799844388224288e-07, reg_alpha=0.0 will be ignored. Current value: lambda_l1=1.4799844388224288e-07\n",
      "[LightGBM] [Warning] bagging_fraction is set=0.5593279956233357, subsample=1.0 will be ignored. Current value: bagging_fraction=0.5593279956233357\n",
      "[LightGBM] [Warning] lambda_l2 is set=1.493834966470408e-08, reg_lambda=0.0 will be ignored. Current value: lambda_l2=1.493834966470408e-08\n",
      "[LightGBM] [Warning] bagging_freq is set=4, subsample_freq=0 will be ignored. Current value: bagging_freq=4\n"
     ]
    },
    {
     "name": "stderr",
     "output_type": "stream",
     "text": [
      "\u001b[32m[I 2022-11-25 00:23:44,168]\u001b[0m Trial 7 finished with value: 0.8763611555718821 and parameters: {'lambda_l1': 1.4799844388224288e-07, 'lambda_l2': 1.493834966470408e-08, 'num_leaves': 175, 'feature_fraction': 0.5269768696000354, 'bagging_fraction': 0.5593279956233357, 'bagging_freq': 4, 'min_child_samples': 10}. Best is trial 1 with value: 0.8777255910367086.\u001b[0m\n"
     ]
    },
    {
     "name": "stdout",
     "output_type": "stream",
     "text": [
      "[LightGBM] [Warning] feature_fraction is set=0.8198550160125587, colsample_bytree=1.0 will be ignored. Current value: feature_fraction=0.8198550160125587\n",
      "[LightGBM] [Warning] lambda_l1 is set=0.0014691239860705116, reg_alpha=0.0 will be ignored. Current value: lambda_l1=0.0014691239860705116\n",
      "[LightGBM] [Warning] bagging_fraction is set=0.46140065729669555, subsample=1.0 will be ignored. Current value: bagging_fraction=0.46140065729669555\n",
      "[LightGBM] [Warning] lambda_l2 is set=2.091978294467618e-07, reg_lambda=0.0 will be ignored. Current value: lambda_l2=2.091978294467618e-07\n",
      "[LightGBM] [Warning] bagging_freq is set=3, subsample_freq=0 will be ignored. Current value: bagging_freq=3\n"
     ]
    },
    {
     "name": "stderr",
     "output_type": "stream",
     "text": [
      "\u001b[32m[I 2022-11-25 00:23:45,580]\u001b[0m Trial 8 finished with value: 0.8768465797276377 and parameters: {'lambda_l1': 0.0014691239860705116, 'lambda_l2': 2.091978294467618e-07, 'num_leaves': 152, 'feature_fraction': 0.8198550160125587, 'bagging_fraction': 0.46140065729669555, 'bagging_freq': 3, 'min_child_samples': 71}. Best is trial 1 with value: 0.8777255910367086.\u001b[0m\n"
     ]
    },
    {
     "name": "stdout",
     "output_type": "stream",
     "text": [
      "[LightGBM] [Warning] feature_fraction is set=0.7982767871318732, colsample_bytree=1.0 will be ignored. Current value: feature_fraction=0.7982767871318732\n",
      "[LightGBM] [Warning] lambda_l1 is set=5.340887446119036e-05, reg_alpha=0.0 will be ignored. Current value: lambda_l1=5.340887446119036e-05\n",
      "[LightGBM] [Warning] bagging_fraction is set=0.7089334672349852, subsample=1.0 will be ignored. Current value: bagging_fraction=0.7089334672349852\n",
      "[LightGBM] [Warning] lambda_l2 is set=2.8156659603215856e-08, reg_lambda=0.0 will be ignored. Current value: lambda_l2=2.8156659603215856e-08\n",
      "[LightGBM] [Warning] bagging_freq is set=7, subsample_freq=0 will be ignored. Current value: bagging_freq=7\n"
     ]
    },
    {
     "name": "stderr",
     "output_type": "stream",
     "text": [
      "\u001b[32m[I 2022-11-25 00:23:46,923]\u001b[0m Trial 9 finished with value: 0.8768728188711921 and parameters: {'lambda_l1': 5.340887446119036e-05, 'lambda_l2': 2.8156659603215856e-08, 'num_leaves': 138, 'feature_fraction': 0.7982767871318732, 'bagging_fraction': 0.7089334672349852, 'bagging_freq': 7, 'min_child_samples': 61}. Best is trial 1 with value: 0.8777255910367086.\u001b[0m\n"
     ]
    },
    {
     "name": "stdout",
     "output_type": "stream",
     "text": [
      "[LightGBM] [Warning] feature_fraction is set=0.992593709070849, colsample_bytree=1.0 will be ignored. Current value: feature_fraction=0.992593709070849\n",
      "[LightGBM] [Warning] lambda_l1 is set=0.004454924752485835, reg_alpha=0.0 will be ignored. Current value: lambda_l1=0.004454924752485835\n",
      "[LightGBM] [Warning] bagging_fraction is set=0.7448364778531973, subsample=1.0 will be ignored. Current value: bagging_fraction=0.7448364778531973\n",
      "[LightGBM] [Warning] lambda_l2 is set=7.55632486856011e-05, reg_lambda=0.0 will be ignored. Current value: lambda_l2=7.55632486856011e-05\n",
      "[LightGBM] [Warning] bagging_freq is set=6, subsample_freq=0 will be ignored. Current value: bagging_freq=6\n"
     ]
    },
    {
     "name": "stderr",
     "output_type": "stream",
     "text": [
      "\u001b[32m[I 2022-11-25 00:23:48,722]\u001b[0m Trial 10 finished with value: 0.8774894387447194 and parameters: {'lambda_l1': 0.004454924752485835, 'lambda_l2': 7.55632486856011e-05, 'num_leaves': 83, 'feature_fraction': 0.992593709070849, 'bagging_fraction': 0.7448364778531973, 'bagging_freq': 6, 'min_child_samples': 92}. Best is trial 1 with value: 0.8777255910367086.\u001b[0m\n"
     ]
    },
    {
     "name": "stdout",
     "output_type": "stream",
     "text": [
      "[LightGBM] [Warning] feature_fraction is set=0.5611675335824443, colsample_bytree=1.0 will be ignored. Current value: feature_fraction=0.5611675335824443\n",
      "[LightGBM] [Warning] lambda_l1 is set=0.015418938494028516, reg_alpha=0.0 will be ignored. Current value: lambda_l1=0.015418938494028516\n",
      "[LightGBM] [Warning] bagging_fraction is set=0.634467737564536, subsample=1.0 will be ignored. Current value: bagging_fraction=0.634467737564536\n",
      "[LightGBM] [Warning] lambda_l2 is set=0.0006384642900679354, reg_lambda=0.0 will be ignored. Current value: lambda_l2=0.0006384642900679354\n",
      "[LightGBM] [Warning] bagging_freq is set=1, subsample_freq=0 will be ignored. Current value: bagging_freq=1\n"
     ]
    },
    {
     "name": "stderr",
     "output_type": "stream",
     "text": [
      "\u001b[32m[I 2022-11-25 00:23:49,912]\u001b[0m Trial 11 finished with value: 0.8775812757471596 and parameters: {'lambda_l1': 0.015418938494028516, 'lambda_l2': 0.0006384642900679354, 'num_leaves': 71, 'feature_fraction': 0.5611675335824443, 'bagging_fraction': 0.634467737564536, 'bagging_freq': 1, 'min_child_samples': 37}. Best is trial 1 with value: 0.8777255910367086.\u001b[0m\n"
     ]
    },
    {
     "name": "stdout",
     "output_type": "stream",
     "text": [
      "[LightGBM] [Warning] feature_fraction is set=0.5616481678955986, colsample_bytree=1.0 will be ignored. Current value: feature_fraction=0.5616481678955986\n",
      "[LightGBM] [Warning] lambda_l1 is set=0.00011166403739355054, reg_alpha=0.0 will be ignored. Current value: lambda_l1=0.00011166403739355054\n",
      "[LightGBM] [Warning] bagging_fraction is set=0.8073279130520679, subsample=1.0 will be ignored. Current value: bagging_fraction=0.8073279130520679\n",
      "[LightGBM] [Warning] lambda_l2 is set=5.135473512159995e-06, reg_lambda=0.0 will be ignored. Current value: lambda_l2=5.135473512159995e-06\n",
      "[LightGBM] [Warning] bagging_freq is set=2, subsample_freq=0 will be ignored. Current value: bagging_freq=2\n"
     ]
    },
    {
     "name": "stderr",
     "output_type": "stream",
     "text": [
      "\u001b[32m[I 2022-11-25 00:23:51,815]\u001b[0m Trial 12 finished with value: 0.877240166880953 and parameters: {'lambda_l1': 0.00011166403739355054, 'lambda_l2': 5.135473512159995e-06, 'num_leaves': 235, 'feature_fraction': 0.5616481678955986, 'bagging_fraction': 0.8073279130520679, 'bagging_freq': 2, 'min_child_samples': 42}. Best is trial 1 with value: 0.8777255910367086.\u001b[0m\n"
     ]
    },
    {
     "name": "stdout",
     "output_type": "stream",
     "text": [
      "[LightGBM] [Warning] feature_fraction is set=0.4484615677088858, colsample_bytree=1.0 will be ignored. Current value: feature_fraction=0.4484615677088858\n",
      "[LightGBM] [Warning] lambda_l1 is set=0.07250786103535893, reg_alpha=0.0 will be ignored. Current value: lambda_l1=0.07250786103535893\n",
      "[LightGBM] [Warning] bagging_fraction is set=0.40835922548147463, subsample=1.0 will be ignored. Current value: bagging_fraction=0.40835922548147463\n",
      "[LightGBM] [Warning] lambda_l2 is set=4.9097875024706, reg_lambda=0.0 will be ignored. Current value: lambda_l2=4.9097875024706\n",
      "[LightGBM] [Warning] bagging_freq is set=1, subsample_freq=0 will be ignored. Current value: bagging_freq=1\n"
     ]
    },
    {
     "name": "stderr",
     "output_type": "stream",
     "text": [
      "\u001b[32m[I 2022-11-25 00:23:53,230]\u001b[0m Trial 13 finished with value: 0.8775550366036052 and parameters: {'lambda_l1': 0.07250786103535893, 'lambda_l2': 4.9097875024706, 'num_leaves': 66, 'feature_fraction': 0.4484615677088858, 'bagging_fraction': 0.40835922548147463, 'bagging_freq': 1, 'min_child_samples': 99}. Best is trial 1 with value: 0.8777255910367086.\u001b[0m\n"
     ]
    },
    {
     "name": "stdout",
     "output_type": "stream",
     "text": [
      "[LightGBM] [Warning] feature_fraction is set=0.5915861195337503, colsample_bytree=1.0 will be ignored. Current value: feature_fraction=0.5915861195337503\n",
      "[LightGBM] [Warning] lambda_l1 is set=1.0532484254903143e-05, reg_alpha=0.0 will be ignored. Current value: lambda_l1=1.0532484254903143e-05\n",
      "[LightGBM] [Warning] bagging_fraction is set=0.6255538253881087, subsample=1.0 will be ignored. Current value: bagging_fraction=0.6255538253881087\n",
      "[LightGBM] [Warning] lambda_l2 is set=0.0015900498010132996, reg_lambda=0.0 will be ignored. Current value: lambda_l2=0.0015900498010132996\n",
      "[LightGBM] [Warning] bagging_freq is set=2, subsample_freq=0 will be ignored. Current value: bagging_freq=2\n"
     ]
    },
    {
     "name": "stderr",
     "output_type": "stream",
     "text": [
      "\u001b[32m[I 2022-11-25 00:23:54,066]\u001b[0m Trial 14 finished with value: 0.8776206344624912 and parameters: {'lambda_l1': 1.0532484254903143e-05, 'lambda_l2': 0.0015900498010132996, 'num_leaves': 4, 'feature_fraction': 0.5915861195337503, 'bagging_fraction': 0.6255538253881087, 'bagging_freq': 2, 'min_child_samples': 27}. Best is trial 1 with value: 0.8777255910367086.\u001b[0m\n"
     ]
    },
    {
     "name": "stdout",
     "output_type": "stream",
     "text": [
      "[LightGBM] [Warning] feature_fraction is set=0.49252970251037775, colsample_bytree=1.0 will be ignored. Current value: feature_fraction=0.49252970251037775\n",
      "[LightGBM] [Warning] lambda_l1 is set=0.00033165736453963693, reg_alpha=0.0 will be ignored. Current value: lambda_l1=0.00033165736453963693\n",
      "[LightGBM] [Warning] bagging_fraction is set=0.8241596452749125, subsample=1.0 will be ignored. Current value: bagging_fraction=0.8241596452749125\n",
      "[LightGBM] [Warning] lambda_l2 is set=3.7431053744208236e-05, reg_lambda=0.0 will be ignored. Current value: lambda_l2=3.7431053744208236e-05\n",
      "[LightGBM] [Warning] bagging_freq is set=5, subsample_freq=0 will be ignored. Current value: bagging_freq=5\n"
     ]
    },
    {
     "name": "stderr",
     "output_type": "stream",
     "text": [
      "\u001b[32m[I 2022-11-25 00:23:55,709]\u001b[0m Trial 15 finished with value: 0.8775025583164966 and parameters: {'lambda_l1': 0.00033165736453963693, 'lambda_l2': 3.7431053744208236e-05, 'num_leaves': 111, 'feature_fraction': 0.49252970251037775, 'bagging_fraction': 0.8241596452749125, 'bagging_freq': 5, 'min_child_samples': 53}. Best is trial 1 with value: 0.8777255910367086.\u001b[0m\n"
     ]
    },
    {
     "name": "stdout",
     "output_type": "stream",
     "text": [
      "[LightGBM] [Warning] feature_fraction is set=0.7418959549242107, colsample_bytree=1.0 will be ignored. Current value: feature_fraction=0.7418959549242107\n",
      "[LightGBM] [Warning] lambda_l1 is set=0.1911576636283108, reg_alpha=0.0 will be ignored. Current value: lambda_l1=0.1911576636283108\n",
      "[LightGBM] [Warning] bagging_fraction is set=0.576823816958307, subsample=1.0 will be ignored. Current value: bagging_fraction=0.576823816958307\n",
      "[LightGBM] [Warning] lambda_l2 is set=0.01758037000143058, reg_lambda=0.0 will be ignored. Current value: lambda_l2=0.01758037000143058\n",
      "[LightGBM] [Warning] bagging_freq is set=3, subsample_freq=0 will be ignored. Current value: bagging_freq=3\n"
     ]
    },
    {
     "name": "stderr",
     "output_type": "stream",
     "text": [
      "\u001b[32m[I 2022-11-25 00:23:57,574]\u001b[0m Trial 16 finished with value: 0.8767547427251975 and parameters: {'lambda_l1': 0.1911576636283108, 'lambda_l2': 0.01758037000143058, 'num_leaves': 178, 'feature_fraction': 0.7418959549242107, 'bagging_fraction': 0.576823816958307, 'bagging_freq': 3, 'min_child_samples': 21}. Best is trial 1 with value: 0.8777255910367086.\u001b[0m\n"
     ]
    },
    {
     "name": "stdout",
     "output_type": "stream",
     "text": [
      "[LightGBM] [Warning] feature_fraction is set=0.6129995413821249, colsample_bytree=1.0 will be ignored. Current value: feature_fraction=0.6129995413821249\n",
      "[LightGBM] [Warning] lambda_l1 is set=4.112444695008063e-07, reg_alpha=0.0 will be ignored. Current value: lambda_l1=4.112444695008063e-07\n",
      "[LightGBM] [Warning] bagging_fraction is set=0.8804656269501396, subsample=1.0 will be ignored. Current value: bagging_fraction=0.8804656269501396\n",
      "[LightGBM] [Warning] lambda_l2 is set=5.944993162765413e-07, reg_lambda=0.0 will be ignored. Current value: lambda_l2=5.944993162765413e-07\n",
      "[LightGBM] [Warning] bagging_freq is set=2, subsample_freq=0 will be ignored. Current value: bagging_freq=2\n"
     ]
    },
    {
     "name": "stderr",
     "output_type": "stream",
     "text": [
      "\u001b[32m[I 2022-11-25 00:23:58,957]\u001b[0m Trial 17 finished with value: 0.8776337540342684 and parameters: {'lambda_l1': 4.112444695008063e-07, 'lambda_l2': 5.944993162765413e-07, 'num_leaves': 102, 'feature_fraction': 0.6129995413821249, 'bagging_fraction': 0.8804656269501396, 'bagging_freq': 2, 'min_child_samples': 47}. Best is trial 1 with value: 0.8777255910367086.\u001b[0m\n"
     ]
    },
    {
     "name": "stdout",
     "output_type": "stream",
     "text": [
      "[LightGBM] [Warning] feature_fraction is set=0.6598452890029001, colsample_bytree=1.0 will be ignored. Current value: feature_fraction=0.6598452890029001\n",
      "[LightGBM] [Warning] lambda_l1 is set=3.8825604990258277e-07, reg_alpha=0.0 will be ignored. Current value: lambda_l1=3.8825604990258277e-07\n",
      "[LightGBM] [Warning] bagging_fraction is set=0.8879599995621085, subsample=1.0 will be ignored. Current value: bagging_fraction=0.8879599995621085\n",
      "[LightGBM] [Warning] lambda_l2 is set=7.384400130521379e-07, reg_lambda=0.0 will be ignored. Current value: lambda_l2=7.384400130521379e-07\n",
      "[LightGBM] [Warning] bagging_freq is set=5, subsample_freq=0 will be ignored. Current value: bagging_freq=5\n"
     ]
    },
    {
     "name": "stderr",
     "output_type": "stream",
     "text": [
      "\u001b[32m[I 2022-11-25 00:24:00,350]\u001b[0m Trial 18 finished with value: 0.8774894387447194 and parameters: {'lambda_l1': 3.8825604990258277e-07, 'lambda_l2': 7.384400130521379e-07, 'num_leaves': 103, 'feature_fraction': 0.6598452890029001, 'bagging_fraction': 0.8879599995621085, 'bagging_freq': 5, 'min_child_samples': 47}. Best is trial 1 with value: 0.8777255910367086.\u001b[0m\n"
     ]
    },
    {
     "name": "stdout",
     "output_type": "stream",
     "text": [
      "[LightGBM] [Warning] feature_fraction is set=0.8318811808173818, colsample_bytree=1.0 will be ignored. Current value: feature_fraction=0.8318811808173818\n",
      "[LightGBM] [Warning] lambda_l1 is set=1.4018782671519816e-08, reg_alpha=0.0 will be ignored. Current value: lambda_l1=1.4018782671519816e-08\n",
      "[LightGBM] [Warning] bagging_fraction is set=0.7726390748885096, subsample=1.0 will be ignored. Current value: bagging_fraction=0.7726390748885096\n",
      "[LightGBM] [Warning] lambda_l2 is set=5.969855688640985e-07, reg_lambda=0.0 will be ignored. Current value: lambda_l2=5.969855688640985e-07\n",
      "[LightGBM] [Warning] bagging_freq is set=2, subsample_freq=0 will be ignored. Current value: bagging_freq=2\n"
     ]
    },
    {
     "name": "stderr",
     "output_type": "stream",
     "text": [
      "\u001b[32m[I 2022-11-25 00:24:01,919]\u001b[0m Trial 19 finished with value: 0.8768859384429692 and parameters: {'lambda_l1': 1.4018782671519816e-08, 'lambda_l2': 5.969855688640985e-07, 'num_leaves': 143, 'feature_fraction': 0.8318811808173818, 'bagging_fraction': 0.7726390748885096, 'bagging_freq': 2, 'min_child_samples': 62}. Best is trial 1 with value: 0.8777255910367086.\u001b[0m\n"
     ]
    },
    {
     "name": "stdout",
     "output_type": "stream",
     "text": [
      "[LightGBM] [Warning] feature_fraction is set=0.6109965993634674, colsample_bytree=1.0 will be ignored. Current value: feature_fraction=0.6109965993634674\n",
      "[LightGBM] [Warning] lambda_l1 is set=1.805284269417914e-06, reg_alpha=0.0 will be ignored. Current value: lambda_l1=1.805284269417914e-06\n",
      "[LightGBM] [Warning] bagging_fraction is set=0.8920202420475661, subsample=1.0 will be ignored. Current value: bagging_fraction=0.8920202420475661\n",
      "[LightGBM] [Warning] lambda_l2 is set=7.676254599235726e-06, reg_lambda=0.0 will be ignored. Current value: lambda_l2=7.676254599235726e-06\n",
      "[LightGBM] [Warning] bagging_freq is set=3, subsample_freq=0 will be ignored. Current value: bagging_freq=3\n"
     ]
    },
    {
     "name": "stderr",
     "output_type": "stream",
     "text": [
      "\u001b[32m[I 2022-11-25 00:24:03,756]\u001b[0m Trial 20 finished with value: 0.8772008081656215 and parameters: {'lambda_l1': 1.805284269417914e-06, 'lambda_l2': 7.676254599235726e-06, 'num_leaves': 209, 'feature_fraction': 0.6109965993634674, 'bagging_fraction': 0.8920202420475661, 'bagging_freq': 3, 'min_child_samples': 86}. Best is trial 1 with value: 0.8777255910367086.\u001b[0m\n"
     ]
    },
    {
     "name": "stdout",
     "output_type": "stream",
     "text": [
      "[LightGBM] [Warning] feature_fraction is set=0.6161486111928444, colsample_bytree=1.0 will be ignored. Current value: feature_fraction=0.6161486111928444\n",
      "[LightGBM] [Warning] lambda_l1 is set=2.1628108351819626e-05, reg_alpha=0.0 will be ignored. Current value: lambda_l1=2.1628108351819626e-05\n",
      "[LightGBM] [Warning] bagging_fraction is set=0.6958129319243967, subsample=1.0 will be ignored. Current value: bagging_fraction=0.6958129319243967\n",
      "[LightGBM] [Warning] lambda_l2 is set=7.312884924785384e-05, reg_lambda=0.0 will be ignored. Current value: lambda_l2=7.312884924785384e-05\n",
      "[LightGBM] [Warning] bagging_freq is set=1, subsample_freq=0 will be ignored. Current value: bagging_freq=1\n"
     ]
    },
    {
     "name": "stderr",
     "output_type": "stream",
     "text": [
      "\u001b[32m[I 2022-11-25 00:24:04,761]\u001b[0m Trial 21 finished with value: 0.877541917031828 and parameters: {'lambda_l1': 2.1628108351819626e-05, 'lambda_l2': 7.312884924785384e-05, 'num_leaves': 40, 'feature_fraction': 0.6161486111928444, 'bagging_fraction': 0.6958129319243967, 'bagging_freq': 1, 'min_child_samples': 20}. Best is trial 1 with value: 0.8777255910367086.\u001b[0m\n"
     ]
    },
    {
     "name": "stdout",
     "output_type": "stream",
     "text": [
      "[LightGBM] [Warning] feature_fraction is set=0.7199462892214883, colsample_bytree=1.0 will be ignored. Current value: feature_fraction=0.7199462892214883\n",
      "[LightGBM] [Warning] lambda_l1 is set=0.0002524594882544001, reg_alpha=0.0 will be ignored. Current value: lambda_l1=0.0002524594882544001\n",
      "[LightGBM] [Warning] bagging_fraction is set=0.8842530075504386, subsample=1.0 will be ignored. Current value: bagging_fraction=0.8842530075504386\n",
      "[LightGBM] [Warning] lambda_l2 is set=0.0022246089490863498, reg_lambda=0.0 will be ignored. Current value: lambda_l2=0.0022246089490863498\n",
      "[LightGBM] [Warning] bagging_freq is set=2, subsample_freq=0 will be ignored. Current value: bagging_freq=2\n"
     ]
    },
    {
     "name": "stderr",
     "output_type": "stream",
     "text": [
      "\u001b[32m[I 2022-11-25 00:24:06,059]\u001b[0m Trial 22 finished with value: 0.8776468736060455 and parameters: {'lambda_l1': 0.0002524594882544001, 'lambda_l2': 0.0022246089490863498, 'num_leaves': 52, 'feature_fraction': 0.7199462892214883, 'bagging_fraction': 0.8842530075504386, 'bagging_freq': 2, 'min_child_samples': 61}. Best is trial 1 with value: 0.8777255910367086.\u001b[0m\n"
     ]
    },
    {
     "name": "stdout",
     "output_type": "stream",
     "text": [
      "[LightGBM] [Warning] feature_fraction is set=0.7235094027605448, colsample_bytree=1.0 will be ignored. Current value: feature_fraction=0.7235094027605448\n",
      "[LightGBM] [Warning] lambda_l1 is set=0.0004834106017506628, reg_alpha=0.0 will be ignored. Current value: lambda_l1=0.0004834106017506628\n",
      "[LightGBM] [Warning] bagging_fraction is set=0.898754226455068, subsample=1.0 will be ignored. Current value: bagging_fraction=0.898754226455068\n",
      "[LightGBM] [Warning] lambda_l2 is set=0.0009535424577605711, reg_lambda=0.0 will be ignored. Current value: lambda_l2=0.0009535424577605711\n",
      "[LightGBM] [Warning] bagging_freq is set=2, subsample_freq=0 will be ignored. Current value: bagging_freq=2\n"
     ]
    },
    {
     "name": "stderr",
     "output_type": "stream",
     "text": [
      "\u001b[32m[I 2022-11-25 00:24:07,365]\u001b[0m Trial 23 finished with value: 0.8775681561753824 and parameters: {'lambda_l1': 0.0004834106017506628, 'lambda_l2': 0.0009535424577605711, 'num_leaves': 87, 'feature_fraction': 0.7235094027605448, 'bagging_fraction': 0.898754226455068, 'bagging_freq': 2, 'min_child_samples': 56}. Best is trial 1 with value: 0.8777255910367086.\u001b[0m\n"
     ]
    },
    {
     "name": "stdout",
     "output_type": "stream",
     "text": [
      "[LightGBM] [Warning] feature_fraction is set=0.7694477665473823, colsample_bytree=1.0 will be ignored. Current value: feature_fraction=0.7694477665473823\n",
      "[LightGBM] [Warning] lambda_l1 is set=1.2883544794406538e-06, reg_alpha=0.0 will be ignored. Current value: lambda_l1=1.2883544794406538e-06\n",
      "[LightGBM] [Warning] bagging_fraction is set=0.9874066124989477, subsample=1.0 will be ignored. Current value: bagging_fraction=0.9874066124989477\n",
      "[LightGBM] [Warning] lambda_l2 is set=9.119945162874674e-08, reg_lambda=0.0 will be ignored. Current value: lambda_l2=9.119945162874674e-08\n",
      "[LightGBM] [Warning] bagging_freq is set=3, subsample_freq=0 will be ignored. Current value: bagging_freq=3\n"
     ]
    },
    {
     "name": "stderr",
     "output_type": "stream",
     "text": [
      "\u001b[32m[I 2022-11-25 00:24:08,705]\u001b[0m Trial 24 finished with value: 0.8776993518931542 and parameters: {'lambda_l1': 1.2883544794406538e-06, 'lambda_l2': 9.119945162874674e-08, 'num_leaves': 56, 'feature_fraction': 0.7694477665473823, 'bagging_fraction': 0.9874066124989477, 'bagging_freq': 3, 'min_child_samples': 64}. Best is trial 1 with value: 0.8777255910367086.\u001b[0m\n"
     ]
    },
    {
     "name": "stdout",
     "output_type": "stream",
     "text": [
      "[LightGBM] [Warning] feature_fraction is set=0.7781565474439176, colsample_bytree=1.0 will be ignored. Current value: feature_fraction=0.7781565474439176\n",
      "[LightGBM] [Warning] lambda_l1 is set=1.2748191306047286e-06, reg_alpha=0.0 will be ignored. Current value: lambda_l1=1.2748191306047286e-06\n",
      "[LightGBM] [Warning] bagging_fraction is set=0.9837760878579555, subsample=1.0 will be ignored. Current value: bagging_fraction=0.9837760878579555\n",
      "[LightGBM] [Warning] lambda_l2 is set=0.0036066015405784397, reg_lambda=0.0 will be ignored. Current value: lambda_l2=0.0036066015405784397\n",
      "[LightGBM] [Warning] bagging_freq is set=3, subsample_freq=0 will be ignored. Current value: bagging_freq=3\n"
     ]
    },
    {
     "name": "stderr",
     "output_type": "stream",
     "text": [
      "\u001b[32m[I 2022-11-25 00:24:09,919]\u001b[0m Trial 25 finished with value: 0.8776206344624912 and parameters: {'lambda_l1': 1.2748191306047286e-06, 'lambda_l2': 0.0036066015405784397, 'num_leaves': 47, 'feature_fraction': 0.7781565474439176, 'bagging_fraction': 0.9837760878579555, 'bagging_freq': 3, 'min_child_samples': 67}. Best is trial 1 with value: 0.8777255910367086.\u001b[0m\n"
     ]
    },
    {
     "name": "stdout",
     "output_type": "stream",
     "text": [
      "[LightGBM] [Warning] feature_fraction is set=0.873929487140248, colsample_bytree=1.0 will be ignored. Current value: feature_fraction=0.873929487140248\n",
      "[LightGBM] [Warning] lambda_l1 is set=5.3315937003090885e-08, reg_alpha=0.0 will be ignored. Current value: lambda_l1=5.3315937003090885e-08\n",
      "[LightGBM] [Warning] bagging_fraction is set=0.9267235954126263, subsample=1.0 will be ignored. Current value: bagging_fraction=0.9267235954126263\n",
      "[LightGBM] [Warning] lambda_l2 is set=1.0660758853512618e-07, reg_lambda=0.0 will be ignored. Current value: lambda_l2=1.0660758853512618e-07\n",
      "[LightGBM] [Warning] bagging_freq is set=4, subsample_freq=0 will be ignored. Current value: bagging_freq=4\n"
     ]
    },
    {
     "name": "stderr",
     "output_type": "stream",
     "text": [
      "\u001b[32m[I 2022-11-25 00:24:11,184]\u001b[0m Trial 26 finished with value: 0.8774763191729422 and parameters: {'lambda_l1': 5.3315937003090885e-08, 'lambda_l2': 1.0660758853512618e-07, 'num_leaves': 58, 'feature_fraction': 0.873929487140248, 'bagging_fraction': 0.9267235954126263, 'bagging_freq': 4, 'min_child_samples': 88}. Best is trial 1 with value: 0.8777255910367086.\u001b[0m\n"
     ]
    },
    {
     "name": "stdout",
     "output_type": "stream",
     "text": [
      "[LightGBM] [Warning] feature_fraction is set=0.8646259288297373, colsample_bytree=1.0 will be ignored. Current value: feature_fraction=0.8646259288297373\n",
      "[LightGBM] [Warning] lambda_l1 is set=0.0009396971574659025, reg_alpha=0.0 will be ignored. Current value: lambda_l1=0.0009396971574659025\n",
      "[LightGBM] [Warning] bagging_fraction is set=0.7959066382873574, subsample=1.0 will be ignored. Current value: bagging_fraction=0.7959066382873574\n",
      "[LightGBM] [Warning] lambda_l2 is set=0.00021775027128715575, reg_lambda=0.0 will be ignored. Current value: lambda_l2=0.00021775027128715575\n",
      "[LightGBM] [Warning] bagging_freq is set=3, subsample_freq=0 will be ignored. Current value: bagging_freq=3\n"
     ]
    },
    {
     "name": "stderr",
     "output_type": "stream",
     "text": [
      "\u001b[32m[I 2022-11-25 00:24:13,064]\u001b[0m Trial 27 finished with value: 0.8773057647398389 and parameters: {'lambda_l1': 0.0009396971574659025, 'lambda_l2': 0.00021775027128715575, 'num_leaves': 129, 'feature_fraction': 0.8646259288297373, 'bagging_fraction': 0.7959066382873574, 'bagging_freq': 3, 'min_child_samples': 63}. Best is trial 1 with value: 0.8777255910367086.\u001b[0m\n"
     ]
    },
    {
     "name": "stdout",
     "output_type": "stream",
     "text": [
      "[LightGBM] [Warning] feature_fraction is set=0.7678621162879182, colsample_bytree=1.0 will be ignored. Current value: feature_fraction=0.7678621162879182\n",
      "[LightGBM] [Warning] lambda_l1 is set=2.834193171761842e-05, reg_alpha=0.0 will be ignored. Current value: lambda_l1=2.834193171761842e-05\n",
      "[LightGBM] [Warning] bagging_fraction is set=0.9949533446015104, subsample=1.0 will be ignored. Current value: bagging_fraction=0.9949533446015104\n",
      "[LightGBM] [Warning] lambda_l2 is set=0.33852299303611466, reg_lambda=0.0 will be ignored. Current value: lambda_l2=0.33852299303611466\n",
      "[LightGBM] [Warning] bagging_freq is set=5, subsample_freq=0 will be ignored. Current value: bagging_freq=5\n"
     ]
    },
    {
     "name": "stderr",
     "output_type": "stream",
     "text": [
      "\u001b[32m[I 2022-11-25 00:24:14,693]\u001b[0m Trial 28 finished with value: 0.8775812757471596 and parameters: {'lambda_l1': 2.834193171761842e-05, 'lambda_l2': 0.33852299303611466, 'num_leaves': 164, 'feature_fraction': 0.7678621162879182, 'bagging_fraction': 0.9949533446015104, 'bagging_freq': 5, 'min_child_samples': 98}. Best is trial 1 with value: 0.8777255910367086.\u001b[0m\n"
     ]
    },
    {
     "name": "stdout",
     "output_type": "stream",
     "text": [
      "[LightGBM] [Warning] feature_fraction is set=0.6871447875432434, colsample_bytree=1.0 will be ignored. Current value: feature_fraction=0.6871447875432434\n",
      "[LightGBM] [Warning] lambda_l1 is set=0.00010041001404721509, reg_alpha=0.0 will be ignored. Current value: lambda_l1=0.00010041001404721509\n",
      "[LightGBM] [Warning] bagging_fraction is set=0.8507827012435887, subsample=1.0 will be ignored. Current value: bagging_fraction=0.8507827012435887\n",
      "[LightGBM] [Warning] lambda_l2 is set=0.0880188036950162, reg_lambda=0.0 will be ignored. Current value: lambda_l2=0.0880188036950162\n",
      "[LightGBM] [Warning] bagging_freq is set=2, subsample_freq=0 will be ignored. Current value: bagging_freq=2\n"
     ]
    },
    {
     "name": "stderr",
     "output_type": "stream",
     "text": [
      "\u001b[32m[I 2022-11-25 00:24:15,645]\u001b[0m Trial 29 finished with value: 0.8776206344624912 and parameters: {'lambda_l1': 0.00010041001404721509, 'lambda_l2': 0.0880188036950162, 'num_leaves': 8, 'feature_fraction': 0.6871447875432434, 'bagging_fraction': 0.8507827012435887, 'bagging_freq': 2, 'min_child_samples': 79}. Best is trial 1 with value: 0.8777255910367086.\u001b[0m\n"
     ]
    },
    {
     "name": "stdout",
     "output_type": "stream",
     "text": [
      "[LightGBM] [Warning] feature_fraction is set=0.6915814330409343, colsample_bytree=1.0 will be ignored. Current value: feature_fraction=0.6915814330409343\n",
      "[LightGBM] [Warning] lambda_l1 is set=0.0029531920442687617, reg_alpha=0.0 will be ignored. Current value: lambda_l1=0.0029531920442687617\n",
      "[LightGBM] [Warning] bagging_fraction is set=0.7454120402992945, subsample=1.0 will be ignored. Current value: bagging_fraction=0.7454120402992945\n",
      "[LightGBM] [Warning] lambda_l2 is set=2.1270505800298714e-05, reg_lambda=0.0 will be ignored. Current value: lambda_l2=2.1270505800298714e-05\n",
      "[LightGBM] [Warning] bagging_freq is set=4, subsample_freq=0 will be ignored. Current value: bagging_freq=4\n"
     ]
    },
    {
     "name": "stderr",
     "output_type": "stream",
     "text": [
      "\u001b[32m[I 2022-11-25 00:24:16,854]\u001b[0m Trial 30 finished with value: 0.8775812757471596 and parameters: {'lambda_l1': 0.0029531920442687617, 'lambda_l2': 2.1270505800298714e-05, 'num_leaves': 84, 'feature_fraction': 0.6915814330409343, 'bagging_fraction': 0.7454120402992945, 'bagging_freq': 4, 'min_child_samples': 56}. Best is trial 1 with value: 0.8777255910367086.\u001b[0m\n"
     ]
    },
    {
     "name": "stdout",
     "output_type": "stream",
     "text": [
      "[LightGBM] [Warning] feature_fraction is set=0.6344516320528356, colsample_bytree=1.0 will be ignored. Current value: feature_fraction=0.6344516320528356\n",
      "[LightGBM] [Warning] lambda_l1 is set=4.2444913646491935e-07, reg_alpha=0.0 will be ignored. Current value: lambda_l1=4.2444913646491935e-07\n",
      "[LightGBM] [Warning] bagging_fraction is set=0.8550986836911924, subsample=1.0 will be ignored. Current value: bagging_fraction=0.8550986836911924\n",
      "[LightGBM] [Warning] lambda_l2 is set=1.1706554940464663e-06, reg_lambda=0.0 will be ignored. Current value: lambda_l2=1.1706554940464663e-06\n",
      "[LightGBM] [Warning] bagging_freq is set=2, subsample_freq=0 will be ignored. Current value: bagging_freq=2\n"
     ]
    },
    {
     "name": "stderr",
     "output_type": "stream",
     "text": [
      "\u001b[32m[I 2022-11-25 00:24:18,420]\u001b[0m Trial 31 finished with value: 0.8778174280391488 and parameters: {'lambda_l1': 4.2444913646491935e-07, 'lambda_l2': 1.1706554940464663e-06, 'num_leaves': 120, 'feature_fraction': 0.6344516320528356, 'bagging_fraction': 0.8550986836911924, 'bagging_freq': 2, 'min_child_samples': 48}. Best is trial 31 with value: 0.8778174280391488.\u001b[0m\n"
     ]
    },
    {
     "name": "stdout",
     "output_type": "stream",
     "text": [
      "[LightGBM] [Warning] feature_fraction is set=0.7231740233297799, colsample_bytree=1.0 will be ignored. Current value: feature_fraction=0.7231740233297799\n",
      "[LightGBM] [Warning] lambda_l1 is set=1.3077929426890414e-06, reg_alpha=0.0 will be ignored. Current value: lambda_l1=1.3077929426890414e-06\n",
      "[LightGBM] [Warning] bagging_fraction is set=0.8526061253978984, subsample=1.0 will be ignored. Current value: bagging_fraction=0.8526061253978984\n",
      "[LightGBM] [Warning] lambda_l2 is set=2.1794329675037607e-06, reg_lambda=0.0 will be ignored. Current value: lambda_l2=2.1794329675037607e-06\n",
      "[LightGBM] [Warning] bagging_freq is set=2, subsample_freq=0 will be ignored. Current value: bagging_freq=2\n"
     ]
    },
    {
     "name": "stderr",
     "output_type": "stream",
     "text": [
      "\u001b[32m[I 2022-11-25 00:24:19,937]\u001b[0m Trial 32 finished with value: 0.8773844821705019 and parameters: {'lambda_l1': 1.3077929426890414e-06, 'lambda_l2': 2.1794329675037607e-06, 'num_leaves': 122, 'feature_fraction': 0.7231740233297799, 'bagging_fraction': 0.8526061253978984, 'bagging_freq': 2, 'min_child_samples': 47}. Best is trial 31 with value: 0.8778174280391488.\u001b[0m\n"
     ]
    },
    {
     "name": "stdout",
     "output_type": "stream",
     "text": [
      "[LightGBM] [Warning] feature_fraction is set=0.7328149259948831, colsample_bytree=1.0 will be ignored. Current value: feature_fraction=0.7328149259948831\n",
      "[LightGBM] [Warning] lambda_l1 is set=4.972363189242968e-06, reg_alpha=0.0 will be ignored. Current value: lambda_l1=4.972363189242968e-06\n",
      "[LightGBM] [Warning] bagging_fraction is set=0.9453648318059847, subsample=1.0 will be ignored. Current value: bagging_fraction=0.9453648318059847\n",
      "[LightGBM] [Warning] lambda_l2 is set=7.911147546962395e-08, reg_lambda=0.0 will be ignored. Current value: lambda_l2=7.911147546962395e-08\n",
      "[LightGBM] [Warning] bagging_freq is set=1, subsample_freq=0 will be ignored. Current value: bagging_freq=1\n"
     ]
    },
    {
     "name": "stderr",
     "output_type": "stream",
     "text": [
      "\u001b[32m[I 2022-11-25 00:24:21,327]\u001b[0m Trial 33 finished with value: 0.8773713625987247 and parameters: {'lambda_l1': 4.972363189242968e-06, 'lambda_l2': 7.911147546962395e-08, 'num_leaves': 195, 'feature_fraction': 0.7328149259948831, 'bagging_fraction': 0.9453648318059847, 'bagging_freq': 1, 'min_child_samples': 74}. Best is trial 31 with value: 0.8778174280391488.\u001b[0m\n"
     ]
    },
    {
     "name": "stdout",
     "output_type": "stream",
     "text": [
      "[LightGBM] [Warning] feature_fraction is set=0.6559699634421892, colsample_bytree=1.0 will be ignored. Current value: feature_fraction=0.6559699634421892\n",
      "[LightGBM] [Warning] lambda_l1 is set=5.931980291432172e-08, reg_alpha=0.0 will be ignored. Current value: lambda_l1=5.931980291432172e-08\n",
      "[LightGBM] [Warning] bagging_fraction is set=0.9429175440955269, subsample=1.0 will be ignored. Current value: bagging_fraction=0.9429175440955269\n",
      "[LightGBM] [Warning] lambda_l2 is set=0.00017748519126672735, reg_lambda=0.0 will be ignored. Current value: lambda_l2=0.00017748519126672735\n",
      "[LightGBM] [Warning] bagging_freq is set=3, subsample_freq=0 will be ignored. Current value: bagging_freq=3\n"
     ]
    },
    {
     "name": "stderr",
     "output_type": "stream",
     "text": [
      "\u001b[32m[I 2022-11-25 00:24:22,399]\u001b[0m Trial 34 finished with value: 0.8775812757471596 and parameters: {'lambda_l1': 5.931980291432172e-08, 'lambda_l2': 0.00017748519126672735, 'num_leaves': 25, 'feature_fraction': 0.6559699634421892, 'bagging_fraction': 0.9429175440955269, 'bagging_freq': 3, 'min_child_samples': 82}. Best is trial 31 with value: 0.8778174280391488.\u001b[0m\n"
     ]
    },
    {
     "name": "stdout",
     "output_type": "stream",
     "text": [
      "[LightGBM] [Warning] feature_fraction is set=0.6323791007683339, colsample_bytree=1.0 will be ignored. Current value: feature_fraction=0.6323791007683339\n",
      "[LightGBM] [Warning] lambda_l1 is set=1.4154662550158068e-05, reg_alpha=0.0 will be ignored. Current value: lambda_l1=1.4154662550158068e-05\n",
      "[LightGBM] [Warning] bagging_fraction is set=0.8337475731063407, subsample=1.0 will be ignored. Current value: bagging_fraction=0.8337475731063407\n",
      "[LightGBM] [Warning] lambda_l2 is set=1.8773831836994645e-06, reg_lambda=0.0 will be ignored. Current value: lambda_l2=1.8773831836994645e-06\n",
      "[LightGBM] [Warning] bagging_freq is set=2, subsample_freq=0 will be ignored. Current value: bagging_freq=2\n"
     ]
    },
    {
     "name": "stderr",
     "output_type": "stream",
     "text": [
      "\u001b[32m[I 2022-11-25 00:24:23,901]\u001b[0m Trial 35 finished with value: 0.8775287974600509 and parameters: {'lambda_l1': 1.4154662550158068e-05, 'lambda_l2': 1.8773831836994645e-06, 'num_leaves': 117, 'feature_fraction': 0.6323791007683339, 'bagging_fraction': 0.8337475731063407, 'bagging_freq': 2, 'min_child_samples': 67}. Best is trial 31 with value: 0.8778174280391488.\u001b[0m\n"
     ]
    },
    {
     "name": "stdout",
     "output_type": "stream",
     "text": [
      "[LightGBM] [Warning] feature_fraction is set=0.6914638821966521, colsample_bytree=1.0 will be ignored. Current value: feature_fraction=0.6914638821966521\n",
      "[LightGBM] [Warning] lambda_l1 is set=5.481306939624747, reg_alpha=0.0 will be ignored. Current value: lambda_l1=5.481306939624747\n",
      "[LightGBM] [Warning] bagging_fraction is set=0.9170332489388039, subsample=1.0 will be ignored. Current value: bagging_fraction=0.9170332489388039\n",
      "[LightGBM] [Warning] lambda_l2 is set=1.9355071303249553e-05, reg_lambda=0.0 will be ignored. Current value: lambda_l2=1.9355071303249553e-05\n",
      "[LightGBM] [Warning] bagging_freq is set=1, subsample_freq=0 will be ignored. Current value: bagging_freq=1\n"
     ]
    },
    {
     "name": "stderr",
     "output_type": "stream",
     "text": [
      "\u001b[32m[I 2022-11-25 00:24:25,002]\u001b[0m Trial 36 finished with value: 0.8776731127495998 and parameters: {'lambda_l1': 5.481306939624747, 'lambda_l2': 1.9355071303249553e-05, 'num_leaves': 47, 'feature_fraction': 0.6914638821966521, 'bagging_fraction': 0.9170332489388039, 'bagging_freq': 1, 'min_child_samples': 41}. Best is trial 31 with value: 0.8778174280391488.\u001b[0m\n"
     ]
    },
    {
     "name": "stdout",
     "output_type": "stream",
     "text": [
      "[LightGBM] [Warning] feature_fraction is set=0.5391551628953025, colsample_bytree=1.0 will be ignored. Current value: feature_fraction=0.5391551628953025\n",
      "[LightGBM] [Warning] lambda_l1 is set=8.900812659910432, reg_alpha=0.0 will be ignored. Current value: lambda_l1=8.900812659910432\n",
      "[LightGBM] [Warning] bagging_fraction is set=0.9629416675755523, subsample=1.0 will be ignored. Current value: bagging_fraction=0.9629416675755523\n",
      "[LightGBM] [Warning] lambda_l2 is set=1.499378877555364e-05, reg_lambda=0.0 will be ignored. Current value: lambda_l2=1.499378877555364e-05\n",
      "[LightGBM] [Warning] bagging_freq is set=1, subsample_freq=0 will be ignored. Current value: bagging_freq=1\n"
     ]
    },
    {
     "name": "stderr",
     "output_type": "stream",
     "text": [
      "\u001b[32m[I 2022-11-25 00:24:26,561]\u001b[0m Trial 37 finished with value: 0.8775812757471596 and parameters: {'lambda_l1': 8.900812659910432, 'lambda_l2': 1.499378877555364e-05, 'num_leaves': 254, 'feature_fraction': 0.5391551628953025, 'bagging_fraction': 0.9629416675755523, 'bagging_freq': 1, 'min_child_samples': 35}. Best is trial 31 with value: 0.8778174280391488.\u001b[0m\n"
     ]
    },
    {
     "name": "stdout",
     "output_type": "stream",
     "text": [
      "[LightGBM] [Warning] feature_fraction is set=0.7631146099258359, colsample_bytree=1.0 will be ignored. Current value: feature_fraction=0.7631146099258359\n",
      "[LightGBM] [Warning] lambda_l1 is set=0.918520019838801, reg_alpha=0.0 will be ignored. Current value: lambda_l1=0.918520019838801\n",
      "[LightGBM] [Warning] bagging_fraction is set=0.9186774972781755, subsample=1.0 will be ignored. Current value: bagging_fraction=0.9186774972781755\n",
      "[LightGBM] [Warning] lambda_l2 is set=2.3537806996882666e-06, reg_lambda=0.0 will be ignored. Current value: lambda_l2=2.3537806996882666e-06\n",
      "[LightGBM] [Warning] bagging_freq is set=1, subsample_freq=0 will be ignored. Current value: bagging_freq=1\n"
     ]
    },
    {
     "name": "stderr",
     "output_type": "stream",
     "text": [
      "\u001b[32m[I 2022-11-25 00:24:28,151]\u001b[0m Trial 38 finished with value: 0.8775025583164966 and parameters: {'lambda_l1': 0.918520019838801, 'lambda_l2': 2.3537806996882666e-06, 'num_leaves': 152, 'feature_fraction': 0.7631146099258359, 'bagging_fraction': 0.9186774972781755, 'bagging_freq': 1, 'min_child_samples': 41}. Best is trial 31 with value: 0.8778174280391488.\u001b[0m\n"
     ]
    },
    {
     "name": "stdout",
     "output_type": "stream",
     "text": [
      "[LightGBM] [Warning] feature_fraction is set=0.6933405273918357, colsample_bytree=1.0 will be ignored. Current value: feature_fraction=0.6933405273918357\n",
      "[LightGBM] [Warning] lambda_l1 is set=1.252884748125966e-07, reg_alpha=0.0 will be ignored. Current value: lambda_l1=1.252884748125966e-07\n",
      "[LightGBM] [Warning] bagging_fraction is set=0.7799706559038561, subsample=1.0 will be ignored. Current value: bagging_fraction=0.7799706559038561\n",
      "[LightGBM] [Warning] lambda_l2 is set=1.6327674536214486e-08, reg_lambda=0.0 will be ignored. Current value: lambda_l2=1.6327674536214486e-08\n",
      "[LightGBM] [Warning] bagging_freq is set=3, subsample_freq=0 will be ignored. Current value: bagging_freq=3\n"
     ]
    },
    {
     "name": "stderr",
     "output_type": "stream",
     "text": [
      "\u001b[32m[I 2022-11-25 00:24:29,318]\u001b[0m Trial 39 finished with value: 0.8775287974600509 and parameters: {'lambda_l1': 1.252884748125966e-07, 'lambda_l2': 1.6327674536214486e-08, 'num_leaves': 30, 'feature_fraction': 0.6933405273918357, 'bagging_fraction': 0.7799706559038561, 'bagging_freq': 3, 'min_child_samples': 26}. Best is trial 31 with value: 0.8778174280391488.\u001b[0m\n"
     ]
    },
    {
     "name": "stdout",
     "output_type": "stream",
     "text": [
      "[LightGBM] [Warning] feature_fraction is set=0.5120623896814445, colsample_bytree=1.0 will be ignored. Current value: feature_fraction=0.5120623896814445\n",
      "[LightGBM] [Warning] lambda_l1 is set=0.968168821500973, reg_alpha=0.0 will be ignored. Current value: lambda_l1=0.968168821500973\n",
      "[LightGBM] [Warning] bagging_fraction is set=0.9941337491661281, subsample=1.0 will be ignored. Current value: bagging_fraction=0.9941337491661281\n",
      "[LightGBM] [Warning] lambda_l2 is set=8.072900198817357e-08, reg_lambda=0.0 will be ignored. Current value: lambda_l2=8.072900198817357e-08\n",
      "[LightGBM] [Warning] bagging_freq is set=1, subsample_freq=0 will be ignored. Current value: bagging_freq=1\n"
     ]
    },
    {
     "name": "stderr",
     "output_type": "stream",
     "text": [
      "\u001b[32m[I 2022-11-25 00:24:30,447]\u001b[0m Trial 40 finished with value: 0.8775681561753824 and parameters: {'lambda_l1': 0.968168821500973, 'lambda_l2': 8.072900198817357e-08, 'num_leaves': 79, 'feature_fraction': 0.5120623896814445, 'bagging_fraction': 0.9941337491661281, 'bagging_freq': 1, 'min_child_samples': 51}. Best is trial 31 with value: 0.8778174280391488.\u001b[0m\n"
     ]
    },
    {
     "name": "stdout",
     "output_type": "stream",
     "text": [
      "[LightGBM] [Warning] feature_fraction is set=0.638999358787639, colsample_bytree=1.0 will be ignored. Current value: feature_fraction=0.638999358787639\n",
      "[LightGBM] [Warning] lambda_l1 is set=0.00013017529436155554, reg_alpha=0.0 will be ignored. Current value: lambda_l1=0.00013017529436155554\n",
      "[LightGBM] [Warning] bagging_fraction is set=0.8712527433506891, subsample=1.0 will be ignored. Current value: bagging_fraction=0.8712527433506891\n",
      "[LightGBM] [Warning] lambda_l2 is set=2.7571669573702514e-07, reg_lambda=0.0 will be ignored. Current value: lambda_l2=2.7571669573702514e-07\n",
      "[LightGBM] [Warning] bagging_freq is set=2, subsample_freq=0 will be ignored. Current value: bagging_freq=2\n"
     ]
    },
    {
     "name": "stderr",
     "output_type": "stream",
     "text": [
      "\u001b[32m[I 2022-11-25 00:24:31,698]\u001b[0m Trial 41 finished with value: 0.8777255910367086 and parameters: {'lambda_l1': 0.00013017529436155554, 'lambda_l2': 2.7571669573702514e-07, 'num_leaves': 50, 'feature_fraction': 0.638999358787639, 'bagging_fraction': 0.8712527433506891, 'bagging_freq': 2, 'min_child_samples': 41}. Best is trial 31 with value: 0.8778174280391488.\u001b[0m\n"
     ]
    },
    {
     "name": "stdout",
     "output_type": "stream",
     "text": [
      "[LightGBM] [Warning] feature_fraction is set=0.6411730704372295, colsample_bytree=1.0 will be ignored. Current value: feature_fraction=0.6411730704372295\n",
      "[LightGBM] [Warning] lambda_l1 is set=2.8990802165734885e-06, reg_alpha=0.0 will be ignored. Current value: lambda_l1=2.8990802165734885e-06\n",
      "[LightGBM] [Warning] bagging_fraction is set=0.8677356229923749, subsample=1.0 will be ignored. Current value: bagging_fraction=0.8677356229923749\n",
      "[LightGBM] [Warning] lambda_l2 is set=2.2395757653302335e-07, reg_lambda=0.0 will be ignored. Current value: lambda_l2=2.2395757653302335e-07\n",
      "[LightGBM] [Warning] bagging_freq is set=1, subsample_freq=0 will be ignored. Current value: bagging_freq=1\n"
     ]
    },
    {
     "name": "stderr",
     "output_type": "stream",
     "text": [
      "\u001b[32m[I 2022-11-25 00:24:32,724]\u001b[0m Trial 42 finished with value: 0.8777255910367086 and parameters: {'lambda_l1': 2.8990802165734885e-06, 'lambda_l2': 2.2395757653302335e-07, 'num_leaves': 39, 'feature_fraction': 0.6411730704372295, 'bagging_fraction': 0.8677356229923749, 'bagging_freq': 1, 'min_child_samples': 41}. Best is trial 31 with value: 0.8778174280391488.\u001b[0m\n"
     ]
    },
    {
     "name": "stdout",
     "output_type": "stream",
     "text": [
      "[LightGBM] [Warning] feature_fraction is set=0.5733527319083578, colsample_bytree=1.0 will be ignored. Current value: feature_fraction=0.5733527319083578\n",
      "[LightGBM] [Warning] lambda_l1 is set=3.7466466462522204e-06, reg_alpha=0.0 will be ignored. Current value: lambda_l1=3.7466466462522204e-06\n",
      "[LightGBM] [Warning] bagging_fraction is set=0.8636138971702721, subsample=1.0 will be ignored. Current value: bagging_fraction=0.8636138971702721\n",
      "[LightGBM] [Warning] lambda_l2 is set=3.410300889170294e-07, reg_lambda=0.0 will be ignored. Current value: lambda_l2=3.410300889170294e-07\n",
      "[LightGBM] [Warning] bagging_freq is set=2, subsample_freq=0 will be ignored. Current value: bagging_freq=2\n"
     ]
    },
    {
     "name": "stderr",
     "output_type": "stream",
     "text": [
      "\u001b[32m[I 2022-11-25 00:24:33,818]\u001b[0m Trial 43 finished with value: 0.8775550366036052 and parameters: {'lambda_l1': 3.7466466462522204e-06, 'lambda_l2': 3.410300889170294e-07, 'num_leaves': 18, 'feature_fraction': 0.5733527319083578, 'bagging_fraction': 0.8636138971702721, 'bagging_freq': 2, 'min_child_samples': 32}. Best is trial 31 with value: 0.8778174280391488.\u001b[0m\n"
     ]
    },
    {
     "name": "stdout",
     "output_type": "stream",
     "text": [
      "[LightGBM] [Warning] feature_fraction is set=0.641755131425393, colsample_bytree=1.0 will be ignored. Current value: feature_fraction=0.641755131425393\n",
      "[LightGBM] [Warning] lambda_l1 is set=1.2425372818490468e-06, reg_alpha=0.0 will be ignored. Current value: lambda_l1=1.2425372818490468e-06\n",
      "[LightGBM] [Warning] bagging_fraction is set=0.7105145294912362, subsample=1.0 will be ignored. Current value: bagging_fraction=0.7105145294912362\n",
      "[LightGBM] [Warning] lambda_l2 is set=4.172068183789493e-08, reg_lambda=0.0 will be ignored. Current value: lambda_l2=4.172068183789493e-08\n",
      "[LightGBM] [Warning] bagging_freq is set=2, subsample_freq=0 will be ignored. Current value: bagging_freq=2\n"
     ]
    },
    {
     "name": "stderr",
     "output_type": "stream",
     "text": [
      "\u001b[32m[I 2022-11-25 00:24:34,911]\u001b[0m Trial 44 finished with value: 0.8773844821705019 and parameters: {'lambda_l1': 1.2425372818490468e-06, 'lambda_l2': 4.172068183789493e-08, 'num_leaves': 41, 'feature_fraction': 0.641755131425393, 'bagging_fraction': 0.7105145294912362, 'bagging_freq': 2, 'min_child_samples': 14}. Best is trial 31 with value: 0.8778174280391488.\u001b[0m\n"
     ]
    },
    {
     "name": "stdout",
     "output_type": "stream",
     "text": [
      "[LightGBM] [Warning] feature_fraction is set=0.5910623404282901, colsample_bytree=1.0 will be ignored. Current value: feature_fraction=0.5910623404282901\n",
      "[LightGBM] [Warning] lambda_l1 is set=4.80702291844157e-05, reg_alpha=0.0 will be ignored. Current value: lambda_l1=4.80702291844157e-05\n",
      "[LightGBM] [Warning] bagging_fraction is set=0.810756127283262, subsample=1.0 will be ignored. Current value: bagging_fraction=0.810756127283262\n",
      "[LightGBM] [Warning] lambda_l2 is set=1.0016176889627865e-08, reg_lambda=0.0 will be ignored. Current value: lambda_l2=1.0016176889627865e-08\n",
      "[LightGBM] [Warning] bagging_freq is set=3, subsample_freq=0 will be ignored. Current value: bagging_freq=3\n"
     ]
    },
    {
     "name": "stderr",
     "output_type": "stream",
     "text": [
      "\u001b[32m[I 2022-11-25 00:24:36,326]\u001b[0m Trial 45 finished with value: 0.8775943953189368 and parameters: {'lambda_l1': 4.80702291844157e-05, 'lambda_l2': 1.0016176889627865e-08, 'num_leaves': 95, 'feature_fraction': 0.5910623404282901, 'bagging_fraction': 0.810756127283262, 'bagging_freq': 3, 'min_child_samples': 38}. Best is trial 31 with value: 0.8778174280391488.\u001b[0m\n"
     ]
    },
    {
     "name": "stdout",
     "output_type": "stream",
     "text": [
      "[LightGBM] [Warning] feature_fraction is set=0.6355090226236558, colsample_bytree=1.0 will be ignored. Current value: feature_fraction=0.6355090226236558\n",
      "[LightGBM] [Warning] lambda_l1 is set=5.705903814265165e-07, reg_alpha=0.0 will be ignored. Current value: lambda_l1=5.705903814265165e-07\n",
      "[LightGBM] [Warning] bagging_fraction is set=0.7499310272314071, subsample=1.0 will be ignored. Current value: bagging_fraction=0.7499310272314071\n",
      "[LightGBM] [Warning] lambda_l2 is set=1.8438068139990336e-07, reg_lambda=0.0 will be ignored. Current value: lambda_l2=1.8438068139990336e-07\n",
      "[LightGBM] [Warning] bagging_freq is set=2, subsample_freq=0 will be ignored. Current value: bagging_freq=2\n"
     ]
    },
    {
     "name": "stderr",
     "output_type": "stream",
     "text": [
      "\u001b[32m[I 2022-11-25 00:24:37,478]\u001b[0m Trial 46 finished with value: 0.8777255910367086 and parameters: {'lambda_l1': 5.705903814265165e-07, 'lambda_l2': 1.8438068139990336e-07, 'num_leaves': 70, 'feature_fraction': 0.6355090226236558, 'bagging_fraction': 0.7499310272314071, 'bagging_freq': 2, 'min_child_samples': 30}. Best is trial 31 with value: 0.8778174280391488.\u001b[0m\n"
     ]
    },
    {
     "name": "stdout",
     "output_type": "stream",
     "text": [
      "[LightGBM] [Warning] feature_fraction is set=0.6646843740192354, colsample_bytree=1.0 will be ignored. Current value: feature_fraction=0.6646843740192354\n",
      "[LightGBM] [Warning] lambda_l1 is set=5.269109766640138e-07, reg_alpha=0.0 will be ignored. Current value: lambda_l1=5.269109766640138e-07\n",
      "[LightGBM] [Warning] bagging_fraction is set=0.7534722052806861, subsample=1.0 will be ignored. Current value: bagging_fraction=0.7534722052806861\n",
      "[LightGBM] [Warning] lambda_l2 is set=2.89660866386674e-07, reg_lambda=0.0 will be ignored. Current value: lambda_l2=2.89660866386674e-07\n",
      "[LightGBM] [Warning] bagging_freq is set=1, subsample_freq=0 will be ignored. Current value: bagging_freq=1\n"
     ]
    },
    {
     "name": "stderr",
     "output_type": "stream",
     "text": [
      "\u001b[32m[I 2022-11-25 00:24:38,571]\u001b[0m Trial 47 finished with value: 0.8773451234551705 and parameters: {'lambda_l1': 5.269109766640138e-07, 'lambda_l2': 2.89660866386674e-07, 'num_leaves': 67, 'feature_fraction': 0.6646843740192354, 'bagging_fraction': 0.7534722052806861, 'bagging_freq': 1, 'min_child_samples': 29}. Best is trial 31 with value: 0.8778174280391488.\u001b[0m\n"
     ]
    },
    {
     "name": "stdout",
     "output_type": "stream",
     "text": [
      "[LightGBM] [Warning] feature_fraction is set=0.5422861586335066, colsample_bytree=1.0 will be ignored. Current value: feature_fraction=0.5422861586335066\n",
      "[LightGBM] [Warning] lambda_l1 is set=1.7725543962716285e-07, reg_alpha=0.0 will be ignored. Current value: lambda_l1=1.7725543962716285e-07\n",
      "[LightGBM] [Warning] bagging_fraction is set=0.6615489268355945, subsample=1.0 will be ignored. Current value: bagging_fraction=0.6615489268355945\n",
      "[LightGBM] [Warning] lambda_l2 is set=9.238409216223383e-07, reg_lambda=0.0 will be ignored. Current value: lambda_l2=9.238409216223383e-07\n",
      "[LightGBM] [Warning] bagging_freq is set=2, subsample_freq=0 will be ignored. Current value: bagging_freq=2\n"
     ]
    },
    {
     "name": "stderr",
     "output_type": "stream",
     "text": [
      "\u001b[32m[I 2022-11-25 00:24:39,942]\u001b[0m Trial 48 finished with value: 0.8772795255962845 and parameters: {'lambda_l1': 1.7725543962716285e-07, 'lambda_l2': 9.238409216223383e-07, 'num_leaves': 135, 'feature_fraction': 0.5422861586335066, 'bagging_fraction': 0.6615489268355945, 'bagging_freq': 2, 'min_child_samples': 43}. Best is trial 31 with value: 0.8778174280391488.\u001b[0m\n"
     ]
    },
    {
     "name": "stdout",
     "output_type": "stream",
     "text": [
      "[LightGBM] [Warning] feature_fraction is set=0.4981364719725875, colsample_bytree=1.0 will be ignored. Current value: feature_fraction=0.4981364719725875\n",
      "[LightGBM] [Warning] lambda_l1 is set=1.055884807090846e-05, reg_alpha=0.0 will be ignored. Current value: lambda_l1=1.055884807090846e-05\n",
      "[LightGBM] [Warning] bagging_fraction is set=0.8333487976021824, subsample=1.0 will be ignored. Current value: bagging_fraction=0.8333487976021824\n",
      "[LightGBM] [Warning] lambda_l2 is set=4.185066555486688e-06, reg_lambda=0.0 will be ignored. Current value: lambda_l2=4.185066555486688e-06\n",
      "[LightGBM] [Warning] bagging_freq is set=1, subsample_freq=0 will be ignored. Current value: bagging_freq=1\n"
     ]
    },
    {
     "name": "stderr",
     "output_type": "stream",
     "text": [
      "\u001b[32m[I 2022-11-25 00:24:41,057]\u001b[0m Trial 49 finished with value: 0.8774894387447194 and parameters: {'lambda_l1': 1.055884807090846e-05, 'lambda_l2': 4.185066555486688e-06, 'num_leaves': 95, 'feature_fraction': 0.4981364719725875, 'bagging_fraction': 0.8333487976021824, 'bagging_freq': 1, 'min_child_samples': 16}. Best is trial 31 with value: 0.8778174280391488.\u001b[0m\n"
     ]
    },
    {
     "name": "stdout",
     "output_type": "stream",
     "text": [
      "[LightGBM] [Warning] feature_fraction is set=0.6335358282272101, colsample_bytree=1.0 will be ignored. Current value: feature_fraction=0.6335358282272101\n",
      "[LightGBM] [Warning] lambda_l1 is set=4.708819224194786e-08, reg_alpha=0.0 will be ignored. Current value: lambda_l1=4.708819224194786e-08\n",
      "[LightGBM] [Warning] bagging_fraction is set=0.7265147865180187, subsample=1.0 will be ignored. Current value: bagging_fraction=0.7265147865180187\n",
      "[LightGBM] [Warning] lambda_l2 is set=2.708884964416591e-07, reg_lambda=0.0 will be ignored. Current value: lambda_l2=2.708884964416591e-07\n",
      "[LightGBM] [Warning] bagging_freq is set=6, subsample_freq=0 will be ignored. Current value: bagging_freq=6\n"
     ]
    },
    {
     "name": "stderr",
     "output_type": "stream",
     "text": [
      "\u001b[32m[I 2022-11-25 00:24:42,267]\u001b[0m Trial 50 finished with value: 0.8770827320196268 and parameters: {'lambda_l1': 4.708819224194786e-08, 'lambda_l2': 2.708884964416591e-07, 'num_leaves': 73, 'feature_fraction': 0.6335358282272101, 'bagging_fraction': 0.7265147865180187, 'bagging_freq': 6, 'min_child_samples': 33}. Best is trial 31 with value: 0.8778174280391488.\u001b[0m\n"
     ]
    },
    {
     "name": "stdout",
     "output_type": "stream",
     "text": [
      "[LightGBM] [Warning] feature_fraction is set=0.6025492006145425, colsample_bytree=1.0 will be ignored. Current value: feature_fraction=0.6025492006145425\n",
      "[LightGBM] [Warning] lambda_l1 is set=2.3847340394051944e-06, reg_alpha=0.0 will be ignored. Current value: lambda_l1=2.3847340394051944e-06\n",
      "[LightGBM] [Warning] bagging_fraction is set=0.7871067884077061, subsample=1.0 will be ignored. Current value: bagging_fraction=0.7871067884077061\n",
      "[LightGBM] [Warning] lambda_l2 is set=4.696591437489449e-08, reg_lambda=0.0 will be ignored. Current value: lambda_l2=4.696591437489449e-08\n",
      "[LightGBM] [Warning] bagging_freq is set=3, subsample_freq=0 will be ignored. Current value: bagging_freq=3\n"
     ]
    },
    {
     "name": "stderr",
     "output_type": "stream",
     "text": [
      "\u001b[32m[I 2022-11-25 00:24:43,457]\u001b[0m Trial 51 finished with value: 0.877607514890714 and parameters: {'lambda_l1': 2.3847340394051944e-06, 'lambda_l2': 4.696591437489449e-08, 'num_leaves': 60, 'feature_fraction': 0.6025492006145425, 'bagging_fraction': 0.7871067884077061, 'bagging_freq': 3, 'min_child_samples': 50}. Best is trial 31 with value: 0.8778174280391488.\u001b[0m\n"
     ]
    },
    {
     "name": "stdout",
     "output_type": "stream",
     "text": [
      "[LightGBM] [Warning] feature_fraction is set=0.6713271867919818, colsample_bytree=1.0 will be ignored. Current value: feature_fraction=0.6713271867919818\n",
      "[LightGBM] [Warning] lambda_l1 is set=5.670306673445849e-07, reg_alpha=0.0 will be ignored. Current value: lambda_l1=5.670306673445849e-07\n",
      "[LightGBM] [Warning] bagging_fraction is set=0.8197271366432907, subsample=1.0 will be ignored. Current value: bagging_fraction=0.8197271366432907\n",
      "[LightGBM] [Warning] lambda_l2 is set=1.411180922136272e-07, reg_lambda=0.0 will be ignored. Current value: lambda_l2=1.411180922136272e-07\n",
      "[LightGBM] [Warning] bagging_freq is set=2, subsample_freq=0 will be ignored. Current value: bagging_freq=2\n"
     ]
    },
    {
     "name": "stderr",
     "output_type": "stream",
     "text": [
      "\u001b[32m[I 2022-11-25 00:24:44,974]\u001b[0m Trial 52 finished with value: 0.8774763191729422 and parameters: {'lambda_l1': 5.670306673445849e-07, 'lambda_l2': 1.411180922136272e-07, 'num_leaves': 36, 'feature_fraction': 0.6713271867919818, 'bagging_fraction': 0.8197271366432907, 'bagging_freq': 2, 'min_child_samples': 56}. Best is trial 31 with value: 0.8778174280391488.\u001b[0m\n"
     ]
    },
    {
     "name": "stdout",
     "output_type": "stream",
     "text": [
      "[LightGBM] [Warning] feature_fraction is set=0.6185480431925118, colsample_bytree=1.0 will be ignored. Current value: feature_fraction=0.6185480431925118\n",
      "[LightGBM] [Warning] lambda_l1 is set=6.982693694855218e-06, reg_alpha=0.0 will be ignored. Current value: lambda_l1=6.982693694855218e-06\n",
      "[LightGBM] [Warning] bagging_fraction is set=0.7659123718588192, subsample=1.0 will be ignored. Current value: bagging_fraction=0.7659123718588192\n",
      "[LightGBM] [Warning] lambda_l2 is set=2.8963182923494874e-08, reg_lambda=0.0 will be ignored. Current value: lambda_l2=2.8963182923494874e-08\n",
      "[LightGBM] [Warning] bagging_freq is set=2, subsample_freq=0 will be ignored. Current value: bagging_freq=2\n"
     ]
    },
    {
     "name": "stderr",
     "output_type": "stream",
     "text": [
      "\u001b[32m[I 2022-11-25 00:24:45,977]\u001b[0m Trial 53 finished with value: 0.8775287974600509 and parameters: {'lambda_l1': 6.982693694855218e-06, 'lambda_l2': 2.8963182923494874e-08, 'num_leaves': 16, 'feature_fraction': 0.6185480431925118, 'bagging_fraction': 0.7659123718588192, 'bagging_freq': 2, 'min_child_samples': 6}. Best is trial 31 with value: 0.8778174280391488.\u001b[0m\n"
     ]
    },
    {
     "name": "stdout",
     "output_type": "stream",
     "text": [
      "[LightGBM] [Warning] feature_fraction is set=0.5804560297894698, colsample_bytree=1.0 will be ignored. Current value: feature_fraction=0.5804560297894698\n",
      "[LightGBM] [Warning] lambda_l1 is set=0.00013651319035796303, reg_alpha=0.0 will be ignored. Current value: lambda_l1=0.00013651319035796303\n",
      "[LightGBM] [Warning] bagging_fraction is set=0.8653956819918416, subsample=1.0 will be ignored. Current value: bagging_fraction=0.8653956819918416\n",
      "[LightGBM] [Warning] lambda_l2 is set=6.839459202149069e-07, reg_lambda=0.0 will be ignored. Current value: lambda_l2=6.839459202149069e-07\n",
      "[LightGBM] [Warning] bagging_freq is set=3, subsample_freq=0 will be ignored. Current value: bagging_freq=3\n"
     ]
    },
    {
     "name": "stderr",
     "output_type": "stream",
     "text": [
      "\u001b[32m[I 2022-11-25 00:24:47,195]\u001b[0m Trial 54 finished with value: 0.8777518301802629 and parameters: {'lambda_l1': 0.00013651319035796303, 'lambda_l2': 6.839459202149069e-07, 'num_leaves': 57, 'feature_fraction': 0.5804560297894698, 'bagging_fraction': 0.8653956819918416, 'bagging_freq': 3, 'min_child_samples': 37}. Best is trial 31 with value: 0.8778174280391488.\u001b[0m\n"
     ]
    },
    {
     "name": "stdout",
     "output_type": "stream",
     "text": [
      "[LightGBM] [Warning] feature_fraction is set=0.4612511630782759, colsample_bytree=1.0 will be ignored. Current value: feature_fraction=0.4612511630782759\n",
      "[LightGBM] [Warning] lambda_l1 is set=0.00017396945368601432, reg_alpha=0.0 will be ignored. Current value: lambda_l1=0.00017396945368601432\n",
      "[LightGBM] [Warning] bagging_fraction is set=0.8641948858426954, subsample=1.0 will be ignored. Current value: bagging_fraction=0.8641948858426954\n",
      "[LightGBM] [Warning] lambda_l2 is set=8.208341172803173e-07, reg_lambda=0.0 will be ignored. Current value: lambda_l2=8.208341172803173e-07\n",
      "[LightGBM] [Warning] bagging_freq is set=2, subsample_freq=0 will be ignored. Current value: bagging_freq=2\n"
     ]
    },
    {
     "name": "stderr",
     "output_type": "stream",
     "text": [
      "\u001b[32m[I 2022-11-25 00:24:48,862]\u001b[0m Trial 55 finished with value: 0.8774107213140563 and parameters: {'lambda_l1': 0.00017396945368601432, 'lambda_l2': 8.208341172803173e-07, 'num_leaves': 162, 'feature_fraction': 0.4612511630782759, 'bagging_fraction': 0.8641948858426954, 'bagging_freq': 2, 'min_child_samples': 37}. Best is trial 31 with value: 0.8778174280391488.\u001b[0m\n"
     ]
    },
    {
     "name": "stdout",
     "output_type": "stream",
     "text": [
      "[LightGBM] [Warning] feature_fraction is set=0.5749435026540606, colsample_bytree=1.0 will be ignored. Current value: feature_fraction=0.5749435026540606\n",
      "[LightGBM] [Warning] lambda_l1 is set=5.9789802288720355e-05, reg_alpha=0.0 will be ignored. Current value: lambda_l1=5.9789802288720355e-05\n",
      "[LightGBM] [Warning] bagging_fraction is set=0.9022156379381173, subsample=1.0 will be ignored. Current value: bagging_fraction=0.9022156379381173\n",
      "[LightGBM] [Warning] lambda_l2 is set=6.940621647518527e-06, reg_lambda=0.0 will be ignored. Current value: lambda_l2=6.940621647518527e-06\n",
      "[LightGBM] [Warning] bagging_freq is set=4, subsample_freq=0 will be ignored. Current value: bagging_freq=4\n"
     ]
    },
    {
     "name": "stderr",
     "output_type": "stream",
     "text": [
      "\u001b[32m[I 2022-11-25 00:24:50,328]\u001b[0m Trial 56 finished with value: 0.8775681561753824 and parameters: {'lambda_l1': 5.9789802288720355e-05, 'lambda_l2': 6.940621647518527e-06, 'num_leaves': 107, 'feature_fraction': 0.5749435026540606, 'bagging_fraction': 0.9022156379381173, 'bagging_freq': 4, 'min_child_samples': 26}. Best is trial 31 with value: 0.8778174280391488.\u001b[0m\n"
     ]
    },
    {
     "name": "stdout",
     "output_type": "stream",
     "text": [
      "[LightGBM] [Warning] feature_fraction is set=0.5551510379270045, colsample_bytree=1.0 will be ignored. Current value: feature_fraction=0.5551510379270045\n",
      "[LightGBM] [Warning] lambda_l1 is set=0.0007654265459221983, reg_alpha=0.0 will be ignored. Current value: lambda_l1=0.0007654265459221983\n",
      "[LightGBM] [Warning] bagging_fraction is set=0.8714399008238883, subsample=1.0 will be ignored. Current value: bagging_fraction=0.8714399008238883\n",
      "[LightGBM] [Warning] lambda_l2 is set=1.7242660309810075e-06, reg_lambda=0.0 will be ignored. Current value: lambda_l2=1.7242660309810075e-06\n",
      "[LightGBM] [Warning] bagging_freq is set=2, subsample_freq=0 will be ignored. Current value: bagging_freq=2\n"
     ]
    },
    {
     "name": "stderr",
     "output_type": "stream",
     "text": [
      "\u001b[32m[I 2022-11-25 00:24:51,661]\u001b[0m Trial 57 finished with value: 0.8776993518931542 and parameters: {'lambda_l1': 0.0007654265459221983, 'lambda_l2': 1.7242660309810075e-06, 'num_leaves': 66, 'feature_fraction': 0.5551510379270045, 'bagging_fraction': 0.8714399008238883, 'bagging_freq': 2, 'min_child_samples': 46}. Best is trial 31 with value: 0.8778174280391488.\u001b[0m\n"
     ]
    },
    {
     "name": "stdout",
     "output_type": "stream",
     "text": [
      "[LightGBM] [Warning] feature_fraction is set=0.5883053673691608, colsample_bytree=1.0 will be ignored. Current value: feature_fraction=0.5883053673691608\n",
      "[LightGBM] [Warning] lambda_l1 is set=2.750246495379158e-05, reg_alpha=0.0 will be ignored. Current value: lambda_l1=2.750246495379158e-05\n",
      "[LightGBM] [Warning] bagging_fraction is set=0.8028601086009398, subsample=1.0 will be ignored. Current value: bagging_fraction=0.8028601086009398\n",
      "[LightGBM] [Warning] lambda_l2 is set=1.2473025886264403e-06, reg_lambda=0.0 will be ignored. Current value: lambda_l2=1.2473025886264403e-06\n",
      "[LightGBM] [Warning] bagging_freq is set=4, subsample_freq=0 will be ignored. Current value: bagging_freq=4\n"
     ]
    },
    {
     "name": "stderr",
     "output_type": "stream",
     "text": [
      "\u001b[32m[I 2022-11-25 00:24:53,185]\u001b[0m Trial 58 finished with value: 0.8774238408858335 and parameters: {'lambda_l1': 2.750246495379158e-05, 'lambda_l2': 1.2473025886264403e-06, 'num_leaves': 150, 'feature_fraction': 0.5883053673691608, 'bagging_fraction': 0.8028601086009398, 'bagging_freq': 4, 'min_child_samples': 29}. Best is trial 31 with value: 0.8778174280391488.\u001b[0m\n"
     ]
    },
    {
     "name": "stdout",
     "output_type": "stream",
     "text": [
      "[LightGBM] [Warning] feature_fraction is set=0.9954179417447176, colsample_bytree=1.0 will be ignored. Current value: feature_fraction=0.9954179417447176\n",
      "[LightGBM] [Warning] lambda_l1 is set=0.0036424442322437506, reg_alpha=0.0 will be ignored. Current value: lambda_l1=0.0036424442322437506\n",
      "[LightGBM] [Warning] bagging_fraction is set=0.6913531992553437, subsample=1.0 will be ignored. Current value: bagging_fraction=0.6913531992553437\n",
      "[LightGBM] [Warning] lambda_l2 is set=3.77862621413869e-07, reg_lambda=0.0 will be ignored. Current value: lambda_l2=3.77862621413869e-07\n",
      "[LightGBM] [Warning] bagging_freq is set=3, subsample_freq=0 will be ignored. Current value: bagging_freq=3\n"
     ]
    },
    {
     "name": "stderr",
     "output_type": "stream",
     "text": [
      "\u001b[32m[I 2022-11-25 00:24:54,431]\u001b[0m Trial 59 finished with value: 0.877095851591404 and parameters: {'lambda_l1': 0.0036424442322437506, 'lambda_l2': 3.77862621413869e-07, 'num_leaves': 77, 'feature_fraction': 0.9954179417447176, 'bagging_fraction': 0.6913531992553437, 'bagging_freq': 3, 'min_child_samples': 23}. Best is trial 31 with value: 0.8778174280391488.\u001b[0m\n"
     ]
    },
    {
     "name": "stdout",
     "output_type": "stream",
     "text": [
      "[LightGBM] [Warning] feature_fraction is set=0.6406766525579541, colsample_bytree=1.0 will be ignored. Current value: feature_fraction=0.6406766525579541\n",
      "[LightGBM] [Warning] lambda_l1 is set=0.0001267820301466295, reg_alpha=0.0 will be ignored. Current value: lambda_l1=0.0001267820301466295\n",
      "[LightGBM] [Warning] bagging_fraction is set=0.8349702898487023, subsample=1.0 will be ignored. Current value: bagging_fraction=0.8349702898487023\n",
      "[LightGBM] [Warning] lambda_l2 is set=7.310658963802891e-05, reg_lambda=0.0 will be ignored. Current value: lambda_l2=7.310658963802891e-05\n",
      "[LightGBM] [Warning] bagging_freq is set=1, subsample_freq=0 will be ignored. Current value: bagging_freq=1\n"
     ]
    },
    {
     "name": "stderr",
     "output_type": "stream",
     "text": [
      "\u001b[32m[I 2022-11-25 00:24:55,822]\u001b[0m Trial 60 finished with value: 0.8771745690220671 and parameters: {'lambda_l1': 0.0001267820301466295, 'lambda_l2': 7.310658963802891e-05, 'num_leaves': 191, 'feature_fraction': 0.6406766525579541, 'bagging_fraction': 0.8349702898487023, 'bagging_freq': 1, 'min_child_samples': 44}. Best is trial 31 with value: 0.8778174280391488.\u001b[0m\n"
     ]
    },
    {
     "name": "stdout",
     "output_type": "stream",
     "text": [
      "[LightGBM] [Warning] feature_fraction is set=0.5525573218313309, colsample_bytree=1.0 will be ignored. Current value: feature_fraction=0.5525573218313309\n",
      "[LightGBM] [Warning] lambda_l1 is set=0.0008582051735008566, reg_alpha=0.0 will be ignored. Current value: lambda_l1=0.0008582051735008566\n",
      "[LightGBM] [Warning] bagging_fraction is set=0.8765542064675228, subsample=1.0 will be ignored. Current value: bagging_fraction=0.8765542064675228\n",
      "[LightGBM] [Warning] lambda_l2 is set=3.5113632502396267e-06, reg_lambda=0.0 will be ignored. Current value: lambda_l2=3.5113632502396267e-06\n",
      "[LightGBM] [Warning] bagging_freq is set=2, subsample_freq=0 will be ignored. Current value: bagging_freq=2\n"
     ]
    },
    {
     "name": "stderr",
     "output_type": "stream",
     "text": [
      "\u001b[32m[I 2022-11-25 00:24:57,137]\u001b[0m Trial 61 finished with value: 0.8777387106084857 and parameters: {'lambda_l1': 0.0008582051735008566, 'lambda_l2': 3.5113632502396267e-06, 'num_leaves': 64, 'feature_fraction': 0.5525573218313309, 'bagging_fraction': 0.8765542064675228, 'bagging_freq': 2, 'min_child_samples': 46}. Best is trial 31 with value: 0.8778174280391488.\u001b[0m\n"
     ]
    },
    {
     "name": "stdout",
     "output_type": "stream",
     "text": [
      "[LightGBM] [Warning] feature_fraction is set=0.6168059369672647, colsample_bytree=1.0 will be ignored. Current value: feature_fraction=0.6168059369672647\n",
      "[LightGBM] [Warning] lambda_l1 is set=0.0018239171388091289, reg_alpha=0.0 will be ignored. Current value: lambda_l1=0.0018239171388091289\n",
      "[LightGBM] [Warning] bagging_fraction is set=0.9096645130298034, subsample=1.0 will be ignored. Current value: bagging_fraction=0.9096645130298034\n",
      "[LightGBM] [Warning] lambda_l2 is set=3.833481102446422e-06, reg_lambda=0.0 will be ignored. Current value: lambda_l2=3.833481102446422e-06\n",
      "[LightGBM] [Warning] bagging_freq is set=2, subsample_freq=0 will be ignored. Current value: bagging_freq=2\n"
     ]
    },
    {
     "name": "stderr",
     "output_type": "stream",
     "text": [
      "\u001b[32m[I 2022-11-25 00:24:58,367]\u001b[0m Trial 62 finished with value: 0.8775681561753824 and parameters: {'lambda_l1': 0.0018239171388091289, 'lambda_l2': 3.833481102446422e-06, 'num_leaves': 47, 'feature_fraction': 0.6168059369672647, 'bagging_fraction': 0.9096645130298034, 'bagging_freq': 2, 'min_child_samples': 38}. Best is trial 31 with value: 0.8778174280391488.\u001b[0m\n"
     ]
    },
    {
     "name": "stdout",
     "output_type": "stream",
     "text": [
      "[LightGBM] [Warning] feature_fraction is set=0.6691510609321886, colsample_bytree=1.0 will be ignored. Current value: feature_fraction=0.6691510609321886\n",
      "[LightGBM] [Warning] lambda_l1 is set=0.010111340460074175, reg_alpha=0.0 will be ignored. Current value: lambda_l1=0.010111340460074175\n",
      "[LightGBM] [Warning] bagging_fraction is set=0.8809155499436981, subsample=1.0 will be ignored. Current value: bagging_fraction=0.8809155499436981\n",
      "[LightGBM] [Warning] lambda_l2 is set=1.0589532424370905e-05, reg_lambda=0.0 will be ignored. Current value: lambda_l2=1.0589532424370905e-05\n",
      "[LightGBM] [Warning] bagging_freq is set=3, subsample_freq=0 will be ignored. Current value: bagging_freq=3\n"
     ]
    },
    {
     "name": "stderr",
     "output_type": "stream",
     "text": [
      "\u001b[32m[I 2022-11-25 00:24:59,485]\u001b[0m Trial 63 finished with value: 0.8774763191729422 and parameters: {'lambda_l1': 0.010111340460074175, 'lambda_l2': 1.0589532424370905e-05, 'num_leaves': 36, 'feature_fraction': 0.6691510609321886, 'bagging_fraction': 0.8809155499436981, 'bagging_freq': 3, 'min_child_samples': 50}. Best is trial 31 with value: 0.8778174280391488.\u001b[0m\n"
     ]
    },
    {
     "name": "stdout",
     "output_type": "stream",
     "text": [
      "[LightGBM] [Warning] feature_fraction is set=0.5200052219684467, colsample_bytree=1.0 will be ignored. Current value: feature_fraction=0.5200052219684467\n",
      "[LightGBM] [Warning] lambda_l1 is set=0.00035247167972070657, reg_alpha=0.0 will be ignored. Current value: lambda_l1=0.00035247167972070657\n",
      "[LightGBM] [Warning] bagging_fraction is set=0.8430938586959585, subsample=1.0 will be ignored. Current value: bagging_fraction=0.8430938586959585\n",
      "[LightGBM] [Warning] lambda_l2 is set=1.6203336165413378e-07, reg_lambda=0.0 will be ignored. Current value: lambda_l2=1.6203336165413378e-07\n",
      "[LightGBM] [Warning] bagging_freq is set=2, subsample_freq=0 will be ignored. Current value: bagging_freq=2\n"
     ]
    },
    {
     "name": "stderr",
     "output_type": "stream",
     "text": [
      "\u001b[32m[I 2022-11-25 00:25:01,222]\u001b[0m Trial 64 finished with value: 0.8776993518931542 and parameters: {'lambda_l1': 0.00035247167972070657, 'lambda_l2': 1.6203336165413378e-07, 'num_leaves': 93, 'feature_fraction': 0.5200052219684467, 'bagging_fraction': 0.8430938586959585, 'bagging_freq': 2, 'min_child_samples': 40}. Best is trial 31 with value: 0.8778174280391488.\u001b[0m\n"
     ]
    },
    {
     "name": "stdout",
     "output_type": "stream",
     "text": [
      "[LightGBM] [Warning] feature_fraction is set=0.46535142010430164, colsample_bytree=1.0 will be ignored. Current value: feature_fraction=0.46535142010430164\n",
      "[LightGBM] [Warning] lambda_l1 is set=6.316041506269153e-05, reg_alpha=0.0 will be ignored. Current value: lambda_l1=6.316041506269153e-05\n",
      "[LightGBM] [Warning] bagging_fraction is set=0.8145349496252439, subsample=1.0 will be ignored. Current value: bagging_fraction=0.8145349496252439\n",
      "[LightGBM] [Warning] lambda_l2 is set=4.0623595649499987e-05, reg_lambda=0.0 will be ignored. Current value: lambda_l2=4.0623595649499987e-05\n",
      "[LightGBM] [Warning] bagging_freq is set=2, subsample_freq=0 will be ignored. Current value: bagging_freq=2\n"
     ]
    },
    {
     "name": "stderr",
     "output_type": "stream",
     "text": [
      "\u001b[32m[I 2022-11-25 00:25:02,455]\u001b[0m Trial 65 finished with value: 0.8774763191729422 and parameters: {'lambda_l1': 6.316041506269153e-05, 'lambda_l2': 4.0623595649499987e-05, 'num_leaves': 58, 'feature_fraction': 0.46535142010430164, 'bagging_fraction': 0.8145349496252439, 'bagging_freq': 2, 'min_child_samples': 54}. Best is trial 31 with value: 0.8778174280391488.\u001b[0m\n"
     ]
    },
    {
     "name": "stdout",
     "output_type": "stream",
     "text": [
      "[LightGBM] [Warning] feature_fraction is set=0.41478607099312503, colsample_bytree=1.0 will be ignored. Current value: feature_fraction=0.41478607099312503\n",
      "[LightGBM] [Warning] lambda_l1 is set=1.7844971213241083e-05, reg_alpha=0.0 will be ignored. Current value: lambda_l1=1.7844971213241083e-05\n",
      "[LightGBM] [Warning] bagging_fraction is set=0.8601942390852222, subsample=1.0 will be ignored. Current value: bagging_fraction=0.8601942390852222\n",
      "[LightGBM] [Warning] lambda_l2 is set=5.124350315473905e-07, reg_lambda=0.0 will be ignored. Current value: lambda_l2=5.124350315473905e-07\n",
      "[LightGBM] [Warning] bagging_freq is set=1, subsample_freq=0 will be ignored. Current value: bagging_freq=1\n"
     ]
    },
    {
     "name": "stderr",
     "output_type": "stream",
     "text": [
      "\u001b[32m[I 2022-11-25 00:25:03,727]\u001b[0m Trial 66 finished with value: 0.8774238408858335 and parameters: {'lambda_l1': 1.7844971213241083e-05, 'lambda_l2': 5.124350315473905e-07, 'num_leaves': 118, 'feature_fraction': 0.41478607099312503, 'bagging_fraction': 0.8601942390852222, 'bagging_freq': 1, 'min_child_samples': 59}. Best is trial 31 with value: 0.8778174280391488.\u001b[0m\n"
     ]
    },
    {
     "name": "stdout",
     "output_type": "stream",
     "text": [
      "[LightGBM] [Warning] feature_fraction is set=0.5619030909840457, colsample_bytree=1.0 will be ignored. Current value: feature_fraction=0.5619030909840457\n",
      "[LightGBM] [Warning] lambda_l1 is set=1.967482183409672e-07, reg_alpha=0.0 will be ignored. Current value: lambda_l1=1.967482183409672e-07\n",
      "[LightGBM] [Warning] bagging_fraction is set=0.9612614898462473, subsample=1.0 will be ignored. Current value: bagging_fraction=0.9612614898462473\n",
      "[LightGBM] [Warning] lambda_l2 is set=6.965643988096448, reg_lambda=0.0 will be ignored. Current value: lambda_l2=6.965643988096448\n",
      "[LightGBM] [Warning] bagging_freq is set=2, subsample_freq=0 will be ignored. Current value: bagging_freq=2\n"
     ]
    },
    {
     "name": "stderr",
     "output_type": "stream",
     "text": [
      "\u001b[32m[I 2022-11-25 00:25:04,889]\u001b[0m Trial 67 finished with value: 0.8775550366036052 and parameters: {'lambda_l1': 1.967482183409672e-07, 'lambda_l2': 6.965643988096448, 'num_leaves': 21, 'feature_fraction': 0.5619030909840457, 'bagging_fraction': 0.9612614898462473, 'bagging_freq': 2, 'min_child_samples': 35}. Best is trial 31 with value: 0.8778174280391488.\u001b[0m\n"
     ]
    },
    {
     "name": "stdout",
     "output_type": "stream",
     "text": [
      "[LightGBM] [Warning] feature_fraction is set=0.7095131907726275, colsample_bytree=1.0 will be ignored. Current value: feature_fraction=0.7095131907726275\n",
      "[LightGBM] [Warning] lambda_l1 is set=0.013999403655059204, reg_alpha=0.0 will be ignored. Current value: lambda_l1=0.013999403655059204\n",
      "[LightGBM] [Warning] bagging_fraction is set=0.7888131809818227, subsample=1.0 will be ignored. Current value: bagging_fraction=0.7888131809818227\n",
      "[LightGBM] [Warning] lambda_l2 is set=1.7299361535000296e-07, reg_lambda=0.0 will be ignored. Current value: lambda_l2=1.7299361535000296e-07\n",
      "[LightGBM] [Warning] bagging_freq is set=3, subsample_freq=0 will be ignored. Current value: bagging_freq=3\n"
     ]
    },
    {
     "name": "stderr",
     "output_type": "stream",
     "text": [
      "\u001b[32m[I 2022-11-25 00:25:06,043]\u001b[0m Trial 68 finished with value: 0.8775287974600509 and parameters: {'lambda_l1': 0.013999403655059204, 'lambda_l2': 1.7299361535000296e-07, 'num_leaves': 64, 'feature_fraction': 0.7095131907726275, 'bagging_fraction': 0.7888131809818227, 'bagging_freq': 3, 'min_child_samples': 45}. Best is trial 31 with value: 0.8778174280391488.\u001b[0m\n"
     ]
    },
    {
     "name": "stdout",
     "output_type": "stream",
     "text": [
      "[LightGBM] [Warning] feature_fraction is set=0.6459745843444614, colsample_bytree=1.0 will be ignored. Current value: feature_fraction=0.6459745843444614\n",
      "[LightGBM] [Warning] lambda_l1 is set=8.522485436673802e-07, reg_alpha=0.0 will be ignored. Current value: lambda_l1=8.522485436673802e-07\n",
      "[LightGBM] [Warning] bagging_fraction is set=0.7645528897716728, subsample=1.0 will be ignored. Current value: bagging_fraction=0.7645528897716728\n",
      "[LightGBM] [Warning] lambda_l2 is set=3.2547463745657136e-06, reg_lambda=0.0 will be ignored. Current value: lambda_l2=3.2547463745657136e-06\n",
      "[LightGBM] [Warning] bagging_freq is set=2, subsample_freq=0 will be ignored. Current value: bagging_freq=2\n"
     ]
    },
    {
     "name": "stderr",
     "output_type": "stream",
     "text": [
      "\u001b[32m[I 2022-11-25 00:25:07,425]\u001b[0m Trial 69 finished with value: 0.8773320038833933 and parameters: {'lambda_l1': 8.522485436673802e-07, 'lambda_l2': 3.2547463745657136e-06, 'num_leaves': 126, 'feature_fraction': 0.6459745843444614, 'bagging_fraction': 0.7645528897716728, 'bagging_freq': 2, 'min_child_samples': 32}. Best is trial 31 with value: 0.8778174280391488.\u001b[0m\n"
     ]
    },
    {
     "name": "stdout",
     "output_type": "stream",
     "text": [
      "[LightGBM] [Warning] feature_fraction is set=0.5997780149195024, colsample_bytree=1.0 will be ignored. Current value: feature_fraction=0.5997780149195024\n",
      "[LightGBM] [Warning] lambda_l1 is set=5.955746259166147e-06, reg_alpha=0.0 will be ignored. Current value: lambda_l1=5.955746259166147e-06\n",
      "[LightGBM] [Warning] bagging_fraction is set=0.8895093767011473, subsample=1.0 will be ignored. Current value: bagging_fraction=0.8895093767011473\n",
      "[LightGBM] [Warning] lambda_l2 is set=1.0755251680536542e-06, reg_lambda=0.0 will be ignored. Current value: lambda_l2=1.0755251680536542e-06\n",
      "[LightGBM] [Warning] bagging_freq is set=1, subsample_freq=0 will be ignored. Current value: bagging_freq=1\n"
     ]
    },
    {
     "name": "stderr",
     "output_type": "stream",
     "text": [
      "\u001b[32m[I 2022-11-25 00:25:08,419]\u001b[0m Trial 70 finished with value: 0.8776599931778227 and parameters: {'lambda_l1': 5.955746259166147e-06, 'lambda_l2': 1.0755251680536542e-06, 'num_leaves': 50, 'feature_fraction': 0.5997780149195024, 'bagging_fraction': 0.8895093767011473, 'bagging_freq': 1, 'min_child_samples': 48}. Best is trial 31 with value: 0.8778174280391488.\u001b[0m\n"
     ]
    },
    {
     "name": "stdout",
     "output_type": "stream",
     "text": [
      "[LightGBM] [Warning] feature_fraction is set=0.5354010401428552, colsample_bytree=1.0 will be ignored. Current value: feature_fraction=0.5354010401428552\n",
      "[LightGBM] [Warning] lambda_l1 is set=0.0004072247759508712, reg_alpha=0.0 will be ignored. Current value: lambda_l1=0.0004072247759508712\n",
      "[LightGBM] [Warning] bagging_fraction is set=0.8496898529510326, subsample=1.0 will be ignored. Current value: bagging_fraction=0.8496898529510326\n",
      "[LightGBM] [Warning] lambda_l2 is set=1.6071027884955937e-07, reg_lambda=0.0 will be ignored. Current value: lambda_l2=1.6071027884955937e-07\n",
      "[LightGBM] [Warning] bagging_freq is set=2, subsample_freq=0 will be ignored. Current value: bagging_freq=2\n"
     ]
    },
    {
     "name": "stderr",
     "output_type": "stream",
     "text": [
      "\u001b[32m[I 2022-11-25 00:25:09,769]\u001b[0m Trial 71 finished with value: 0.8776993518931542 and parameters: {'lambda_l1': 0.0004072247759508712, 'lambda_l2': 1.6071027884955937e-07, 'num_leaves': 83, 'feature_fraction': 0.5354010401428552, 'bagging_fraction': 0.8496898529510326, 'bagging_freq': 2, 'min_child_samples': 42}. Best is trial 31 with value: 0.8778174280391488.\u001b[0m\n"
     ]
    },
    {
     "name": "stdout",
     "output_type": "stream",
     "text": [
      "[LightGBM] [Warning] feature_fraction is set=0.8193385589329957, colsample_bytree=1.0 will be ignored. Current value: feature_fraction=0.8193385589329957\n",
      "[LightGBM] [Warning] lambda_l1 is set=2.183203196447966e-06, reg_alpha=0.0 will be ignored. Current value: lambda_l1=2.183203196447966e-06\n",
      "[LightGBM] [Warning] bagging_fraction is set=0.9327862003425099, subsample=1.0 will be ignored. Current value: bagging_fraction=0.9327862003425099\n",
      "[LightGBM] [Warning] lambda_l2 is set=8.709183343268406e-08, reg_lambda=0.0 will be ignored. Current value: lambda_l2=8.709183343268406e-08\n",
      "[LightGBM] [Warning] bagging_freq is set=3, subsample_freq=0 will be ignored. Current value: bagging_freq=3\n"
     ]
    },
    {
     "name": "stderr",
     "output_type": "stream",
     "text": [
      "\u001b[32m[I 2022-11-25 00:25:11,063]\u001b[0m Trial 72 finished with value: 0.877541917031828 and parameters: {'lambda_l1': 2.183203196447966e-06, 'lambda_l2': 8.709183343268406e-08, 'num_leaves': 55, 'feature_fraction': 0.8193385589329957, 'bagging_fraction': 0.9327862003425099, 'bagging_freq': 3, 'min_child_samples': 89}. Best is trial 31 with value: 0.8778174280391488.\u001b[0m\n"
     ]
    },
    {
     "name": "stdout",
     "output_type": "stream",
     "text": [
      "[LightGBM] [Warning] feature_fraction is set=0.6766421587728143, colsample_bytree=1.0 will be ignored. Current value: feature_fraction=0.6766421587728143\n",
      "[LightGBM] [Warning] lambda_l1 is set=2.449025833544598e-07, reg_alpha=0.0 will be ignored. Current value: lambda_l1=2.449025833544598e-07\n",
      "[LightGBM] [Warning] bagging_fraction is set=0.730861907029978, subsample=1.0 will be ignored. Current value: bagging_fraction=0.730861907029978\n",
      "[LightGBM] [Warning] lambda_l2 is set=4.7544431176755176e-08, reg_lambda=0.0 will be ignored. Current value: lambda_l2=4.7544431176755176e-08\n",
      "[LightGBM] [Warning] bagging_freq is set=4, subsample_freq=0 will be ignored. Current value: bagging_freq=4\n"
     ]
    },
    {
     "name": "stderr",
     "output_type": "stream",
     "text": [
      "\u001b[32m[I 2022-11-25 00:25:12,087]\u001b[0m Trial 73 finished with value: 0.8774763191729422 and parameters: {'lambda_l1': 2.449025833544598e-07, 'lambda_l2': 4.7544431176755176e-08, 'num_leaves': 33, 'feature_fraction': 0.6766421587728143, 'bagging_fraction': 0.730861907029978, 'bagging_freq': 4, 'min_child_samples': 67}. Best is trial 31 with value: 0.8778174280391488.\u001b[0m\n"
     ]
    },
    {
     "name": "stdout",
     "output_type": "stream",
     "text": [
      "[LightGBM] [Warning] feature_fraction is set=0.539045825111047, colsample_bytree=1.0 will be ignored. Current value: feature_fraction=0.539045825111047\n",
      "[LightGBM] [Warning] lambda_l1 is set=0.0007349194670113048, reg_alpha=0.0 will be ignored. Current value: lambda_l1=0.0007349194670113048\n",
      "[LightGBM] [Warning] bagging_fraction is set=0.8496374980305157, subsample=1.0 will be ignored. Current value: bagging_fraction=0.8496374980305157\n",
      "[LightGBM] [Warning] lambda_l2 is set=5.197016998645883e-07, reg_lambda=0.0 will be ignored. Current value: lambda_l2=5.197016998645883e-07\n",
      "[LightGBM] [Warning] bagging_freq is set=2, subsample_freq=0 will be ignored. Current value: bagging_freq=2\n"
     ]
    },
    {
     "name": "stderr",
     "output_type": "stream",
     "text": [
      "\u001b[32m[I 2022-11-25 00:25:13,502]\u001b[0m Trial 74 finished with value: 0.8776468736060455 and parameters: {'lambda_l1': 0.0007349194670113048, 'lambda_l2': 5.197016998645883e-07, 'num_leaves': 86, 'feature_fraction': 0.539045825111047, 'bagging_fraction': 0.8496374980305157, 'bagging_freq': 2, 'min_child_samples': 39}. Best is trial 31 with value: 0.8778174280391488.\u001b[0m\n"
     ]
    },
    {
     "name": "stdout",
     "output_type": "stream",
     "text": [
      "[LightGBM] [Warning] feature_fraction is set=0.6251339766433175, colsample_bytree=1.0 will be ignored. Current value: feature_fraction=0.6251339766433175\n",
      "[LightGBM] [Warning] lambda_l1 is set=0.001609438445465074, reg_alpha=0.0 will be ignored. Current value: lambda_l1=0.001609438445465074\n",
      "[LightGBM] [Warning] bagging_fraction is set=0.8282802686260481, subsample=1.0 will be ignored. Current value: bagging_fraction=0.8282802686260481\n",
      "[LightGBM] [Warning] lambda_l2 is set=2.016533499709522e-08, reg_lambda=0.0 will be ignored. Current value: lambda_l2=2.016533499709522e-08\n",
      "[LightGBM] [Warning] bagging_freq is set=2, subsample_freq=0 will be ignored. Current value: bagging_freq=2\n"
     ]
    },
    {
     "name": "stderr",
     "output_type": "stream",
     "text": [
      "\u001b[32m[I 2022-11-25 00:25:14,785]\u001b[0m Trial 75 finished with value: 0.8775550366036052 and parameters: {'lambda_l1': 0.001609438445465074, 'lambda_l2': 2.016533499709522e-08, 'num_leaves': 74, 'feature_fraction': 0.6251339766433175, 'bagging_fraction': 0.8282802686260481, 'bagging_freq': 2, 'min_child_samples': 43}. Best is trial 31 with value: 0.8778174280391488.\u001b[0m\n"
     ]
    },
    {
     "name": "stdout",
     "output_type": "stream",
     "text": [
      "[LightGBM] [Warning] feature_fraction is set=0.5616332018671871, colsample_bytree=1.0 will be ignored. Current value: feature_fraction=0.5616332018671871\n",
      "[LightGBM] [Warning] lambda_l1 is set=0.0007771776144075141, reg_alpha=0.0 will be ignored. Current value: lambda_l1=0.0007771776144075141\n",
      "[LightGBM] [Warning] bagging_fraction is set=0.881214342618024, subsample=1.0 will be ignored. Current value: bagging_fraction=0.881214342618024\n",
      "[LightGBM] [Warning] lambda_l2 is set=1.525659978581709e-06, reg_lambda=0.0 will be ignored. Current value: lambda_l2=1.525659978581709e-06\n",
      "[LightGBM] [Warning] bagging_freq is set=1, subsample_freq=0 will be ignored. Current value: bagging_freq=1\n"
     ]
    },
    {
     "name": "stderr",
     "output_type": "stream",
     "text": [
      "\u001b[32m[I 2022-11-25 00:25:16,065]\u001b[0m Trial 76 finished with value: 0.8776337540342684 and parameters: {'lambda_l1': 0.0007771776144075141, 'lambda_l2': 1.525659978581709e-06, 'num_leaves': 68, 'feature_fraction': 0.5616332018671871, 'bagging_fraction': 0.881214342618024, 'bagging_freq': 1, 'min_child_samples': 46}. Best is trial 31 with value: 0.8778174280391488.\u001b[0m\n"
     ]
    },
    {
     "name": "stdout",
     "output_type": "stream",
     "text": [
      "[LightGBM] [Warning] feature_fraction is set=0.6496072137862406, colsample_bytree=1.0 will be ignored. Current value: feature_fraction=0.6496072137862406\n",
      "[LightGBM] [Warning] lambda_l1 is set=9.029070611420985e-07, reg_alpha=0.0 will be ignored. Current value: lambda_l1=9.029070611420985e-07\n",
      "[LightGBM] [Warning] bagging_fraction is set=0.9025169076850977, subsample=1.0 will be ignored. Current value: bagging_fraction=0.9025169076850977\n",
      "[LightGBM] [Warning] lambda_l2 is set=3.778159584835208e-05, reg_lambda=0.0 will be ignored. Current value: lambda_l2=3.778159584835208e-05\n",
      "[LightGBM] [Warning] bagging_freq is set=3, subsample_freq=0 will be ignored. Current value: bagging_freq=3\n"
     ]
    },
    {
     "name": "stderr",
     "output_type": "stream",
     "text": [
      "\u001b[32m[I 2022-11-25 00:25:17,386]\u001b[0m Trial 77 finished with value: 0.8774894387447194 and parameters: {'lambda_l1': 9.029070611420985e-07, 'lambda_l2': 3.778159584835208e-05, 'num_leaves': 42, 'feature_fraction': 0.6496072137862406, 'bagging_fraction': 0.9025169076850977, 'bagging_freq': 3, 'min_child_samples': 35}. Best is trial 31 with value: 0.8778174280391488.\u001b[0m\n"
     ]
    },
    {
     "name": "stdout",
     "output_type": "stream",
     "text": [
      "[LightGBM] [Warning] feature_fraction is set=0.515430460730626, colsample_bytree=1.0 will be ignored. Current value: feature_fraction=0.515430460730626\n",
      "[LightGBM] [Warning] lambda_l1 is set=0.0001603936114020014, reg_alpha=0.0 will be ignored. Current value: lambda_l1=0.0001603936114020014\n",
      "[LightGBM] [Warning] bagging_fraction is set=0.5494674762562731, subsample=1.0 will be ignored. Current value: bagging_fraction=0.5494674762562731\n",
      "[LightGBM] [Warning] lambda_l2 is set=2.1002507221908965e-07, reg_lambda=0.0 will be ignored. Current value: lambda_l2=2.1002507221908965e-07\n",
      "[LightGBM] [Warning] bagging_freq is set=2, subsample_freq=0 will be ignored. Current value: bagging_freq=2\n"
     ]
    },
    {
     "name": "stderr",
     "output_type": "stream",
     "text": [
      "\u001b[32m[I 2022-11-25 00:25:18,720]\u001b[0m Trial 78 finished with value: 0.8773582430269476 and parameters: {'lambda_l1': 0.0001603936114020014, 'lambda_l2': 2.1002507221908965e-07, 'num_leaves': 98, 'feature_fraction': 0.515430460730626, 'bagging_fraction': 0.5494674762562731, 'bagging_freq': 2, 'min_child_samples': 40}. Best is trial 31 with value: 0.8778174280391488.\u001b[0m\n"
     ]
    },
    {
     "name": "stdout",
     "output_type": "stream",
     "text": [
      "[LightGBM] [Warning] feature_fraction is set=0.5783383950552317, colsample_bytree=1.0 will be ignored. Current value: feature_fraction=0.5783383950552317\n",
      "[LightGBM] [Warning] lambda_l1 is set=0.00046161710645862983, reg_alpha=0.0 will be ignored. Current value: lambda_l1=0.00046161710645862983\n",
      "[LightGBM] [Warning] bagging_fraction is set=0.8012457087068369, subsample=1.0 will be ignored. Current value: bagging_fraction=0.8012457087068369\n",
      "[LightGBM] [Warning] lambda_l2 is set=0.00041495437556833445, reg_lambda=0.0 will be ignored. Current value: lambda_l2=0.00041495437556833445\n",
      "[LightGBM] [Warning] bagging_freq is set=2, subsample_freq=0 will be ignored. Current value: bagging_freq=2\n"
     ]
    },
    {
     "name": "stderr",
     "output_type": "stream",
     "text": [
      "\u001b[32m[I 2022-11-25 00:25:20,055]\u001b[0m Trial 79 finished with value: 0.8775812757471596 and parameters: {'lambda_l1': 0.00046161710645862983, 'lambda_l2': 0.00041495437556833445, 'num_leaves': 89, 'feature_fraction': 0.5783383950552317, 'bagging_fraction': 0.8012457087068369, 'bagging_freq': 2, 'min_child_samples': 23}. Best is trial 31 with value: 0.8778174280391488.\u001b[0m\n"
     ]
    },
    {
     "name": "stdout",
     "output_type": "stream",
     "text": [
      "[LightGBM] [Warning] feature_fraction is set=0.5484763091875019, colsample_bytree=1.0 will be ignored. Current value: feature_fraction=0.5484763091875019\n",
      "[LightGBM] [Warning] lambda_l1 is set=9.80444469109467e-08, reg_alpha=0.0 will be ignored. Current value: lambda_l1=9.80444469109467e-08\n",
      "[LightGBM] [Warning] bagging_fraction is set=0.8748098415636968, subsample=1.0 will be ignored. Current value: bagging_fraction=0.8748098415636968\n",
      "[LightGBM] [Warning] lambda_l2 is set=1.1669093811485601e-05, reg_lambda=0.0 will be ignored. Current value: lambda_l2=1.1669093811485601e-05\n",
      "[LightGBM] [Warning] bagging_freq is set=1, subsample_freq=0 will be ignored. Current value: bagging_freq=1\n"
     ]
    },
    {
     "name": "stderr",
     "output_type": "stream",
     "text": [
      "\u001b[32m[I 2022-11-25 00:25:21,335]\u001b[0m Trial 80 finished with value: 0.8775156778882738 and parameters: {'lambda_l1': 9.80444469109467e-08, 'lambda_l2': 1.1669093811485601e-05, 'num_leaves': 111, 'feature_fraction': 0.5484763091875019, 'bagging_fraction': 0.8748098415636968, 'bagging_freq': 1, 'min_child_samples': 53}. Best is trial 31 with value: 0.8778174280391488.\u001b[0m\n"
     ]
    },
    {
     "name": "stdout",
     "output_type": "stream",
     "text": [
      "[LightGBM] [Warning] feature_fraction is set=0.7059510837526272, colsample_bytree=1.0 will be ignored. Current value: feature_fraction=0.7059510837526272\n",
      "[LightGBM] [Warning] lambda_l1 is set=0.0002474959671267613, reg_alpha=0.0 will be ignored. Current value: lambda_l1=0.0002474959671267613\n",
      "[LightGBM] [Warning] bagging_fraction is set=0.8395479022941719, subsample=1.0 will be ignored. Current value: bagging_fraction=0.8395479022941719\n",
      "[LightGBM] [Warning] lambda_l2 is set=4.240653914036182e-07, reg_lambda=0.0 will be ignored. Current value: lambda_l2=4.240653914036182e-07\n",
      "[LightGBM] [Warning] bagging_freq is set=3, subsample_freq=0 will be ignored. Current value: bagging_freq=3\n"
     ]
    },
    {
     "name": "stderr",
     "output_type": "stream",
     "text": [
      "\u001b[32m[I 2022-11-25 00:25:22,827]\u001b[0m Trial 81 finished with value: 0.8775943953189368 and parameters: {'lambda_l1': 0.0002474959671267613, 'lambda_l2': 4.240653914036182e-07, 'num_leaves': 133, 'feature_fraction': 0.7059510837526272, 'bagging_fraction': 0.8395479022941719, 'bagging_freq': 3, 'min_child_samples': 29}. Best is trial 31 with value: 0.8778174280391488.\u001b[0m\n"
     ]
    },
    {
     "name": "stdout",
     "output_type": "stream",
     "text": [
      "[LightGBM] [Warning] feature_fraction is set=0.9525548181192572, colsample_bytree=1.0 will be ignored. Current value: feature_fraction=0.9525548181192572\n",
      "[LightGBM] [Warning] lambda_l1 is set=0.005826480880344107, reg_alpha=0.0 will be ignored. Current value: lambda_l1=0.005826480880344107\n",
      "[LightGBM] [Warning] bagging_fraction is set=0.9535347231965888, subsample=1.0 will be ignored. Current value: bagging_fraction=0.9535347231965888\n",
      "[LightGBM] [Warning] lambda_l2 is set=2.2571032600017444e-06, reg_lambda=0.0 will be ignored. Current value: lambda_l2=2.2571032600017444e-06\n",
      "[LightGBM] [Warning] bagging_freq is set=2, subsample_freq=0 will be ignored. Current value: bagging_freq=2\n"
     ]
    },
    {
     "name": "stderr",
     "output_type": "stream",
     "text": [
      "\u001b[32m[I 2022-11-25 00:25:24,262]\u001b[0m Trial 82 finished with value: 0.8775287974600509 and parameters: {'lambda_l1': 0.005826480880344107, 'lambda_l2': 2.2571032600017444e-06, 'num_leaves': 64, 'feature_fraction': 0.9525548181192572, 'bagging_fraction': 0.9535347231965888, 'bagging_freq': 2, 'min_child_samples': 49}. Best is trial 31 with value: 0.8778174280391488.\u001b[0m\n"
     ]
    },
    {
     "name": "stdout",
     "output_type": "stream",
     "text": [
      "[LightGBM] [Warning] feature_fraction is set=0.48430674216895164, colsample_bytree=1.0 will be ignored. Current value: feature_fraction=0.48430674216895164\n",
      "[LightGBM] [Warning] lambda_l1 is set=0.00010468838114027358, reg_alpha=0.0 will be ignored. Current value: lambda_l1=0.00010468838114027358\n",
      "[LightGBM] [Warning] bagging_fraction is set=0.8529381095515184, subsample=1.0 will be ignored. Current value: bagging_fraction=0.8529381095515184\n",
      "[LightGBM] [Warning] lambda_l2 is set=2.0173990801088775e-07, reg_lambda=0.0 will be ignored. Current value: lambda_l2=2.0173990801088775e-07\n",
      "[LightGBM] [Warning] bagging_freq is set=2, subsample_freq=0 will be ignored. Current value: bagging_freq=2\n"
     ]
    },
    {
     "name": "stderr",
     "output_type": "stream",
     "text": [
      "\u001b[32m[I 2022-11-25 00:25:25,628]\u001b[0m Trial 83 finished with value: 0.8775812757471596 and parameters: {'lambda_l1': 0.00010468838114027358, 'lambda_l2': 2.0173990801088775e-07, 'num_leaves': 90, 'feature_fraction': 0.48430674216895164, 'bagging_fraction': 0.8529381095515184, 'bagging_freq': 2, 'min_child_samples': 41}. Best is trial 31 with value: 0.8778174280391488.\u001b[0m\n"
     ]
    },
    {
     "name": "stdout",
     "output_type": "stream",
     "text": [
      "[LightGBM] [Warning] feature_fraction is set=0.5279277296688938, colsample_bytree=1.0 will be ignored. Current value: feature_fraction=0.5279277296688938\n",
      "[LightGBM] [Warning] lambda_l1 is set=0.000385038992305222, reg_alpha=0.0 will be ignored. Current value: lambda_l1=0.000385038992305222\n",
      "[LightGBM] [Warning] bagging_fraction is set=0.8411756901289474, subsample=1.0 will be ignored. Current value: bagging_fraction=0.8411756901289474\n",
      "[LightGBM] [Warning] lambda_l2 is set=5.854377096852172e-08, reg_lambda=0.0 will be ignored. Current value: lambda_l2=5.854377096852172e-08\n",
      "[LightGBM] [Warning] bagging_freq is set=2, subsample_freq=0 will be ignored. Current value: bagging_freq=2\n"
     ]
    },
    {
     "name": "stderr",
     "output_type": "stream",
     "text": [
      "\u001b[32m[I 2022-11-25 00:25:26,928]\u001b[0m Trial 84 finished with value: 0.8775550366036052 and parameters: {'lambda_l1': 0.000385038992305222, 'lambda_l2': 5.854377096852172e-08, 'num_leaves': 81, 'feature_fraction': 0.5279277296688938, 'bagging_fraction': 0.8411756901289474, 'bagging_freq': 2, 'min_child_samples': 36}. Best is trial 31 with value: 0.8778174280391488.\u001b[0m\n"
     ]
    },
    {
     "name": "stdout",
     "output_type": "stream",
     "text": [
      "[LightGBM] [Warning] feature_fraction is set=0.6044159474151322, colsample_bytree=1.0 will be ignored. Current value: feature_fraction=0.6044159474151322\n",
      "[LightGBM] [Warning] lambda_l1 is set=2.836701018990359e-08, reg_alpha=0.0 will be ignored. Current value: lambda_l1=2.836701018990359e-08\n",
      "[LightGBM] [Warning] bagging_fraction is set=0.8237211069696375, subsample=1.0 will be ignored. Current value: bagging_fraction=0.8237211069696375\n",
      "[LightGBM] [Warning] lambda_l2 is set=1.6739351374350467e-07, reg_lambda=0.0 will be ignored. Current value: lambda_l2=1.6739351374350467e-07\n",
      "[LightGBM] [Warning] bagging_freq is set=2, subsample_freq=0 will be ignored. Current value: bagging_freq=2\n"
     ]
    },
    {
     "name": "stderr",
     "output_type": "stream",
     "text": [
      "\u001b[32m[I 2022-11-25 00:25:28,459]\u001b[0m Trial 85 finished with value: 0.8774894387447194 and parameters: {'lambda_l1': 2.836701018990359e-08, 'lambda_l2': 1.6739351374350467e-07, 'num_leaves': 140, 'feature_fraction': 0.6044159474151322, 'bagging_fraction': 0.8237211069696375, 'bagging_freq': 2, 'min_child_samples': 42}. Best is trial 31 with value: 0.8778174280391488.\u001b[0m\n"
     ]
    },
    {
     "name": "stdout",
     "output_type": "stream",
     "text": [
      "[LightGBM] [Warning] feature_fraction is set=0.524604037762991, colsample_bytree=1.0 will be ignored. Current value: feature_fraction=0.524604037762991\n",
      "[LightGBM] [Warning] lambda_l1 is set=4.78597908988888e-05, reg_alpha=0.0 will be ignored. Current value: lambda_l1=4.78597908988888e-05\n",
      "[LightGBM] [Warning] bagging_fraction is set=0.922111730149687, subsample=1.0 will be ignored. Current value: bagging_fraction=0.922111730149687\n",
      "[LightGBM] [Warning] lambda_l2 is set=5.755045825445986e-06, reg_lambda=0.0 will be ignored. Current value: lambda_l2=5.755045825445986e-06\n",
      "[LightGBM] [Warning] bagging_freq is set=7, subsample_freq=0 will be ignored. Current value: bagging_freq=7\n"
     ]
    },
    {
     "name": "stderr",
     "output_type": "stream",
     "text": [
      "\u001b[32m[I 2022-11-25 00:25:29,749]\u001b[0m Trial 86 finished with value: 0.8775943953189368 and parameters: {'lambda_l1': 4.78597908988888e-05, 'lambda_l2': 5.755045825445986e-06, 'num_leaves': 74, 'feature_fraction': 0.524604037762991, 'bagging_fraction': 0.922111730149687, 'bagging_freq': 7, 'min_child_samples': 33}. Best is trial 31 with value: 0.8778174280391488.\u001b[0m\n"
     ]
    },
    {
     "name": "stdout",
     "output_type": "stream",
     "text": [
      "[LightGBM] [Warning] feature_fraction is set=0.7502122393009965, colsample_bytree=1.0 will be ignored. Current value: feature_fraction=0.7502122393009965\n",
      "[LightGBM] [Warning] lambda_l1 is set=0.031098795877770515, reg_alpha=0.0 will be ignored. Current value: lambda_l1=0.031098795877770515\n",
      "[LightGBM] [Warning] bagging_fraction is set=0.9748960292169442, subsample=1.0 will be ignored. Current value: bagging_fraction=0.9748960292169442\n",
      "[LightGBM] [Warning] lambda_l2 is set=7.99209242963025e-07, reg_lambda=0.0 will be ignored. Current value: lambda_l2=7.99209242963025e-07\n",
      "[LightGBM] [Warning] bagging_freq is set=3, subsample_freq=0 will be ignored. Current value: bagging_freq=3\n"
     ]
    },
    {
     "name": "stderr",
     "output_type": "stream",
     "text": [
      "\u001b[32m[I 2022-11-25 00:25:31,072]\u001b[0m Trial 87 finished with value: 0.8775812757471596 and parameters: {'lambda_l1': 0.031098795877770515, 'lambda_l2': 7.99209242963025e-07, 'num_leaves': 53, 'feature_fraction': 0.7502122393009965, 'bagging_fraction': 0.9748960292169442, 'bagging_freq': 3, 'min_child_samples': 94}. Best is trial 31 with value: 0.8778174280391488.\u001b[0m\n"
     ]
    },
    {
     "name": "stdout",
     "output_type": "stream",
     "text": [
      "[LightGBM] [Warning] feature_fraction is set=0.588235059874067, colsample_bytree=1.0 will be ignored. Current value: feature_fraction=0.588235059874067\n",
      "[LightGBM] [Warning] lambda_l1 is set=0.0013305211757305474, reg_alpha=0.0 will be ignored. Current value: lambda_l1=0.0013305211757305474\n",
      "[LightGBM] [Warning] bagging_fraction is set=0.8728721511338314, subsample=1.0 will be ignored. Current value: bagging_fraction=0.8728721511338314\n",
      "[LightGBM] [Warning] lambda_l2 is set=1.4989195874884947e-06, reg_lambda=0.0 will be ignored. Current value: lambda_l2=1.4989195874884947e-06\n",
      "[LightGBM] [Warning] bagging_freq is set=1, subsample_freq=0 will be ignored. Current value: bagging_freq=1\n"
     ]
    },
    {
     "name": "stderr",
     "output_type": "stream",
     "text": [
      "\u001b[32m[I 2022-11-25 00:25:32,415]\u001b[0m Trial 88 finished with value: 0.8776599931778227 and parameters: {'lambda_l1': 0.0013305211757305474, 'lambda_l2': 1.4989195874884947e-06, 'num_leaves': 46, 'feature_fraction': 0.588235059874067, 'bagging_fraction': 0.8728721511338314, 'bagging_freq': 1, 'min_child_samples': 45}. Best is trial 31 with value: 0.8778174280391488.\u001b[0m\n"
     ]
    },
    {
     "name": "stdout",
     "output_type": "stream",
     "text": [
      "[LightGBM] [Warning] feature_fraction is set=0.5041674400120973, colsample_bytree=1.0 will be ignored. Current value: feature_fraction=0.5041674400120973\n",
      "[LightGBM] [Warning] lambda_l1 is set=3.581078352411482e-05, reg_alpha=0.0 will be ignored. Current value: lambda_l1=3.581078352411482e-05\n",
      "[LightGBM] [Warning] bagging_fraction is set=0.8994278188610904, subsample=1.0 will be ignored. Current value: bagging_fraction=0.8994278188610904\n",
      "[LightGBM] [Warning] lambda_l2 is set=1.4226641535762383e-07, reg_lambda=0.0 will be ignored. Current value: lambda_l2=1.4226641535762383e-07\n",
      "[LightGBM] [Warning] bagging_freq is set=2, subsample_freq=0 will be ignored. Current value: bagging_freq=2\n"
     ]
    },
    {
     "name": "stderr",
     "output_type": "stream",
     "text": [
      "\u001b[32m[I 2022-11-25 00:25:33,797]\u001b[0m Trial 89 finished with value: 0.8773451234551705 and parameters: {'lambda_l1': 3.581078352411482e-05, 'lambda_l2': 1.4226641535762383e-07, 'num_leaves': 103, 'feature_fraction': 0.5041674400120973, 'bagging_fraction': 0.8994278188610904, 'bagging_freq': 2, 'min_child_samples': 31}. Best is trial 31 with value: 0.8778174280391488.\u001b[0m\n"
     ]
    },
    {
     "name": "stdout",
     "output_type": "stream",
     "text": [
      "[LightGBM] [Warning] feature_fraction is set=0.6834665959854029, colsample_bytree=1.0 will be ignored. Current value: feature_fraction=0.6834665959854029\n",
      "[LightGBM] [Warning] lambda_l1 is set=1.0354694284947716e-05, reg_alpha=0.0 will be ignored. Current value: lambda_l1=1.0354694284947716e-05\n",
      "[LightGBM] [Warning] bagging_fraction is set=0.8700018115513959, subsample=1.0 will be ignored. Current value: bagging_fraction=0.8700018115513959\n",
      "[LightGBM] [Warning] lambda_l2 is set=2.7984888875796674e-06, reg_lambda=0.0 will be ignored. Current value: lambda_l2=2.7984888875796674e-06\n",
      "[LightGBM] [Warning] bagging_freq is set=1, subsample_freq=0 will be ignored. Current value: bagging_freq=1\n"
     ]
    },
    {
     "name": "stderr",
     "output_type": "stream",
     "text": [
      "\u001b[32m[I 2022-11-25 00:25:34,700]\u001b[0m Trial 90 finished with value: 0.8776206344624912 and parameters: {'lambda_l1': 1.0354694284947716e-05, 'lambda_l2': 2.7984888875796674e-06, 'num_leaves': 11, 'feature_fraction': 0.6834665959854029, 'bagging_fraction': 0.8700018115513959, 'bagging_freq': 1, 'min_child_samples': 53}. Best is trial 31 with value: 0.8778174280391488.\u001b[0m\n"
     ]
    },
    {
     "name": "stdout",
     "output_type": "stream",
     "text": [
      "[LightGBM] [Warning] feature_fraction is set=0.6259101605634729, colsample_bytree=1.0 will be ignored. Current value: feature_fraction=0.6259101605634729\n",
      "[LightGBM] [Warning] lambda_l1 is set=0.0006155528322109085, reg_alpha=0.0 will be ignored. Current value: lambda_l1=0.0006155528322109085\n",
      "[LightGBM] [Warning] bagging_fraction is set=0.8614233382777534, subsample=1.0 will be ignored. Current value: bagging_fraction=0.8614233382777534\n",
      "[LightGBM] [Warning] lambda_l2 is set=2.8677516148396646e-07, reg_lambda=0.0 will be ignored. Current value: lambda_l2=2.8677516148396646e-07\n",
      "[LightGBM] [Warning] bagging_freq is set=2, subsample_freq=0 will be ignored. Current value: bagging_freq=2\n"
     ]
    },
    {
     "name": "stderr",
     "output_type": "stream",
     "text": [
      "\u001b[32m[I 2022-11-25 00:25:35,961]\u001b[0m Trial 91 finished with value: 0.8775550366036052 and parameters: {'lambda_l1': 0.0006155528322109085, 'lambda_l2': 2.8677516148396646e-07, 'num_leaves': 62, 'feature_fraction': 0.6259101605634729, 'bagging_fraction': 0.8614233382777534, 'bagging_freq': 2, 'min_child_samples': 40}. Best is trial 31 with value: 0.8778174280391488.\u001b[0m\n"
     ]
    },
    {
     "name": "stdout",
     "output_type": "stream",
     "text": [
      "[LightGBM] [Warning] feature_fraction is set=0.5552867259084395, colsample_bytree=1.0 will be ignored. Current value: feature_fraction=0.5552867259084395\n",
      "[LightGBM] [Warning] lambda_l1 is set=4.199720628913132e-06, reg_alpha=0.0 will be ignored. Current value: lambda_l1=4.199720628913132e-06\n",
      "[LightGBM] [Warning] bagging_fraction is set=0.9339614441187668, subsample=1.0 will be ignored. Current value: bagging_fraction=0.9339614441187668\n",
      "[LightGBM] [Warning] lambda_l2 is set=7.99660030261492e-08, reg_lambda=0.0 will be ignored. Current value: lambda_l2=7.99660030261492e-08\n",
      "[LightGBM] [Warning] bagging_freq is set=3, subsample_freq=0 will be ignored. Current value: bagging_freq=3\n"
     ]
    },
    {
     "name": "stderr",
     "output_type": "stream",
     "text": [
      "\u001b[32m[I 2022-11-25 00:25:37,283]\u001b[0m Trial 92 finished with value: 0.8776468736060455 and parameters: {'lambda_l1': 4.199720628913132e-06, 'lambda_l2': 7.99660030261492e-08, 'num_leaves': 55, 'feature_fraction': 0.5552867259084395, 'bagging_fraction': 0.9339614441187668, 'bagging_freq': 3, 'min_child_samples': 80}. Best is trial 31 with value: 0.8778174280391488.\u001b[0m\n"
     ]
    },
    {
     "name": "stdout",
     "output_type": "stream",
     "text": [
      "[LightGBM] [Warning] feature_fraction is set=0.5703629375301204, colsample_bytree=1.0 will be ignored. Current value: feature_fraction=0.5703629375301204\n",
      "[LightGBM] [Warning] lambda_l1 is set=8.637168519430587e-05, reg_alpha=0.0 will be ignored. Current value: lambda_l1=8.637168519430587e-05\n",
      "[LightGBM] [Warning] bagging_fraction is set=0.8128544287082226, subsample=1.0 will be ignored. Current value: bagging_fraction=0.8128544287082226\n",
      "[LightGBM] [Warning] lambda_l2 is set=6.892694681120606e-07, reg_lambda=0.0 will be ignored. Current value: lambda_l2=6.892694681120606e-07\n",
      "[LightGBM] [Warning] bagging_freq is set=2, subsample_freq=0 will be ignored. Current value: bagging_freq=2\n"
     ]
    },
    {
     "name": "stderr",
     "output_type": "stream",
     "text": [
      "\u001b[32m[I 2022-11-25 00:25:38,845]\u001b[0m Trial 93 finished with value: 0.8775943953189368 and parameters: {'lambda_l1': 8.637168519430587e-05, 'lambda_l2': 6.892694681120606e-07, 'num_leaves': 146, 'feature_fraction': 0.5703629375301204, 'bagging_fraction': 0.8128544287082226, 'bagging_freq': 2, 'min_child_samples': 47}. Best is trial 31 with value: 0.8778174280391488.\u001b[0m\n"
     ]
    },
    {
     "name": "stdout",
     "output_type": "stream",
     "text": [
      "[LightGBM] [Warning] feature_fraction is set=0.6603987475701555, colsample_bytree=1.0 will be ignored. Current value: feature_fraction=0.6603987475701555\n",
      "[LightGBM] [Warning] lambda_l1 is set=0.00019461950105059092, reg_alpha=0.0 will be ignored. Current value: lambda_l1=0.00019461950105059092\n",
      "[LightGBM] [Warning] bagging_fraction is set=0.9160180601724706, subsample=1.0 will be ignored. Current value: bagging_fraction=0.9160180601724706\n",
      "[LightGBM] [Warning] lambda_l2 is set=2.8952016117454477e-08, reg_lambda=0.0 will be ignored. Current value: lambda_l2=2.8952016117454477e-08\n",
      "[LightGBM] [Warning] bagging_freq is set=3, subsample_freq=0 will be ignored. Current value: bagging_freq=3\n"
     ]
    },
    {
     "name": "stderr",
     "output_type": "stream",
     "text": [
      "\u001b[32m[I 2022-11-25 00:25:39,953]\u001b[0m Trial 94 finished with value: 0.8776337540342684 and parameters: {'lambda_l1': 0.00019461950105059092, 'lambda_l2': 2.8952016117454477e-08, 'num_leaves': 25, 'feature_fraction': 0.6603987475701555, 'bagging_fraction': 0.9160180601724706, 'bagging_freq': 3, 'min_child_samples': 71}. Best is trial 31 with value: 0.8778174280391488.\u001b[0m\n"
     ]
    },
    {
     "name": "stdout",
     "output_type": "stream",
     "text": [
      "[LightGBM] [Warning] feature_fraction is set=0.4838783672683339, colsample_bytree=1.0 will be ignored. Current value: feature_fraction=0.4838783672683339\n",
      "[LightGBM] [Warning] lambda_l1 is set=0.0024865440048514606, reg_alpha=0.0 will be ignored. Current value: lambda_l1=0.0024865440048514606\n",
      "[LightGBM] [Warning] bagging_fraction is set=0.8442137524910663, subsample=1.0 will be ignored. Current value: bagging_fraction=0.8442137524910663\n",
      "[LightGBM] [Warning] lambda_l2 is set=1.3070139174673659e-07, reg_lambda=0.0 will be ignored. Current value: lambda_l2=1.3070139174673659e-07\n",
      "[LightGBM] [Warning] bagging_freq is set=2, subsample_freq=0 will be ignored. Current value: bagging_freq=2\n"
     ]
    },
    {
     "name": "stderr",
     "output_type": "stream",
     "text": [
      "\u001b[32m[I 2022-11-25 00:25:41,250]\u001b[0m Trial 95 finished with value: 0.8774500800293878 and parameters: {'lambda_l1': 0.0024865440048514606, 'lambda_l2': 1.3070139174673659e-07, 'num_leaves': 80, 'feature_fraction': 0.4838783672683339, 'bagging_fraction': 0.8442137524910663, 'bagging_freq': 2, 'min_child_samples': 44}. Best is trial 31 with value: 0.8778174280391488.\u001b[0m\n"
     ]
    },
    {
     "name": "stdout",
     "output_type": "stream",
     "text": [
      "[LightGBM] [Warning] feature_fraction is set=0.5296248812131067, colsample_bytree=1.0 will be ignored. Current value: feature_fraction=0.5296248812131067\n",
      "[LightGBM] [Warning] lambda_l1 is set=0.006297052536911401, reg_alpha=0.0 will be ignored. Current value: lambda_l1=0.006297052536911401\n",
      "[LightGBM] [Warning] bagging_fraction is set=0.7777437061433374, subsample=1.0 will be ignored. Current value: bagging_fraction=0.7777437061433374\n",
      "[LightGBM] [Warning] lambda_l2 is set=3.6047094656582287e-07, reg_lambda=0.0 will be ignored. Current value: lambda_l2=3.6047094656582287e-07\n",
      "[LightGBM] [Warning] bagging_freq is set=2, subsample_freq=0 will be ignored. Current value: bagging_freq=2\n"
     ]
    },
    {
     "name": "stderr",
     "output_type": "stream",
     "text": [
      "\u001b[32m[I 2022-11-25 00:25:42,486]\u001b[0m Trial 96 finished with value: 0.8775812757471596 and parameters: {'lambda_l1': 0.006297052536911401, 'lambda_l2': 3.6047094656582287e-07, 'num_leaves': 67, 'feature_fraction': 0.5296248812131067, 'bagging_fraction': 0.7777437061433374, 'bagging_freq': 2, 'min_child_samples': 51}. Best is trial 31 with value: 0.8778174280391488.\u001b[0m\n"
     ]
    },
    {
     "name": "stdout",
     "output_type": "stream",
     "text": [
      "[LightGBM] [Warning] feature_fraction is set=0.6038447393493979, colsample_bytree=1.0 will be ignored. Current value: feature_fraction=0.6038447393493979\n",
      "[LightGBM] [Warning] lambda_l1 is set=2.828049479671846e-07, reg_alpha=0.0 will be ignored. Current value: lambda_l1=2.828049479671846e-07\n",
      "[LightGBM] [Warning] bagging_fraction is set=0.6754832208512028, subsample=1.0 will be ignored. Current value: bagging_fraction=0.6754832208512028\n",
      "[LightGBM] [Warning] lambda_l2 is set=0.00016687609383959237, reg_lambda=0.0 will be ignored. Current value: lambda_l2=0.00016687609383959237\n",
      "[LightGBM] [Warning] bagging_freq is set=4, subsample_freq=0 will be ignored. Current value: bagging_freq=4\n"
     ]
    },
    {
     "name": "stderr",
     "output_type": "stream",
     "text": [
      "\u001b[32m[I 2022-11-25 00:25:44,082]\u001b[0m Trial 97 finished with value: 0.8767809818687518 and parameters: {'lambda_l1': 2.828049479671846e-07, 'lambda_l2': 0.00016687609383959237, 'num_leaves': 166, 'feature_fraction': 0.6038447393493979, 'bagging_fraction': 0.6754832208512028, 'bagging_freq': 4, 'min_child_samples': 84}. Best is trial 31 with value: 0.8778174280391488.\u001b[0m\n"
     ]
    },
    {
     "name": "stdout",
     "output_type": "stream",
     "text": [
      "[LightGBM] [Warning] feature_fraction is set=0.8733688987047782, colsample_bytree=1.0 will be ignored. Current value: feature_fraction=0.8733688987047782\n",
      "[LightGBM] [Warning] lambda_l1 is set=2.7917216441064407e-06, reg_alpha=0.0 will be ignored. Current value: lambda_l1=2.7917216441064407e-06\n",
      "[LightGBM] [Warning] bagging_fraction is set=0.7979230637482104, subsample=1.0 will be ignored. Current value: bagging_fraction=0.7979230637482104\n",
      "[LightGBM] [Warning] lambda_l2 is set=2.201821029894217e-05, reg_lambda=0.0 will be ignored. Current value: lambda_l2=2.201821029894217e-05\n",
      "[LightGBM] [Warning] bagging_freq is set=5, subsample_freq=0 will be ignored. Current value: bagging_freq=5\n"
     ]
    },
    {
     "name": "stderr",
     "output_type": "stream",
     "text": [
      "\u001b[32m[I 2022-11-25 00:25:45,242]\u001b[0m Trial 98 finished with value: 0.8776468736060455 and parameters: {'lambda_l1': 2.7917216441064407e-06, 'lambda_l2': 2.201821029894217e-05, 'num_leaves': 42, 'feature_fraction': 0.8733688987047782, 'bagging_fraction': 0.7979230637482104, 'bagging_freq': 5, 'min_child_samples': 100}. Best is trial 31 with value: 0.8778174280391488.\u001b[0m\n"
     ]
    },
    {
     "name": "stdout",
     "output_type": "stream",
     "text": [
      "[LightGBM] [Warning] feature_fraction is set=0.6301021800874738, colsample_bytree=1.0 will be ignored. Current value: feature_fraction=0.6301021800874738\n",
      "[LightGBM] [Warning] lambda_l1 is set=7.264981275303488e-07, reg_alpha=0.0 will be ignored. Current value: lambda_l1=7.264981275303488e-07\n",
      "[LightGBM] [Warning] bagging_fraction is set=0.4302399096267171, subsample=1.0 will be ignored. Current value: bagging_fraction=0.4302399096267171\n",
      "[LightGBM] [Warning] lambda_l2 is set=1.192309997226024e-06, reg_lambda=0.0 will be ignored. Current value: lambda_l2=1.192309997226024e-06\n",
      "[LightGBM] [Warning] bagging_freq is set=1, subsample_freq=0 will be ignored. Current value: bagging_freq=1\n"
     ]
    },
    {
     "name": "stderr",
     "output_type": "stream",
     "text": [
      "\u001b[32m[I 2022-11-25 00:25:46,455]\u001b[0m Trial 99 finished with value: 0.8773713625987247 and parameters: {'lambda_l1': 7.264981275303488e-07, 'lambda_l2': 1.192309997226024e-06, 'num_leaves': 59, 'feature_fraction': 0.6301021800874738, 'bagging_fraction': 0.4302399096267171, 'bagging_freq': 1, 'min_child_samples': 59}. Best is trial 31 with value: 0.8778174280391488.\u001b[0m\n"
     ]
    }
   ],
   "source": [
    "sampler = TPESampler(seed=1)\n",
    "study = optuna.create_study(study_name=\"lightgbm\", direction=\"maximize\", sampler=sampler)\n",
    "study.optimize(objective, n_trials=100)"
   ]
  },
  {
   "cell_type": "code",
   "execution_count": 40,
   "id": "c2d34488",
   "metadata": {},
   "outputs": [
    {
     "name": "stdout",
     "output_type": "stream",
     "text": [
      "Number of finished trials: 100\n",
      "Best trial:\n",
      "  Value: 0.8778174280391488\n",
      "  Params: \n",
      "    lambda_l1: 4.2444913646491935e-07\n",
      "    lambda_l2: 1.1706554940464663e-06\n",
      "    num_leaves: 120\n",
      "    feature_fraction: 0.6344516320528356\n",
      "    bagging_fraction: 0.8550986836911924\n",
      "    bagging_freq: 2\n",
      "    min_child_samples: 48\n"
     ]
    }
   ],
   "source": [
    "print(\"Number of finished trials: {}\".format(len(study.trials)))\n",
    "\n",
    "print(\"Best trial:\")\n",
    "trial = study.best_trial\n",
    "\n",
    "print(\"  Value: {}\".format(trial.value))\n",
    "\n",
    "print(\"  Params: \")\n",
    "for key, value in trial.params.items():\n",
    "    print(\"    {}: {}\".format(key, value))"
   ]
  },
  {
   "cell_type": "markdown",
   "id": "d1e5256d",
   "metadata": {},
   "source": [
    "# 8.0 Model Performance "
   ]
  },
  {
   "cell_type": "code",
   "execution_count": 41,
   "id": "eeaabebd",
   "metadata": {},
   "outputs": [
    {
     "name": "stdout",
     "output_type": "stream",
     "text": [
      "[LightGBM] [Warning] feature_fraction is set=0.6344516320528356, colsample_bytree=1.0 will be ignored. Current value: feature_fraction=0.6344516320528356\n",
      "[LightGBM] [Warning] lambda_l1 is set=4.2444913646491935e-07, reg_alpha=0.0 will be ignored. Current value: lambda_l1=4.2444913646491935e-07\n",
      "[LightGBM] [Warning] bagging_fraction is set=0.8550986836911924, subsample=1.0 will be ignored. Current value: bagging_fraction=0.8550986836911924\n",
      "[LightGBM] [Warning] lambda_l2 is set=1.1706554940464663e-06, reg_lambda=0.0 will be ignored. Current value: lambda_l2=1.1706554940464663e-06\n",
      "[LightGBM] [Warning] bagging_freq is set=2, subsample_freq=0 will be ignored. Current value: bagging_freq=2\n"
     ]
    }
   ],
   "source": [
    "# applying the best parameters obtained\n",
    "model_f = LGBMClassifier(**study.best_params)\n",
    "model_f.fit(x_train, y_train)\n",
    "\n",
    "yhat_f = model_f.predict_proba(x_val)\n",
    "yhat1_f = model_f.predict(x_val)"
   ]
  },
  {
   "cell_type": "code",
   "execution_count": 42,
   "id": "5eb11a53",
   "metadata": {},
   "outputs": [],
   "source": [
    "# Results for k = 1000.\n",
    "lgbm_final =resultssp(df7, yhat_f, yhat1_f, 'LGBM Final', 1000)"
   ]
  },
  {
   "cell_type": "code",
   "execution_count": 43,
   "id": "c7223bd2",
   "metadata": {},
   "outputs": [
    {
     "data": {
      "text/html": [
       "<div>\n",
       "<style scoped>\n",
       "    .dataframe tbody tr th:only-of-type {\n",
       "        vertical-align: middle;\n",
       "    }\n",
       "\n",
       "    .dataframe tbody tr th {\n",
       "        vertical-align: top;\n",
       "    }\n",
       "\n",
       "    .dataframe thead th {\n",
       "        text-align: right;\n",
       "    }\n",
       "</style>\n",
       "<table border=\"1\" class=\"dataframe\">\n",
       "  <thead>\n",
       "    <tr style=\"text-align: right;\">\n",
       "      <th></th>\n",
       "      <th>Precision @k</th>\n",
       "      <th>Recall @k</th>\n",
       "      <th>Accuracy</th>\n",
       "    </tr>\n",
       "  </thead>\n",
       "  <tbody>\n",
       "    <tr>\n",
       "      <th>LGBM</th>\n",
       "      <td>0.441558</td>\n",
       "      <td>0.047384</td>\n",
       "      <td>0.877306</td>\n",
       "    </tr>\n",
       "    <tr>\n",
       "      <th>LGBM Final</th>\n",
       "      <td>0.450549</td>\n",
       "      <td>0.048349</td>\n",
       "      <td>0.877817</td>\n",
       "    </tr>\n",
       "  </tbody>\n",
       "</table>\n",
       "</div>"
      ],
      "text/plain": [
       "            Precision @k  Recall @k  Accuracy\n",
       "LGBM            0.441558   0.047384  0.877306\n",
       "LGBM Final      0.450549   0.048349  0.877817"
      ]
     },
     "execution_count": 43,
     "metadata": {},
     "output_type": "execute_result"
    }
   ],
   "source": [
    "model_lgbm_final = pd.concat([lgbmr, lgbm_final])\n",
    "model_lgbm_final"
   ]
  },
  {
   "cell_type": "markdown",
   "id": "2c8942cc",
   "metadata": {},
   "source": [
    "Note: The comparative table shows that the LGBM model pre hyperparameters fine tunning obtained approximately equal results. The gains was 0.001."
   ]
  },
  {
   "cell_type": "markdown",
   "id": "3401b671",
   "metadata": {},
   "source": [
    "# 9.0 Business Performance"
   ]
  },
  {
   "cell_type": "code",
   "execution_count": null,
   "id": "1b6b04d8",
   "metadata": {},
   "outputs": [],
   "source": []
  },
  {
   "cell_type": "markdown",
   "id": "d1a18806",
   "metadata": {},
   "source": [
    "### Qual a porcentagem de clientes interessados em seguro veicular, o call center conseguirá contatar fazendo 20 mil ligações?"
   ]
  },
  {
   "cell_type": "code",
   "execution_count": 44,
   "id": "cc8f1a53",
   "metadata": {},
   "outputs": [
    {
     "data": {
      "text/html": [
       "<div>\n",
       "<style scoped>\n",
       "    .dataframe tbody tr th:only-of-type {\n",
       "        vertical-align: middle;\n",
       "    }\n",
       "\n",
       "    .dataframe tbody tr th {\n",
       "        vertical-align: top;\n",
       "    }\n",
       "\n",
       "    .dataframe thead th {\n",
       "        text-align: right;\n",
       "    }\n",
       "</style>\n",
       "<table border=\"1\" class=\"dataframe\">\n",
       "  <thead>\n",
       "    <tr style=\"text-align: right;\">\n",
       "      <th></th>\n",
       "      <th>Precision @k</th>\n",
       "      <th>Recall @k</th>\n",
       "      <th>Accuracy</th>\n",
       "    </tr>\n",
       "  </thead>\n",
       "  <tbody>\n",
       "    <tr>\n",
       "      <th>lgbm</th>\n",
       "      <td>0.332433</td>\n",
       "      <td>0.7128</td>\n",
       "      <td>0.877306</td>\n",
       "    </tr>\n",
       "  </tbody>\n",
       "</table>\n",
       "</div>"
      ],
      "text/plain": [
       "      Precision @k  Recall @k  Accuracy\n",
       "lgbm      0.332433     0.7128  0.877306"
      ]
     },
     "execution_count": 44,
     "metadata": {},
     "output_type": "execute_result"
    }
   ],
   "source": [
    "model_bq_c = resultssp(df7, yhat_lgbm, yhat1_lgbm, 'lgbm', 20000)\n",
    "model_bq_c"
   ]
  },
  {
   "cell_type": "code",
   "execution_count": 45,
   "id": "f70c9d0e",
   "metadata": {},
   "outputs": [
    {
     "data": {
      "image/png": "[encoded data removed]",
      "text/plain": [
       "<Figure size 640x480 with 1 Axes>"
      ]
     },
     "metadata": {},
     "output_type": "display_data"
    }
   ],
   "source": [
    "skplt.metrics.plot_cumulative_gain(y_validation, yhat_lgbm)\n",
    "plt.axvline(20000/len(df7), 0, 1, color='red', ls=':', lw=3)\n",
    "plt.show();"
   ]
  },
  {
   "cell_type": "code",
   "execution_count": 46,
   "id": "47740a01",
   "metadata": {},
   "outputs": [
    {
     "data": {
      "image/png": "[encoded data removed]",
      "text/plain": [
       "<Figure size 640x480 with 1 Axes>"
      ]
     },
     "metadata": {},
     "output_type": "display_data"
    }
   ],
   "source": [
    "skplt.metrics.plot_lift_curve(y_validation, yhat_lgbm)\n",
    "plt.axvline(20000/len(df7), 0, 1, color='red', ls=':', lw=3)\n",
    "plt.show()"
   ]
  },
  {
   "cell_type": "markdown",
   "id": "05eb0d46",
   "metadata": {},
   "source": [
    "### Se a capacidade do call center aumentar para 40 mil ligações, qual a porcentagem de clientes interessados em adquirir um seguro veicular o call center conseguirá contatar?"
   ]
  },
  {
   "cell_type": "code",
   "execution_count": 47,
   "id": "bf948336",
   "metadata": {},
   "outputs": [
    {
     "data": {
      "text/html": [
       "<div>\n",
       "<style scoped>\n",
       "    .dataframe tbody tr th:only-of-type {\n",
       "        vertical-align: middle;\n",
       "    }\n",
       "\n",
       "    .dataframe tbody tr th {\n",
       "        vertical-align: top;\n",
       "    }\n",
       "\n",
       "    .dataframe thead th {\n",
       "        text-align: right;\n",
       "    }\n",
       "</style>\n",
       "<table border=\"1\" class=\"dataframe\">\n",
       "  <thead>\n",
       "    <tr style=\"text-align: right;\">\n",
       "      <th></th>\n",
       "      <th>Precision @k</th>\n",
       "      <th>Recall @k</th>\n",
       "      <th>Accuracy</th>\n",
       "    </tr>\n",
       "  </thead>\n",
       "  <tbody>\n",
       "    <tr>\n",
       "      <th>lgbm</th>\n",
       "      <td>0.232019</td>\n",
       "      <td>0.994961</td>\n",
       "      <td>0.877306</td>\n",
       "    </tr>\n",
       "  </tbody>\n",
       "</table>\n",
       "</div>"
      ],
      "text/plain": [
       "      Precision @k  Recall @k  Accuracy\n",
       "lgbm      0.232019   0.994961  0.877306"
      ]
     },
     "execution_count": 47,
     "metadata": {},
     "output_type": "execute_result"
    }
   ],
   "source": [
    "model_bq_c1 = resultssp(df7, yhat_lgbm, yhat1_lgbm, 'lgbm', 40000)\n",
    "model_bq_c1"
   ]
  },
  {
   "cell_type": "code",
   "execution_count": 48,
   "id": "f8ea44b2",
   "metadata": {},
   "outputs": [
    {
     "data": {
      "text/plain": [
       "<matplotlib.lines.Line2D at 0x1be4ef70c40>"
      ]
     },
     "execution_count": 48,
     "metadata": {},
     "output_type": "execute_result"
    },
    {
     "data": {
      "image/png": "[encoded data removed]",
      "text/plain": [
       "<Figure size 640x480 with 1 Axes>"
      ]
     },
     "metadata": {},
     "output_type": "display_data"
    }
   ],
   "source": [
    "skplt.metrics.plot_cumulative_gain(y_validation, yhat_lgbm)\n",
    "plt.axvline(40000/len(df7), 0, 1, color='red', ls=':', lw=3)"
   ]
  },
  {
   "cell_type": "code",
   "execution_count": 49,
   "id": "c3834b5d",
   "metadata": {},
   "outputs": [
    {
     "data": {
      "image/png": "[encoded data removed]",
      "text/plain": [
       "<Figure size 640x480 with 1 Axes>"
      ]
     },
     "metadata": {},
     "output_type": "display_data"
    }
   ],
   "source": [
    "skplt.metrics.plot_lift_curve(y_validation, yhat_lgbm)\n",
    "plt.axvline(40000/len(df7), 0, 1, color='red', ls=':', lw=3)\n",
    "plt.show()"
   ]
  },
  {
   "cell_type": "markdown",
   "id": "ded849ff",
   "metadata": {},
   "source": [
    "### Quantas ligações o call center precisa fazer para contatar 80% dos clientes interessados em adquirir um seguro veicular?"
   ]
  },
  {
   "cell_type": "code",
   "execution_count": 50,
   "id": "8ba85656",
   "metadata": {},
   "outputs": [
    {
     "data": {
      "text/html": [
       "<div>\n",
       "<style scoped>\n",
       "    .dataframe tbody tr th:only-of-type {\n",
       "        vertical-align: middle;\n",
       "    }\n",
       "\n",
       "    .dataframe tbody tr th {\n",
       "        vertical-align: top;\n",
       "    }\n",
       "\n",
       "    .dataframe thead th {\n",
       "        text-align: right;\n",
       "    }\n",
       "</style>\n",
       "<table border=\"1\" class=\"dataframe\">\n",
       "  <thead>\n",
       "    <tr style=\"text-align: right;\">\n",
       "      <th></th>\n",
       "      <th>Precision @k</th>\n",
       "      <th>Recall @k</th>\n",
       "      <th>Accuracy</th>\n",
       "    </tr>\n",
       "  </thead>\n",
       "  <tbody>\n",
       "    <tr>\n",
       "      <th>lgbm</th>\n",
       "      <td>0.317566</td>\n",
       "      <td>0.80178</td>\n",
       "      <td>0.877306</td>\n",
       "    </tr>\n",
       "  </tbody>\n",
       "</table>\n",
       "</div>"
      ],
      "text/plain": [
       "      Precision @k  Recall @k  Accuracy\n",
       "lgbm      0.317566    0.80178  0.877306"
      ]
     },
     "execution_count": 50,
     "metadata": {},
     "output_type": "execute_result"
    }
   ],
   "source": [
    "model_bq_3 = resultssp(df7, yhat_lgbm, yhat1_lgbm, 'lgbm', 23550)\n",
    "model_bq_3"
   ]
  },
  {
   "cell_type": "code",
   "execution_count": 51,
   "id": "29ca8a01",
   "metadata": {},
   "outputs": [
    {
     "data": {
      "text/plain": [
       "<matplotlib.lines.Line2D at 0x1be4f02e0b0>"
      ]
     },
     "execution_count": 51,
     "metadata": {},
     "output_type": "execute_result"
    },
    {
     "data": {
      "image/png": "[encoded data removed]",
      "text/plain": [
       "<Figure size 640x480 with 1 Axes>"
      ]
     },
     "metadata": {},
     "output_type": "display_data"
    }
   ],
   "source": [
    "skplt.metrics.plot_cumulative_gain(y_validation, yhat_lgbm)\n",
    "plt.axvline(23550/len(df7), 0, 1, color='red', ls=':', lw=3)"
   ]
  },
  {
   "cell_type": "markdown",
   "id": "254ee02d",
   "metadata": {},
   "source": [
    "# 9.0 Production Model "
   ]
  },
  {
   "cell_type": "code",
   "execution_count": 52,
   "id": "801c9142",
   "metadata": {},
   "outputs": [],
   "source": [
    "pickle.dump(lgbm_final, open('C:/Users/PICHAU/repos/pa_hi/pa_hi/src/models/model_lgbm_final.pkl', 'wb'))"
   ]
  },
  {
   "cell_type": "markdown",
   "id": "81c1eb25",
   "metadata": {},
   "source": [
    "# 10.0 Health Insurance Class Create"
   ]
  },
  {
   "cell_type": "code",
   "execution_count": null,
   "id": "6c2b6554",
   "metadata": {},
   "outputs": [],
   "source": [
    "import pickle\n",
    "import pandas as pd\n",
    "import numpy as np\n",
    "\n",
    "class HIClass(objeto):\n",
    "    def __init__(self):\n",
    "        self.home_path = 'C:/Users/PICHAU/repos/pa_hi/pa_hi'\n",
    "        self.annual_premium_scaler = pickle.load(open(self.home_path + 'src/features/annual_premium_scaler.pkl', 'wb'))\n",
    "        self.age_scaler = pickle.load(open(self.home_path + 'src/features/age_scaler.pkl', 'wb'))\n",
    "        self.vintage_scaler = pickle.load(open(self.home_path + 'src/features/vintage_scaler.pkl', 'wb'))\n",
    "        self.target_encode_region_code_scaler = pickle.load(open(self.home_path + '/src/features/target_encode_region_code_scaler.pkl', 'wb'))\n",
    "        self.target_encode_gender_scaler = pickle.load(open(self.home_path + '/src/features/target_encode_gender_scaler.pkl', 'wb'))\n",
    "        self.fe_policy_sales_channel_scaler = pickle.load(open(self.home_path + 'src/features/fe_policy_sales_channel_scaler.pkl', 'wb'))\n",
    "    \n",
    "    def feature_engineering(self, df1):\n",
    "        \n",
    "        df1['Vehicle_Age'] = df1['Vehicle_Age'].apply(lambda x: 'over_2_years'      if x== '> 2 Years' else\n",
    "                                                        'between_1_2_years' if x== '1-2 Year'  else \n",
    "                                                        'below_1_year')\n",
    "        \n",
    "        df1['Vehicle_Damage'] = df1['Vehicle_Damage'].apply(lambda x: 1 if x== 'Yes' else 0)\n",
    "        \n",
    "        return df1\n",
    "    \n",
    "    def data_preparation(self, df2):\n",
    "        # Standardization\n",
    "        #Annual Premium\n",
    "        df2['Annual_Premium'] =  self.annual_premium_scaler.transform(df2[['Annual_Premium']].values)\n",
    "        \n",
    "        # Rescaling\n",
    "        #Age\n",
    "        df2['Age'] = self.age_scaler.transform(df2[['Age']].values)\n",
    "        \n",
    "        #Vintage\n",
    "        df2['Vintage'] = self.vintage_scaler.transform(df2[['Vintage']].values)\n",
    "        \n",
    "        # Encoding\n",
    "        #Gender\n",
    "        target_encode_gender = df2.groupby('Gender')['Response'].mean()\n",
    "        df2.loc[:,'Gender'] = df2['Gender'].map(self.target_encode_gender_scaler)\n",
    "        \n",
    "        #Region_Code\n",
    "        target_encode_region_code = df2.groupby('Region_Code')['Response'].mean()\n",
    "        df2.loc[:,'Region_Code'] = df2['Region_Code'].map(self.target_encode_region_code_scaler)\n",
    "        \n",
    "        #Policy_Sales_Channel\n",
    "        fe_policy_sales_channel = df2.groupby('Policy_Sales_Channel').size() / len(df2)\n",
    "        df2.loc[:,'Policy_Sales_Channel'] = df2['Policy_Sales_Channel'].map(self.fe_policy_sales_channel_scaler)\n",
    "        \n",
    "        #Vehicle_Age\n",
    "        df2 = pd.get_dummies(df2, prefix='Vehicle_Age', columns=['Vehicle_Age'])\n",
    "        \n",
    "        cols_selected = ['Vintage', 'Annual_Premium', 'Age', 'Region_Code', \n",
    "                         'Vehicle_Damage', 'Policy_Sales_Channel', 'Previously_Insured']\n",
    "        \n",
    "        return df2[cols_selected]\n",
    "    \n",
    "     def get_prediction(self, model, original_data, test_data):\n",
    "        # prediction\n",
    "        pred = model.predict(test_data)\n",
    "        \n",
    "        # join pred into the original data\n",
    "        original_data['score'] = pred[:, 1].tolist()\n",
    "        \n",
    "        return original_data.to_json(orient='records', date_format='iso')"
   ]
  },
  {
   "cell_type": "markdown",
   "id": "01339bf0",
   "metadata": {},
   "source": [
    "# 10.1 API Handler"
   ]
  },
  {
   "cell_type": "code",
   "execution_count": null,
   "id": "fc0e7924",
   "metadata": {},
   "outputs": [],
   "source": [
    "import pickle\n",
    "import requests\n",
    "import pandas as pd\n",
    "from flask import Flask, request, Response\n",
    "from health_insurance.HIClass import HIClass\n",
    "\n",
    "# loading model\n",
    "model = pickle.load(open('C:/Users/PICHAU/repos/pa_hi/pa_hi/src/models/model_lgbm_final.pkl', 'rb'))\n",
    "\n",
    "# initialize API\n",
    "app = Flask( __name__ )\n",
    "@app.route('/pahi/predict', methods=['POST'])\n",
    "\n",
    "def pahi_predict():\n",
    "    test_json = request.get_json()\n",
    "    if test_json: # there is data\n",
    "        if isinstance( test_json, dict ): # unique example\n",
    "            test_raw = pd.DataFrame( test_json, index=[0] )\n",
    "        else: # multiple example\n",
    "            test_raw = pd.DataFrame( test_json, columns=test_json[0].keys())\n",
    "            \n",
    "        # Instantiate HIClass class\n",
    "        pipeline = HIClass()\n",
    "\n",
    "        # feature engineering\n",
    "        df1 = pipeline.feature_engineering(test_raw)\n",
    "\n",
    "        # data preparation\n",
    "        df2 = pipeline.data_preparation(df1)\n",
    "\n",
    "        # prediction\n",
    "        df_response = pipeline.get_prediction(model, test_raw, df2)\n",
    "        return df_response\n",
    "    \n",
    "    else:\n",
    "        return Reponse('{}', status=200, mimetype='application/json')\n",
    "    \n",
    "if __name__ == '__main__':\n",
    "    app.run()"
   ]
  },
  {
   "cell_type": "markdown",
   "id": "377c7e80",
   "metadata": {},
   "source": [
    "# 10.2 API Tester "
   ]
  },
  {
   "cell_type": "code",
   "execution_count": null,
   "id": "f37e0f8a",
   "metadata": {},
   "outputs": [],
   "source": [
    " import requests"
   ]
  },
  {
   "cell_type": "code",
   "execution_count": null,
   "id": "8aef783b",
   "metadata": {},
   "outputs": [],
   "source": [
    " # loading test dataset\n",
    "df_test = x_validation\n",
    "df_test['response'] = y_validation"
   ]
  },
  {
   "cell_type": "code",
   "execution_count": null,
   "id": "df65d404",
   "metadata": {},
   "outputs": [],
   "source": [
    "df_test = df_test.sample(10)"
   ]
  },
  {
   "cell_type": "code",
   "execution_count": null,
   "id": "e0b8f957",
   "metadata": {},
   "outputs": [],
   "source": [
    " # convert dataframe to json\n",
    "data = json.dumps(df_test.to_dict(orient='records'))"
   ]
  },
  {
   "cell_type": "code",
   "execution_count": null,
   "id": "0206ce07",
   "metadata": {},
   "outputs": [],
   "source": [
    "data"
   ]
  },
  {
   "cell_type": "code",
   "execution_count": null,
   "id": "2149de67",
   "metadata": {},
   "outputs": [],
   "source": [
    "# API Call\n",
    "url = 'http://0.0.0.0:5000/predict'\n",
    "#url = 'https://health-insurance-model.herokuapp.com/predict'\n",
    "header = {'Content-type': 'application/json' }\n",
    "\n",
    "r = requests.post(url, data=data, headers=header)\n",
    "print('Status Code {}'.format(r.status_code))"
   ]
  },
  {
   "cell_type": "code",
   "execution_count": null,
   "id": "57c9621f",
   "metadata": {},
   "outputs": [],
   "source": [
    "d1 = pd.DataFrame(r.json(), columns=r.json()[0].keys())\n",
    "d1.sort_values('score', ascending=False).head()"
   ]
  }
 ],
 "metadata": {
  "kernelspec": {
   "display_name": "Python 3 (ipykernel)",
   "language": "python",
   "name": "python3"
  },
  "language_info": {
   "codemirror_mode": {
    "name": "ipython",
    "version": 3
   },
   "file_extension": ".py",
   "mimetype": "text/x-python",
   "name": "python",
   "nbconvert_exporter": "python",
   "pygments_lexer": "ipython3",
   "version": "3.9.7"
  },
  "varInspector": {
   "cols": {
    "lenName": 16,
    "lenType": 16,
    "lenVar": 40
   },
   "kernels_config": {
    "python": {
     "delete_cmd_postfix": "",
     "delete_cmd_prefix": "del ",
     "library": "var_list.py",
     "varRefreshCmd": "print(var_dic_list())"
    },
    "r": {
     "delete_cmd_postfix": ") ",
     "delete_cmd_prefix": "rm(",
     "library": "var_list.r",
     "varRefreshCmd": "cat(var_dic_list()) "
    }
   },
   "types_to_exclude": [
    "module",
    "function",
    "builtin_function_or_method",
    "instance",
    "_Feature"
   ],
   "window_display": false
  }
 },
 "nbformat": 4,
 "nbformat_minor": 5
}
